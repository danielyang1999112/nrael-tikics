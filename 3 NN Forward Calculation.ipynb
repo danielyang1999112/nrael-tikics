{
 "cells": [
  {
   "cell_type": "markdown",
   "id": "b05baea4-7025-4743-b716-1985ec000fdb",
   "metadata": {
    "tags": []
   },
   "source": [
    "# Model with json file"
   ]
  },
  {
   "cell_type": "markdown",
   "id": "5a25c4f8-1e8f-4a4b-9ef5-4e4356c36850",
   "metadata": {},
   "source": [
    "- ## Define the Model"
   ]
  },
  {
   "cell_type": "code",
   "execution_count": 64,
   "id": "da9368b9-ea4d-4802-b365-c1610df0a4a9",
   "metadata": {},
   "outputs": [],
   "source": [
    "import pandas as pd\n",
    "import numpy as np\n",
    "import json"
   ]
  },
  {
   "cell_type": "code",
   "execution_count": 65,
   "id": "2a078992-6552-430f-9ff1-35b31a1427f9",
   "metadata": {},
   "outputs": [],
   "source": [
    "weight_dict = json.load(open('data/parameters_w3.json', 'r'))"
   ]
  },
  {
   "cell_type": "code",
   "execution_count": 66,
   "id": "df178834-4836-4376-ae89-dbe085c17aa2",
   "metadata": {},
   "outputs": [],
   "source": [
    "def identity(x):\n",
    "    return x\n",
    "\n",
    "def sigmoid(x):\n",
    "    return 1 / (1 + np.exp(-x))\n",
    "\n",
    "class NeuralNetwork():\n",
    "    \n",
    "    def __init__(self):\n",
    "        weight_dict = json.load(open('data/parameters_w3.json', 'r'))\n",
    "        self.W1 = np.array(weight_dict['0.weight'])\n",
    "        self.b1 = np.array(weight_dict['0.bias'])\n",
    "        self.W2 = np.array(weight_dict['1.weight'])\n",
    "        self.b2 = np.array(weight_dict['1.bias'])\n",
    "\n",
    "    def predict(self, X):\n",
    "        y_pred = (self.predict_proba(X) > 0.5).astype(int) # TODO\n",
    "        return y_pred\n",
    "    \n",
    "    def predict_proba(self, X):\n",
    "        Z2 = X @ self.W1 + self.b1 # TODO\n",
    "        A2 = identity(Z2) # TODO\n",
    "        \n",
    "        Z3 = A2 @ self.W2 + self.b2 # TODO\n",
    "        a3 = sigmoid(Z3) # TODO\n",
    "\n",
    "        return a3"
   ]
  },
  {
   "cell_type": "markdown",
   "id": "0121660f-aebe-4a8f-b9e3-9728782738da",
   "metadata": {},
   "source": [
    "- ## Try the Model"
   ]
  },
  {
   "cell_type": "code",
   "execution_count": 67,
   "id": "76dd9dfe-d0eb-408b-9caa-b418c651473b",
   "metadata": {},
   "outputs": [
    {
     "name": "stdout",
     "output_type": "stream",
     "text": [
      "0.04858943179070452\n",
      "0\n"
     ]
    }
   ],
   "source": [
    "model = NeuralNetwork()\n",
    "\n",
    "df = pd.read_csv('data/test_w3.csv')\n",
    "df = df.iloc[:, :-1]\n",
    "\n",
    "cancer_probability = model.predict_proba(df.iloc[0, :])[0] # GENERATE PROBABILITY OF MALIGNANCY \n",
    "print(cancer_probability)\n",
    "\n",
    "cancer_class = model.predict(df.iloc[0, :])[0] # GENERATE CLASS PREDICTION\n",
    "print(cancer_class)"
   ]
  },
  {
   "cell_type": "markdown",
   "id": "68d6622e-0253-448b-b288-bfacebb235b6",
   "metadata": {},
   "source": [
    "- ## Confusion Matrix"
   ]
  },
  {
   "cell_type": "code",
   "execution_count": 68,
   "id": "dec6fbf3-d5b0-4360-9e84-dfe46316a5b9",
   "metadata": {},
   "outputs": [],
   "source": [
    "from sklearn.metrics import confusion_matrix"
   ]
  },
  {
   "cell_type": "code",
   "execution_count": 69,
   "id": "5b140479-30ad-49fd-aec0-9467832ab326",
   "metadata": {},
   "outputs": [
    {
     "name": "stdout",
     "output_type": "stream",
     "text": [
      "[[76  2]\n",
      " [ 2 63]]\n"
     ]
    }
   ],
   "source": [
    "data = pd.read_csv('data/test_w3.csv') \n",
    "\n",
    "X = data.iloc[:, :-1] \n",
    "y = data.iloc[:, -1]\n",
    "\n",
    "network = NeuralNetwork() \n",
    "\n",
    "test_preds = network.predict(X)\n",
    "\n",
    "print(confusion_matrix(y, test_preds))"
   ]
  },
  {
   "cell_type": "markdown",
   "id": "e6fe08c9-6d99-48bc-be5b-e63f27100b37",
   "metadata": {
    "tags": []
   },
   "source": [
    "- ## Classification Report"
   ]
  },
  {
   "cell_type": "code",
   "execution_count": 70,
   "id": "326c864a-971f-4ba8-b365-cf7b53a7d55e",
   "metadata": {},
   "outputs": [],
   "source": [
    "from sklearn.metrics import classification_report"
   ]
  },
  {
   "cell_type": "code",
   "execution_count": 71,
   "id": "1598b9b3-edb0-49da-a3d8-5be87731d157",
   "metadata": {},
   "outputs": [
    {
     "name": "stdout",
     "output_type": "stream",
     "text": [
      "              precision    recall  f1-score   support\n",
      "\n",
      "         0.0       0.97      0.97      0.97        78\n",
      "         1.0       0.97      0.97      0.97        65\n",
      "\n",
      "    accuracy                           0.97       143\n",
      "   macro avg       0.97      0.97      0.97       143\n",
      "weighted avg       0.97      0.97      0.97       143\n",
      "\n"
     ]
    }
   ],
   "source": [
    "print(classification_report(y, test_preds))"
   ]
  },
  {
   "cell_type": "markdown",
   "id": "4ca4e816-cadf-4e07-b189-534f2468b9b4",
   "metadata": {},
   "source": [
    "# Model in Pytorch"
   ]
  },
  {
   "cell_type": "code",
   "execution_count": 72,
   "id": "ecdcdcaf-b600-4a83-922c-7d6da048793b",
   "metadata": {},
   "outputs": [],
   "source": [
    "import pandas as pd\n",
    "import numpy as np\n",
    "import json\n",
    "import torch"
   ]
  },
  {
   "cell_type": "markdown",
   "id": "cb0624a2-aef9-4ceb-a63b-41e10dde7100",
   "metadata": {},
   "source": [
    "- ## Linear Layers"
   ]
  },
  {
   "cell_type": "code",
   "execution_count": 73,
   "id": "0b111f98-89b6-498a-b1fc-42420a54d92b",
   "metadata": {},
   "outputs": [
    {
     "name": "stdout",
     "output_type": "stream",
     "text": [
      "tensor([[ 0.6288,  1.2646,  0.5846, -0.1577,  0.8414],\n",
      "        [ 0.9136,  0.8256, -0.0212,  0.1370,  0.6960],\n",
      "        [ 0.7238,  0.1612, -0.0326,  1.5256, -0.1961]],\n",
      "       grad_fn=<AddmmBackward0>)\n",
      "\n",
      "Parameter containing:\n",
      "tensor([[-0.0024,  0.1696, -0.2603, -0.2327, -0.1218,  0.0848, -0.0063,  0.2507,\n",
      "         -0.0281,  0.0837],\n",
      "        [-0.0956, -0.0622, -0.3021, -0.2094, -0.1304,  0.0117,  0.1250,  0.1897,\n",
      "         -0.2144, -0.1377],\n",
      "        [ 0.1149,  0.2626, -0.0651,  0.2366, -0.0510,  0.0335,  0.2863, -0.2934,\n",
      "         -0.1991, -0.0801],\n",
      "        [-0.1233,  0.2732, -0.2050, -0.1456, -0.2209, -0.2962, -0.1846,  0.2718,\n",
      "          0.1411,  0.1533],\n",
      "        [ 0.0166, -0.1621,  0.0535, -0.2953, -0.2285, -0.1630,  0.1995,  0.1854,\n",
      "         -0.1402, -0.0114]], requires_grad=True)\n",
      "Parameter containing:\n",
      "tensor([0.2022, 0.3144, 0.1255, 0.0427, 0.2120], requires_grad=True)\n"
     ]
    }
   ],
   "source": [
    "import torch\n",
    "torch.manual_seed(0)\n",
    "\n",
    "# linear layer from 10 to 5 features with bias (default=True)\n",
    "mylinear = torch.nn.Linear(10, 5, bias = True)\n",
    "\n",
    "# applied on some data\n",
    "N = 3 \n",
    "d = 10\n",
    "x = torch.randn(N,d)\n",
    "print(mylinear(x))\n",
    "print()\n",
    "\n",
    "print(mylinear.weight)\n",
    "print(mylinear.bias)"
   ]
  },
  {
   "cell_type": "code",
   "execution_count": 74,
   "id": "b34cd860-af7a-4204-bddb-c4d9d3e1e8d1",
   "metadata": {},
   "outputs": [
    {
     "name": "stdout",
     "output_type": "stream",
     "text": [
      "Parameter containing:\n",
      "tensor([[0., 0., 0., 0., 0.],\n",
      "        [0., 0., 0., 0., 0.],\n",
      "        [0., 0., 0., 0., 0.],\n",
      "        [0., 0., 0., 0., 0.],\n",
      "        [0., 0., 0., 0., 0.],\n",
      "        [0., 0., 0., 0., 0.],\n",
      "        [0., 0., 0., 0., 0.],\n",
      "        [0., 0., 0., 0., 0.],\n",
      "        [0., 0., 0., 0., 0.],\n",
      "        [0., 0., 0., 0., 0.]], requires_grad=True)\n",
      "Parameter containing:\n",
      "tensor([0., 0., 0., 0., 0.], requires_grad=True)\n"
     ]
    }
   ],
   "source": [
    "import torch\n",
    "\n",
    "mylinear = torch.nn.Linear(10, 5, bias = True)\n",
    "\n",
    "# predefined weight and bias values\n",
    "weight = torch.zeros(10, 5)\n",
    "bias = torch.zeros(5)\n",
    "\n",
    "# set the values!!\n",
    "mylinear.weight.data = weight\n",
    "mylinear.bias.data = bias\n",
    "\n",
    "# check the value of weights and bias now\n",
    "print(mylinear.weight)\n",
    "print(mylinear.bias)"
   ]
  },
  {
   "cell_type": "markdown",
   "id": "4a3b4262-d1ff-4ed1-b1f2-fe6b1346ef87",
   "metadata": {},
   "source": [
    "- ## Activation Functions"
   ]
  },
  {
   "cell_type": "code",
   "execution_count": 75,
   "id": "ff276a8a-24ad-4ac6-98b0-c3a9b4b1f212",
   "metadata": {},
   "outputs": [
    {
     "name": "stdout",
     "output_type": "stream",
     "text": [
      "tensor([[ 1.5410, -0.2934, -2.1788,  0.5684, -1.0845],\n",
      "        [-1.3986,  0.4033,  0.8380, -0.7193, -0.4033],\n",
      "        [-0.5966,  0.1820, -0.8567,  1.1006, -1.0712]])\n",
      "tensor([[1.5410, 0.0000, 0.0000, 0.5684, 0.0000],\n",
      "        [0.0000, 0.4033, 0.8380, 0.0000, 0.0000],\n",
      "        [0.0000, 0.1820, 0.0000, 1.1006, 0.0000]])\n",
      "tensor([[0.8236, 0.4272, 0.1017, 0.6384, 0.2527],\n",
      "        [0.1980, 0.5995, 0.6980, 0.3276, 0.4005],\n",
      "        [0.3551, 0.5454, 0.2980, 0.7504, 0.2552]])\n",
      "tensor([[ 0.9123, -0.2853, -0.9747,  0.5142, -0.7949],\n",
      "        [-0.8850,  0.3828,  0.6848, -0.6164, -0.3828],\n",
      "        [-0.5347,  0.1801, -0.6945,  0.8007, -0.7899]])\n"
     ]
    }
   ],
   "source": [
    "import torch\n",
    "torch.manual_seed(0)\n",
    "\n",
    "myrelu = torch.nn.ReLU()\n",
    "mysigmoid = torch.nn.Sigmoid()\n",
    "mytanh = torch.nn.Tanh()\n",
    "\n",
    "# try applying activation on the data x below\n",
    "N = 3\n",
    "d = 5\n",
    "x = torch.randn(N,d)\n",
    "print(x)\n",
    "\n",
    "# apply relu to x\n",
    "print(myrelu(x))\n",
    "\n",
    "# apply sigmoid to x\n",
    "print(mysigmoid(x))\n",
    "\n",
    "# apply tanh to x\n",
    "print(mytanh(x))"
   ]
  },
  {
   "cell_type": "markdown",
   "id": "2b0a0dc6-06b0-4f4e-8939-297ae4b99e1e",
   "metadata": {},
   "source": [
    "- ## Loss Functions"
   ]
  },
  {
   "cell_type": "code",
   "execution_count": 76,
   "id": "4bc26b00-e2b2-4797-9c63-f5d3f980afc4",
   "metadata": {},
   "outputs": [
    {
     "name": "stdout",
     "output_type": "stream",
     "text": [
      "tensor([0., 1., 1.])\n",
      "tensor([0.5901, 0.5335, 0.5410])\n",
      "tensor(0.7115)\n"
     ]
    }
   ],
   "source": [
    "import torch\n",
    "torch.manual_seed(0)\n",
    "\n",
    "myMSE = torch.nn.MSELoss()\n",
    "myBCE = torch.nn.BCELoss() # binary cross entropy for binary classification\n",
    "myCE = torch.nn.CrossEntropyLoss() # cross entropy for multiclass classification\n",
    "\n",
    "# calculate BCE for the following prediction\n",
    "y_true = torch.empty(3).random_(2)\n",
    "y_pred = torch.sigmoid(torch.randn(3))\n",
    "print(y_true)\n",
    "print(y_pred)\n",
    "print(myBCE(y_pred, y_true))"
   ]
  },
  {
   "cell_type": "markdown",
   "id": "430fb1a4-1fa8-4549-a1fa-cc95266a29c7",
   "metadata": {},
   "source": [
    "- ## Optimizers"
   ]
  },
  {
   "cell_type": "code",
   "execution_count": 77,
   "id": "395ad4a5-cf39-4316-99c1-902f4b7208d2",
   "metadata": {},
   "outputs": [],
   "source": [
    "import torch\n",
    "\n",
    "# we need to pass in a list of parameters_w3 to optimizers\n",
    "W = torch.nn.Parameter(torch.zeros(3,2))\n",
    "optimizer = torch.optim.SGD([W], lr=1e-5)"
   ]
  },
  {
   "cell_type": "markdown",
   "id": "558c95d2-2c24-41ce-aa93-c487d25ddf6c",
   "metadata": {},
   "source": [
    "- ## Neural Network Model Class"
   ]
  },
  {
   "cell_type": "code",
   "execution_count": 78,
   "id": "f5bb9d9a-d5f2-45fa-b51a-7237553e5a4b",
   "metadata": {},
   "outputs": [],
   "source": [
    "import torch\n",
    "\n",
    "class myNeuralNetwork(torch.nn.Module):\n",
    "    def __init__(self, indim):\n",
    "        super().__init__()\n",
    "        self.Linear = torch.nn.Linear(indim, 1)\n",
    "        self.Sigmoid = torch.nn.Sigmoid()\n",
    "\n",
    "    def forward(self, x):\n",
    "        x = self.Linear(x)\n",
    "        x = self.Sigmoid(x)\n",
    "        return x"
   ]
  },
  {
   "cell_type": "markdown",
   "id": "b0d5cb9f-4d75-4fac-9fdb-5230f8602aae",
   "metadata": {},
   "source": [
    "***"
   ]
  },
  {
   "cell_type": "markdown",
   "id": "0f554ffa-2d70-4ef1-945b-d613a757ef1f",
   "metadata": {
    "tags": []
   },
   "source": [
    "# Example"
   ]
  },
  {
   "cell_type": "code",
   "execution_count": 79,
   "id": "608ab75d-de6e-41c9-9537-9d924a32e603",
   "metadata": {},
   "outputs": [],
   "source": [
    "class NeuralNetwork(torch.nn.Module):\n",
    "    def __init__(self):\n",
    "        super().__init__()   # Previously we dont have this line. Here we are initialising nn.Module\n",
    "        \n",
    "        self.Identity = torch.nn.Identity()   # Define activations\n",
    "        self.Sigmoid = torch.nn.Sigmoid()\n",
    "        \n",
    "        self.Linear1 = torch.nn.Linear(30, 10) # Define linear\n",
    "        self.Linear2 = torch.nn.Linear(10, 1)\n",
    "        \n",
    "        # Setting parameter values. In real network training, we dont need this\n",
    "        weight_dict = json.load(open('data/parameters_w3.json', 'r'))\n",
    "        W1 = np.array(weight_dict['0.weight'])\n",
    "        b1 = np.array(weight_dict['0.bias'])\n",
    "        W2 = np.array(weight_dict['1.weight'])\n",
    "        b2 = np.array(weight_dict['1.bias'])\n",
    "        \n",
    "        self.Linear1.weight.data = torch.from_numpy(W1.T)   \n",
    "        self.Linear1.bias.data = torch.from_numpy(b1)\n",
    "        \n",
    "        self.Linear2.weight.data = torch.from_numpy(W2.T)   \n",
    "        self.Linear2.bias.data = torch.from_numpy(b2)\n",
    "        \n",
    "    def forward(self, X):\n",
    "        Z2 = self.Linear1(X)      # first layer\n",
    "        A2 = self.Identity(Z2)     # activation\n",
    "        \n",
    "        Z3 = self.Linear2(A2)      # to second layer\n",
    "        a3 = self.Sigmoid(Z3)      # activation\n",
    "        return a3"
   ]
  },
  {
   "cell_type": "code",
   "execution_count": 80,
   "id": "28e9330c-83ed-4276-8fa9-228f5964861a",
   "metadata": {},
   "outputs": [],
   "source": [
    "def predict(Y):\n",
    "    y_pred = (Y > 0.5).astype(int) \n",
    "    return y_pred     "
   ]
  },
  {
   "cell_type": "code",
   "execution_count": 81,
   "id": "f8e35543-6d8f-4900-9d56-00e352792a13",
   "metadata": {},
   "outputs": [
    {
     "name": "stdout",
     "output_type": "stream",
     "text": [
      "tensor([ 0.2863, -0.8555,  0.2634,  0.1189, -0.8715,  0.1240, -0.2670, -0.2552,\n",
      "         0.2557, -0.5371, -0.5956, -1.2801, -0.2695, -0.4128, -1.0500,  0.4124,\n",
      "         0.2242, -0.0035, -0.8483, -0.2156,  0.0657, -1.0292,  0.2400, -0.0980,\n",
      "        -0.7976,  0.7303,  0.3660,  0.3853,  0.1110,  0.0083],\n",
      "       dtype=torch.float64)\n"
     ]
    }
   ],
   "source": [
    "import pandas as pd\n",
    "data = pd.read_csv('data/test_w3.csv') \n",
    "\n",
    "person = torch.from_numpy(data.iloc[0,:-1].values)\n",
    "print(person)"
   ]
  },
  {
   "cell_type": "code",
   "execution_count": 82,
   "id": "ede80023-91c4-4d68-9768-df8f69ea7d3d",
   "metadata": {},
   "outputs": [
    {
     "name": "stdout",
     "output_type": "stream",
     "text": [
      "tensor(0.0486, dtype=torch.float64, grad_fn=<SelectBackward0>)\n"
     ]
    }
   ],
   "source": [
    "network = NeuralNetwork() \n",
    "\n",
    "cancer_probability = network(person)    \n",
    "print(cancer_probability[0])"
   ]
  },
  {
   "cell_type": "code",
   "execution_count": 83,
   "id": "3fbd13ed-e803-414e-98b2-780c7e2f8e91",
   "metadata": {},
   "outputs": [
    {
     "name": "stdout",
     "output_type": "stream",
     "text": [
      "0\n"
     ]
    }
   ],
   "source": [
    "cancer_class = predict(cancer_probability.detach().numpy())[0]\n",
    "print(cancer_class)"
   ]
  }
 ],
 "metadata": {
  "kernelspec": {
   "display_name": "Python 3 (ipykernel)",
   "language": "python",
   "name": "python3"
  },
  "language_info": {
   "codemirror_mode": {
    "name": "ipython",
    "version": 3
   },
   "file_extension": ".py",
   "mimetype": "text/x-python",
   "name": "python",
   "nbconvert_exporter": "python",
   "pygments_lexer": "ipython3",
   "version": "3.9.12"
  }
 },
 "nbformat": 4,
 "nbformat_minor": 5
}
