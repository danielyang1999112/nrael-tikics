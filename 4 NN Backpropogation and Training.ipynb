{
 "cells": [
  {
   "cell_type": "markdown",
   "id": "ba863345-96e7-4067-91fa-3cfd6abcaf1e",
   "metadata": {},
   "source": [
    "# Implementation"
   ]
  },
  {
   "cell_type": "code",
   "execution_count": 2,
   "id": "eded3418-80cb-4285-b378-ec5f9d35d29e",
   "metadata": {},
   "outputs": [],
   "source": [
    "import numpy as np\n",
    "import pandas as pd\n",
    "from sklearn.metrics import log_loss\n",
    "\n",
    "def linear(x):\n",
    "    return x\n",
    "\n",
    "def sigmoid( x):\n",
    "    return 1/(1 + np.exp(-x))\n",
    "\n",
    "class NeuralNetwork:\n",
    "    \n",
    "    def __init__(self, lr, max_iter, random_state=None):\n",
    "        self.lr = lr\n",
    "        self.max_iter = max_iter\n",
    "        self.random_state = random_state\n",
    "    \n",
    "    def fit(self, X, y):\n",
    "        y = y.reshape(-1, 1)\n",
    "        # Set random seed if self.random_state is not none\n",
    "        if self.random_state is not None:\n",
    "            np.random.seed(self.random_state)\n",
    "\n",
    "        self.W1 = np.random.rand(30,10)\n",
    "        self.b1 = np.random.rand(10)\n",
    "        self.W2 = np.random.rand(10,1)\n",
    "        self.b2 = np.random.rand(1)\n",
    "        \n",
    "        loss_history = []\n",
    "        \n",
    "        for i in range(self.max_iter):\n",
    "            # ==== Forward ====\n",
    "            Z2 = X @ self.W1 + self.b1\n",
    "            A2 = linear(Z2)\n",
    "\n",
    "            Z3 = A2 @ self.W2 + self.b2\n",
    "            y_pred = sigmoid(Z3) # A3\n",
    "            \n",
    "            # Calculate loss/error\n",
    "            loss = log_loss(y, y_pred)\n",
    "            loss_history.append(loss)\n",
    "            \n",
    "            # ==== Backward ====\n",
    "            # Element-wise loss required for partial d's\n",
    "            e = (y_pred - y) # Delta_3\n",
    "            \n",
    "            # Output layer partial d's\n",
    "            dW2 = A2.T @ e\n",
    "            db2 = np.sum(e)\n",
    "            \n",
    "            # Hidden layer partial d's\n",
    "            dW1 = X.T @ (e @ self.W2.T)\n",
    "            db1 = np.sum(e @ self.W2.T, axis=0)\n",
    "\n",
    "            # Update weights\n",
    "            self.W1 = self.W1 - self.lr * dW1\n",
    "            self.b1 = self.b1 - self.lr * db1\n",
    "            self.W2 = self.W2 - self.lr * dW2\n",
    "            self.b2 = self.b2 - self.lr * db2\n",
    "\n",
    "        return loss_history\n",
    "\n",
    "    def predict(self, X):\n",
    "        y_pred = (self.predict_proba(X) > 0.5).astype(int)\n",
    "        return y_pred\n",
    "    \n",
    "    def predict_proba(self, X):\n",
    "        Z2 = X @ self.W1 + self.b1\n",
    "        a2 = linear(Z2)\n",
    "        \n",
    "        Z3 = a2 @ self.W2 + self.b2\n",
    "        A3 = sigmoid(Z3)\n",
    "\n",
    "        return A3"
   ]
  },
  {
   "cell_type": "markdown",
   "id": "12296942-5273-4f9d-9147-8710ef387c93",
   "metadata": {},
   "source": [
    "# Inspect loss history"
   ]
  },
  {
   "cell_type": "code",
   "execution_count": 4,
   "id": "f84e5397-9329-4351-8918-e1be4877a331",
   "metadata": {},
   "outputs": [],
   "source": [
    "import matplotlib.pyplot as plt\n",
    "import pandas as pd\n",
    "import numpy as np\n",
    "from sklearn.metrics import log_loss\n",
    "\n",
    "# COPY YOUR CLASS DEFINITION HERE  \n",
    "import numpy as np\n",
    "import pandas as pd\n",
    "from sklearn.metrics import log_loss\n",
    "\n",
    "def linear(x):\n",
    "    return x\n",
    "\n",
    "def sigmoid( x):\n",
    "    return 1/(1 + np.exp(-x))\n",
    "\n",
    "class NeuralNetwork:\n",
    "    \n",
    "    def __init__(self, lr, max_iter, random_state=None):\n",
    "        self.lr = lr\n",
    "        self.max_iter = max_iter\n",
    "        self.random_state = random_state\n",
    "    \n",
    "    def fit(self, X, y):\n",
    "        y = y.reshape(-1, 1)\n",
    "        # Set random seed if self.random_state is not none\n",
    "        if self.random_state is not None:\n",
    "            np.random.seed(self.random_state)\n",
    "\n",
    "        self.W1 = np.random.rand(30,10)\n",
    "        self.b1 = np.random.rand(10)\n",
    "        self.W2 = np.random.rand(10,1)\n",
    "        self.b2 = np.random.rand(1)\n",
    "        \n",
    "        loss_history = []\n",
    "        \n",
    "        for i in range(self.max_iter):\n",
    "            # ==== Forward ====\n",
    "            Z2 = X @ self.W1 + self.b1\n",
    "            A2 = linear(Z2)\n",
    "\n",
    "            Z3 = A2 @ self.W2 + self.b2\n",
    "            y_pred = sigmoid(Z3) # A3\n",
    "            \n",
    "            # Calculate loss/error\n",
    "            loss = log_loss(y, y_pred)\n",
    "            loss_history.append(loss)\n",
    "            \n",
    "            # ==== Backward ====\n",
    "            # Element-wise loss required for partial d's\n",
    "            e = (y_pred - y) # Delta_3\n",
    "            \n",
    "            # Output layer partial d's\n",
    "            dW2 = A2.T @ e\n",
    "            db2 = np.sum(e)\n",
    "            \n",
    "            # Hidden layer partial d's\n",
    "            dW1 = X.T @ (e @ self.W2.T)\n",
    "            db1 = np.sum(e @ self.W2.T, axis=0)\n",
    "\n",
    "            # Update weights\n",
    "            self.W1 = self.W1 - self.lr * dW1\n",
    "            self.b1 = self.b1 - self.lr * db1\n",
    "            self.W2 = self.W2 - self.lr * dW2\n",
    "            self.b2 = self.b2 - self.lr * db2\n",
    "\n",
    "        return loss_history\n",
    "\n",
    "    def predict(self, X):\n",
    "        y_pred = (self.predict_proba(X) > 0.5).astype(int)\n",
    "        return y_pred\n",
    "    \n",
    "    def predict_proba(self, X):\n",
    "        Z2 = X @ self.W1 + self.b1\n",
    "        a2 = linear(Z2)\n",
    "        \n",
    "        Z3 = a2 @ self.W2 + self.b2\n",
    "        A3 = sigmoid(Z3)\n",
    "\n",
    "        return A3"
   ]
  },
  {
   "cell_type": "code",
   "execution_count": 6,
   "id": "a8209009-aca8-42c4-9288-e06fc01d81fc",
   "metadata": {},
   "outputs": [
    {
     "data": {
      "image/png": "[encoded data removed]",
      "text/plain": [
       "<Figure size 432x288 with 1 Axes>"
      ]
     },
     "metadata": {
      "needs_background": "light"
     },
     "output_type": "display_data"
    }
   ],
   "source": [
    "# LOAD \n",
    "data = pd.read_csv('data/train_w4.csv') \n",
    "\n",
    "X = data.iloc[:,:-1].to_numpy()\n",
    "y = data.iloc[:, -1].to_numpy()\n",
    "\n",
    "network = NeuralNetwork(0.0001, 1000, 6850)\n",
    "\n",
    "loss_list = network.fit(X, y)\n",
    "\n",
    "# PLOT THE LOSS HISTORY HERE\n",
    "plt.plot(loss_list)\n",
    "\n",
    "plt.xlabel('No. of Iteration')\n",
    "plt.ylabel('Loss')\n",
    "\n",
    "plt.show()"
   ]
  },
  {
   "cell_type": "markdown",
   "id": "981f4edf-d55e-48bb-9eaf-20d2c460f5e0",
   "metadata": {},
   "source": [
    "***"
   ]
  },
  {
   "cell_type": "markdown",
   "id": "1e5f8615-4210-4e9c-a137-b370d0438e24",
   "metadata": {},
   "source": [
    "# Pytorch neural network"
   ]
  },
  {
   "cell_type": "markdown",
   "id": "e205e51d-68fe-4650-a2f2-6178e18ad60d",
   "metadata": {},
   "source": [
    "- ## 1. Define the network"
   ]
  },
  {
   "cell_type": "code",
   "execution_count": 8,
   "id": "0d0f4e56-d7ae-43a3-a628-05650a97c168",
   "metadata": {},
   "outputs": [],
   "source": [
    "import numpy as np\n",
    "import torch\n",
    "import pandas as pd\n",
    "import matplotlib.pyplot as plt\n",
    "np.random.seed(2022)   # To make sure the results are reproducable\n",
    "torch.manual_seed(2022)\n",
    "\n",
    "class NeuralNetwork (torch.nn.Module):\n",
    "    def __init__(self):\n",
    "        super(NeuralNetwork, self).__init__()   # Previously we dont have this line. Here we are initialising nn.Module       \n",
    "        self.Identity = torch.nn.Identity()   # Define activations\n",
    "        self.Sigmoid = torch.nn.Sigmoid()\n",
    "        \n",
    "        self.Linear1 = torch.nn.Linear(30, 10) # Define linear\n",
    "        self.Linear2 = torch.nn.Linear(10, 1)\n",
    "        \n",
    "    def forward(self, X):\n",
    "        Z2 = self.Linear1(X)      # first layer\n",
    "        A2 = self.Identity(Z2)     # activation\n",
    "        \n",
    "        Z3 = self.Linear2(A2)      # to second layer\n",
    "        a3 = self.Sigmoid(Z3)      # activation\n",
    "        return a3"
   ]
  },
  {
   "cell_type": "markdown",
   "id": "77efa718-e52f-493c-88c3-f109d9529b46",
   "metadata": {},
   "source": [
    "- ## 2. Initialize a Network (create an instance)"
   ]
  },
  {
   "cell_type": "code",
   "execution_count": 9,
   "id": "c51077c8-f6d4-49f2-aead-fa8da4bce466",
   "metadata": {},
   "outputs": [],
   "source": [
    "network = NeuralNetwork() "
   ]
  },
  {
   "cell_type": "markdown",
   "id": "53b60e18-16ac-4a0d-872a-c25208b101a3",
   "metadata": {},
   "source": [
    "- ## 3. Prepare Data for Training"
   ]
  },
  {
   "cell_type": "code",
   "execution_count": 10,
   "id": "3cc473bd-f8fb-46fd-aa76-a5448a067bc1",
   "metadata": {},
   "outputs": [],
   "source": [
    "data = pd.read_csv('data/train_w4.csv') \n",
    "\n",
    "X = torch.tensor(data.iloc[:,:-1].to_numpy()).float()\n",
    "y = torch.tensor(data.iloc[:, -1].to_numpy()).float()"
   ]
  },
  {
   "cell_type": "markdown",
   "id": "2a4ba390-45e9-4695-9d4a-fa01d9c31021",
   "metadata": {},
   "source": [
    "- ## 4. Define Objective Function and Optimizer"
   ]
  },
  {
   "cell_type": "code",
   "execution_count": 11,
   "id": "fc8729bf-b296-4d7e-9f62-c28650308568",
   "metadata": {},
   "outputs": [],
   "source": [
    "loss_func = torch.nn.BCELoss()\n",
    "optimizer = torch.optim.Adam(network.parameters(), lr=0.0001)"
   ]
  },
  {
   "cell_type": "markdown",
   "id": "aa57bbee-73dd-45f0-a4d0-7ca8cbdf76a2",
   "metadata": {},
   "source": [
    "- ## 5. Train the network"
   ]
  },
  {
   "cell_type": "code",
   "execution_count": 12,
   "id": "93b18b9a-f230-4abe-a2c1-5cb70314b8b8",
   "metadata": {},
   "outputs": [
    {
     "name": "stdout",
     "output_type": "stream",
     "text": [
      "Loss in iteration 0: 0.8831\n",
      "Loss in iteration 1000: 0.2128\n",
      "Loss in iteration 2000: 0.1110\n",
      "Loss in iteration 3000: 0.0812\n",
      "Loss in iteration 4000: 0.0682\n",
      "Loss in iteration 5000: 0.0610\n",
      "Loss in iteration 6000: 0.0561\n",
      "Loss in iteration 7000: 0.0520\n",
      "Loss in iteration 8000: 0.0477\n",
      "Loss in iteration 9000: 0.0434\n",
      "Loss in iteration 10000: 0.0393\n",
      "Loss in iteration 11000: 0.0356\n",
      "Loss in iteration 12000: 0.0323\n",
      "Loss in iteration 13000: 0.0292\n",
      "Loss in iteration 14000: 0.0261\n",
      "Loss in iteration 15000: 0.0233\n",
      "Loss in iteration 16000: 0.0208\n",
      "Loss in iteration 17000: 0.0185\n",
      "Loss in iteration 18000: 0.0164\n",
      "Loss in iteration 19000: 0.0145\n"
     ]
    }
   ],
   "source": [
    "train_loss = []\n",
    "iters = 20000\n",
    "for i in range(iters):\n",
    "\n",
    "    optimizer.zero_grad()\n",
    "\n",
    "    y_pred = network(X)\n",
    "    loss = loss_func(y_pred, y.view(-1,1))  # We must make both y_pred and y in the exact same shape\n",
    "    \n",
    "    loss.backward()\n",
    "    optimizer.step()\n",
    "    train_loss.append(loss.item()) \n",
    "\n",
    "    if i % 1000 == 0:\n",
    "        print('Loss in iteration {}: {:.4f}'.format(i, loss.item()))"
   ]
  },
  {
   "cell_type": "markdown",
   "id": "9ac886e0-cb7b-4dc0-ae1a-81de1f06d49c",
   "metadata": {},
   "source": [
    "- ## 6. Plot the loss"
   ]
  },
  {
   "cell_type": "code",
   "execution_count": 13,
   "id": "4aeb92f3-7126-41e9-90e4-4a12f5cefbe2",
   "metadata": {},
   "outputs": [
    {
     "data": {
      "image/png": "[encoded data removed]",
      "text/plain": [
       "<Figure size 432x288 with 1 Axes>"
      ]
     },
     "metadata": {
      "needs_background": "light"
     },
     "output_type": "display_data"
    }
   ],
   "source": [
    "# Plotting\n",
    "plt.plot(train_loss)\n",
    "\n",
    "plt.xlabel(\"Iteration\")\n",
    "plt.ylabel(\"Loss\")\n",
    "plt.show()"
   ]
  },
  {
   "cell_type": "markdown",
   "id": "83eb144a-8407-4132-9877-62a112fa750c",
   "metadata": {},
   "source": [
    "***"
   ]
  },
  {
   "cell_type": "markdown",
   "id": "550a3dc6-ed5a-4f87-8e6e-895bb619a03b",
   "metadata": {},
   "source": [
    "# Pytorch neural network in practice"
   ]
  },
  {
   "cell_type": "code",
   "execution_count": 14,
   "id": "b0da2ae9-28d1-4bc2-ad46-29bb56f24a07",
   "metadata": {},
   "outputs": [
    {
     "data": {
      "text/plain": [
       "<torch._C.Generator at 0x27dc9d70130>"
      ]
     },
     "execution_count": 14,
     "metadata": {},
     "output_type": "execute_result"
    }
   ],
   "source": [
    "import pandas as pd\n",
    "import numpy as np\n",
    "from sklearn.preprocessing import MinMaxScaler\n",
    "from sklearn.model_selection import train_test_split\n",
    "from sklearn.metrics import classification_report\n",
    "from sklearn.metrics import confusion_matrix\n",
    "\n",
    "import torch\n",
    "from torch import nn \n",
    "import torch.nn.functional as F\n",
    "from torch.utils import data\n",
    "\n",
    "np.random.seed(0)\n",
    "torch.manual_seed(0)"
   ]
  },
  {
   "cell_type": "markdown",
   "id": "58359a52-d63c-4d0e-893d-c25fd887821e",
   "metadata": {},
   "source": [
    "- ## 1. Read dataset and preprocessing"
   ]
  },
  {
   "cell_type": "code",
   "execution_count": 15,
   "id": "e13942c9-3ab0-4795-94c0-78752ad012bd",
   "metadata": {},
   "outputs": [
    {
     "data": {
      "text/html": [
       "<div>\n",
       "<style scoped>\n",
       "    .dataframe tbody tr th:only-of-type {\n",
       "        vertical-align: middle;\n",
       "    }\n",
       "\n",
       "    .dataframe tbody tr th {\n",
       "        vertical-align: top;\n",
       "    }\n",
       "\n",
       "    .dataframe thead th {\n",
       "        text-align: right;\n",
       "    }\n",
       "</style>\n",
       "<table border=\"1\" class=\"dataframe\">\n",
       "  <thead>\n",
       "    <tr style=\"text-align: right;\">\n",
       "      <th></th>\n",
       "      <th>fixed acidity</th>\n",
       "      <th>volatile acidity</th>\n",
       "      <th>citric acid</th>\n",
       "      <th>residual sugar</th>\n",
       "      <th>chlorides</th>\n",
       "      <th>free sulfur dioxide</th>\n",
       "      <th>total sulfur dioxide</th>\n",
       "      <th>density</th>\n",
       "      <th>pH</th>\n",
       "      <th>sulphates</th>\n",
       "      <th>alcohol</th>\n",
       "      <th>quality</th>\n",
       "    </tr>\n",
       "  </thead>\n",
       "  <tbody>\n",
       "    <tr>\n",
       "      <th>0</th>\n",
       "      <td>7.0</td>\n",
       "      <td>0.27</td>\n",
       "      <td>0.36</td>\n",
       "      <td>20.7</td>\n",
       "      <td>0.045</td>\n",
       "      <td>45.0</td>\n",
       "      <td>170.0</td>\n",
       "      <td>1.0010</td>\n",
       "      <td>3.00</td>\n",
       "      <td>0.45</td>\n",
       "      <td>8.8</td>\n",
       "      <td>6</td>\n",
       "    </tr>\n",
       "    <tr>\n",
       "      <th>1</th>\n",
       "      <td>6.3</td>\n",
       "      <td>0.30</td>\n",
       "      <td>0.34</td>\n",
       "      <td>1.6</td>\n",
       "      <td>0.049</td>\n",
       "      <td>14.0</td>\n",
       "      <td>132.0</td>\n",
       "      <td>0.9940</td>\n",
       "      <td>3.30</td>\n",
       "      <td>0.49</td>\n",
       "      <td>9.5</td>\n",
       "      <td>6</td>\n",
       "    </tr>\n",
       "    <tr>\n",
       "      <th>2</th>\n",
       "      <td>8.1</td>\n",
       "      <td>0.28</td>\n",
       "      <td>0.40</td>\n",
       "      <td>6.9</td>\n",
       "      <td>0.050</td>\n",
       "      <td>30.0</td>\n",
       "      <td>97.0</td>\n",
       "      <td>0.9951</td>\n",
       "      <td>3.26</td>\n",
       "      <td>0.44</td>\n",
       "      <td>10.1</td>\n",
       "      <td>6</td>\n",
       "    </tr>\n",
       "    <tr>\n",
       "      <th>3</th>\n",
       "      <td>7.2</td>\n",
       "      <td>0.23</td>\n",
       "      <td>0.32</td>\n",
       "      <td>8.5</td>\n",
       "      <td>0.058</td>\n",
       "      <td>47.0</td>\n",
       "      <td>186.0</td>\n",
       "      <td>0.9956</td>\n",
       "      <td>3.19</td>\n",
       "      <td>0.40</td>\n",
       "      <td>9.9</td>\n",
       "      <td>6</td>\n",
       "    </tr>\n",
       "    <tr>\n",
       "      <th>4</th>\n",
       "      <td>7.2</td>\n",
       "      <td>0.23</td>\n",
       "      <td>0.32</td>\n",
       "      <td>8.5</td>\n",
       "      <td>0.058</td>\n",
       "      <td>47.0</td>\n",
       "      <td>186.0</td>\n",
       "      <td>0.9956</td>\n",
       "      <td>3.19</td>\n",
       "      <td>0.40</td>\n",
       "      <td>9.9</td>\n",
       "      <td>6</td>\n",
       "    </tr>\n",
       "  </tbody>\n",
       "</table>\n",
       "</div>"
      ],
      "text/plain": [
       "   fixed acidity  volatile acidity  citric acid  residual sugar  chlorides  \\\n",
       "0            7.0              0.27         0.36            20.7      0.045   \n",
       "1            6.3              0.30         0.34             1.6      0.049   \n",
       "2            8.1              0.28         0.40             6.9      0.050   \n",
       "3            7.2              0.23         0.32             8.5      0.058   \n",
       "4            7.2              0.23         0.32             8.5      0.058   \n",
       "\n",
       "   free sulfur dioxide  total sulfur dioxide  density    pH  sulphates  \\\n",
       "0                 45.0                 170.0   1.0010  3.00       0.45   \n",
       "1                 14.0                 132.0   0.9940  3.30       0.49   \n",
       "2                 30.0                  97.0   0.9951  3.26       0.44   \n",
       "3                 47.0                 186.0   0.9956  3.19       0.40   \n",
       "4                 47.0                 186.0   0.9956  3.19       0.40   \n",
       "\n",
       "   alcohol  quality  \n",
       "0      8.8        6  \n",
       "1      9.5        6  \n",
       "2     10.1        6  \n",
       "3      9.9        6  \n",
       "4      9.9        6  "
      ]
     },
     "execution_count": 15,
     "metadata": {},
     "output_type": "execute_result"
    }
   ],
   "source": [
    "wine_df = pd.read_csv('data/winequality-white.csv', delimiter=\";\")\n",
    "wine_df.head()"
   ]
  },
  {
   "cell_type": "code",
   "execution_count": 16,
   "id": "03832150-2149-463e-899c-d8b5dec83d13",
   "metadata": {},
   "outputs": [
    {
     "name": "stdout",
     "output_type": "stream",
     "text": [
      "<class 'pandas.core.frame.DataFrame'>\n",
      "RangeIndex: 4898 entries, 0 to 4897\n",
      "Data columns (total 12 columns):\n",
      " #   Column                Non-Null Count  Dtype  \n",
      "---  ------                --------------  -----  \n",
      " 0   fixed acidity         4898 non-null   float64\n",
      " 1   volatile acidity      4898 non-null   float64\n",
      " 2   citric acid           4898 non-null   float64\n",
      " 3   residual sugar        4898 non-null   float64\n",
      " 4   chlorides             4898 non-null   float64\n",
      " 5   free sulfur dioxide   4898 non-null   float64\n",
      " 6   total sulfur dioxide  4898 non-null   float64\n",
      " 7   density               4898 non-null   float64\n",
      " 8   pH                    4898 non-null   float64\n",
      " 9   sulphates             4898 non-null   float64\n",
      " 10  alcohol               4898 non-null   float64\n",
      " 11  quality               4898 non-null   int64  \n",
      "dtypes: float64(11), int64(1)\n",
      "memory usage: 459.3 KB\n"
     ]
    }
   ],
   "source": [
    "wine_df.info()"
   ]
  },
  {
   "cell_type": "code",
   "execution_count": 17,
   "id": "fcef0a58-b387-463b-99da-7ee84a16a00a",
   "metadata": {},
   "outputs": [
    {
     "name": "stdout",
     "output_type": "stream",
     "text": [
      "[6 5 7 8 4 3 9]\n",
      "\n",
      "[3 2 4 5 1 0 6]\n"
     ]
    }
   ],
   "source": [
    "# check how many classes we have\n",
    "# notice we don't have quality = 1 or 2. So we need to change the class idx to 0 - 6\n",
    "print(wine_df['quality'].unique())\n",
    "print()\n",
    "wine_df['quality'] = wine_df['quality'] - 3 # change the response value\n",
    "print(wine_df['quality'].unique())"
   ]
  },
  {
   "cell_type": "code",
   "execution_count": 18,
   "id": "9684ef10-e41c-4104-8590-3a929e2f0061",
   "metadata": {},
   "outputs": [
    {
     "name": "stdout",
     "output_type": "stream",
     "text": [
      "number of classes: 7\n",
      "number of features: 11\n"
     ]
    }
   ],
   "source": [
    "# we have 7 classes and 11 features\n",
    "n_class = len(wine_df['quality'].unique())\n",
    "n_features = wine_df.shape[1] - 1\n",
    "\n",
    "print('number of classes:', n_class)\n",
    "print('number of features:', n_features)"
   ]
  },
  {
   "cell_type": "code",
   "execution_count": 19,
   "id": "257086a7-7eec-480b-bcff-46320a840c83",
   "metadata": {},
   "outputs": [],
   "source": [
    "# Train-test split\n",
    "\n",
    "# extract features and responses\n",
    "X = wine_df.iloc[:, :-1].values\n",
    "y = wine_df['quality'].values\n",
    "\n",
    "# split into train and test set\n",
    "X_train, X_test, y_train, y_test = train_test_split(X, y, test_size=0.2, random_state=0)"
   ]
  },
  {
   "cell_type": "code",
   "execution_count": 20,
   "id": "dca33694-e836-4096-9bb7-63e227f20248",
   "metadata": {},
   "outputs": [],
   "source": [
    "# Normalization\n",
    "\n",
    "# NOTE: fit only on train set because you cannot use test set information for preprocessing!!\n",
    "scaler = MinMaxScaler(feature_range=(0, 1))\n",
    "X_train = scaler.fit_transform(X_train)\n",
    "X_test = scaler.transform(X_test)"
   ]
  },
  {
   "cell_type": "code",
   "execution_count": 21,
   "id": "45216c49-319b-4094-9c52-2404c1e3729e",
   "metadata": {},
   "outputs": [],
   "source": [
    "# further split into training and val set\n",
    "X_train, X_val, y_train, y_val = train_test_split(X_train,\n",
    "                                                  y_train,\n",
    "                                                  test_size=0.25,\n",
    "                                                  random_state=0) # 0.25 x 0.8 = 0.2"
   ]
  },
  {
   "cell_type": "code",
   "execution_count": 22,
   "id": "c37ba57a-2e3f-41aa-904a-26ece01deb00",
   "metadata": {},
   "outputs": [],
   "source": [
    "# convert to torch object\n",
    "X_train = torch.from_numpy(X_train).float()\n",
    "y_train = torch.from_numpy(y_train).long()\n",
    "X_val = torch.from_numpy(X_val).float()\n",
    "y_val = torch.from_numpy(y_val).long()\n",
    "X_test = torch.from_numpy(X_test).float()\n",
    "y_test = torch.from_numpy(y_test).long()"
   ]
  },
  {
   "cell_type": "code",
   "execution_count": 23,
   "id": "caf4cf7a-25bc-4fe2-b894-a7dee7572cc2",
   "metadata": {},
   "outputs": [
    {
     "name": "stdout",
     "output_type": "stream",
     "text": [
      "train size: torch.Size([2938, 11])\n",
      "val size: torch.Size([980, 11])\n",
      "test size: torch.Size([980, 11])\n"
     ]
    }
   ],
   "source": [
    "# print the size for train, val and test data\n",
    "print('train size:', X_train.shape)\n",
    "print('val size:', X_val.shape)\n",
    "print('test size:', X_test.shape)"
   ]
  },
  {
   "cell_type": "markdown",
   "id": "830efcfd-937b-4998-8e56-90001903a54a",
   "metadata": {},
   "source": [
    "- ## 2. Define a neural network model class"
   ]
  },
  {
   "cell_type": "code",
   "execution_count": 24,
   "id": "ec1a25de-e0b3-4329-af27-7487d57d6735",
   "metadata": {},
   "outputs": [],
   "source": [
    "class NNClassifier(torch.nn.Module):\n",
    "    def __init__(self, inputSize, hiddenSize, outputSize):\n",
    "        '''\n",
    "            inputSize: input dim\n",
    "            hiddenSize: hidden dim\n",
    "            outputSize: output dim (should be number of classes)\n",
    "        '''\n",
    "        super().__init__()\n",
    "\n",
    "        # here we only set 1 hidden layer, you can add more if you want\n",
    "        self.Linear1 = nn.Linear(inputSize, hiddenSize) \n",
    "        self.Linear2 = nn.Linear(hiddenSize, outputSize)\n",
    "\n",
    "        # relu activation\n",
    "        self.act1 = nn.ReLU()\n",
    "        \n",
    "                    \n",
    "    def forward(self, x):\n",
    "        \n",
    "        # apply the first linear layer\n",
    "        x = self.Linear1(x)\n",
    "        \n",
    "        # apply the activation\n",
    "        x = self.act1(x)\n",
    "\n",
    "        # apply the second linear layer\n",
    "        # (we don't need to apply activation for the output layer)\n",
    "        x = self.Linear2(x)\n",
    "        \n",
    "        return x"
   ]
  },
  {
   "cell_type": "code",
   "execution_count": 25,
   "id": "88b74954-6428-4627-98c9-a24fe88a9f1f",
   "metadata": {},
   "outputs": [],
   "source": [
    "# initialize the model\n",
    "model = NNClassifier(n_features, 8, n_class)"
   ]
  },
  {
   "cell_type": "code",
   "execution_count": 26,
   "id": "fab2826f-d101-4dbb-807d-b0f5f908695d",
   "metadata": {},
   "outputs": [
    {
     "name": "stdout",
     "output_type": "stream",
     "text": [
      "Linear1.weight torch.Size([8, 11])\n",
      "Linear1.bias torch.Size([8])\n",
      "Linear2.weight torch.Size([7, 8])\n",
      "Linear2.bias torch.Size([7])\n"
     ]
    }
   ],
   "source": [
    "# let's see how many parameters we have\n",
    "for name, param in model.named_parameters():\n",
    "    print(name, param.shape)"
   ]
  },
  {
   "cell_type": "markdown",
   "id": "dc394a34-411d-4076-8575-d5c65778be6f",
   "metadata": {},
   "source": [
    "- ## 3. Define loss and optimizer"
   ]
  },
  {
   "cell_type": "code",
   "execution_count": 27,
   "id": "b85c38ea-0160-41fe-8b7c-3221e201a697",
   "metadata": {},
   "outputs": [],
   "source": [
    "loss_fn = nn.CrossEntropyLoss()\n",
    "optimizer = torch.optim.Adam(model.parameters(), lr=0.01)"
   ]
  },
  {
   "cell_type": "markdown",
   "id": "f974da31-088a-45bf-90dc-968952a89210",
   "metadata": {},
   "source": [
    "- ## 4. Train the model"
   ]
  },
  {
   "cell_type": "code",
   "execution_count": 28,
   "id": "2338f620-e755-460a-87ce-7b31f6f86659",
   "metadata": {
    "scrolled": true,
    "tags": []
   },
   "outputs": [
    {
     "name": "stdout",
     "output_type": "stream",
     "text": [
      "Epoch 0: 2.0727 (Train) 0.2388 (Val acc)\n",
      "Epoch 50: 1.2229 (Train) 0.4531 (Val acc)\n",
      "Epoch 100: 1.2112 (Train) 0.4531 (Val acc)\n",
      "Epoch 150: 1.1794 (Train) 0.4990 (Val acc)\n",
      "Epoch 200: 1.1413 (Train) 0.5224 (Val acc)\n",
      "Epoch 250: 1.1745 (Train) 0.5347 (Val acc)\n",
      "Epoch 300: 1.2209 (Train) 0.5296 (Val acc)\n",
      "Epoch 350: 1.0527 (Train) 0.5408 (Val acc)\n",
      "Epoch 400: 1.0713 (Train) 0.5378 (Val acc)\n",
      "Epoch 450: 1.1029 (Train) 0.5490 (Val acc)\n",
      "Epoch 500: 1.0814 (Train) 0.5480 (Val acc)\n",
      "Epoch 550: 1.1757 (Train) 0.5490 (Val acc)\n",
      "Epoch 600: 1.0313 (Train) 0.5408 (Val acc)\n",
      "Epoch 650: 1.0525 (Train) 0.5327 (Val acc)\n",
      "Epoch 700: 1.0044 (Train) 0.5408 (Val acc)\n",
      "Epoch 750: 1.1190 (Train) 0.5265 (Val acc)\n",
      "Epoch 800: 1.0406 (Train) 0.5378 (Val acc)\n",
      "Epoch 850: 1.0775 (Train) 0.5378 (Val acc)\n",
      "Epoch 900: 1.1330 (Train) 0.5286 (Val acc)\n",
      "Epoch 950: 1.1611 (Train) 0.5480 (Val acc)\n",
      "Epoch 1000: 1.0982 (Train) 0.5551 (Val acc)\n",
      "Epoch 1050: 1.0449 (Train) 0.5500 (Val acc)\n",
      "Epoch 1100: 1.1656 (Train) 0.5571 (Val acc)\n",
      "Epoch 1150: 1.0096 (Train) 0.5439 (Val acc)\n",
      "Epoch 1200: 1.0276 (Train) 0.5429 (Val acc)\n",
      "Epoch 1250: 0.9713 (Train) 0.5561 (Val acc)\n",
      "Epoch 1300: 1.2230 (Train) 0.5429 (Val acc)\n",
      "Epoch 1350: 1.0939 (Train) 0.5541 (Val acc)\n",
      "Epoch 1400: 1.0351 (Train) 0.5449 (Val acc)\n",
      "Epoch 1450: 1.0630 (Train) 0.5378 (Val acc)\n",
      "Epoch 1500: 1.0853 (Train) 0.5500 (Val acc)\n",
      "Epoch 1550: 1.0755 (Train) 0.5531 (Val acc)\n",
      "Epoch 1600: 1.0721 (Train) 0.5510 (Val acc)\n",
      "Epoch 1650: 1.0782 (Train) 0.5602 (Val acc)\n",
      "Epoch 1700: 0.9954 (Train) 0.5500 (Val acc)\n",
      "Epoch 1750: 1.1277 (Train) 0.5541 (Val acc)\n",
      "Epoch 1800: 1.0936 (Train) 0.5418 (Val acc)\n",
      "Epoch 1850: 1.1095 (Train) 0.5520 (Val acc)\n",
      "Epoch 1900: 1.0447 (Train) 0.5490 (Val acc)\n",
      "Epoch 1950: 1.0284 (Train) 0.5520 (Val acc)\n",
      "Epoch 2000: 1.0351 (Train) 0.5551 (Val acc)\n",
      "Epoch 2050: 1.1609 (Train) 0.5510 (Val acc)\n",
      "Epoch 2100: 1.1117 (Train) 0.5510 (Val acc)\n",
      "Epoch 2150: 1.1141 (Train) 0.5510 (Val acc)\n",
      "Epoch 2200: 1.1025 (Train) 0.5500 (Val acc)\n",
      "Epoch 2250: 1.0978 (Train) 0.5531 (Val acc)\n",
      "Epoch 2300: 1.0955 (Train) 0.5510 (Val acc)\n",
      "Epoch 2350: 1.1022 (Train) 0.5541 (Val acc)\n",
      "Epoch 2400: 1.0717 (Train) 0.5520 (Val acc)\n",
      "Epoch 2450: 0.9801 (Train) 0.5286 (Val acc)\n",
      "Epoch 2500: 1.0858 (Train) 0.5520 (Val acc)\n",
      "Epoch 2550: 1.1228 (Train) 0.5561 (Val acc)\n",
      "Epoch 2600: 0.9989 (Train) 0.5602 (Val acc)\n",
      "Epoch 2650: 1.0890 (Train) 0.5551 (Val acc)\n",
      "Epoch 2700: 1.0488 (Train) 0.5480 (Val acc)\n",
      "Epoch 2750: 1.0121 (Train) 0.5510 (Val acc)\n",
      "Epoch 2800: 1.0073 (Train) 0.5561 (Val acc)\n",
      "Epoch 2850: 1.1204 (Train) 0.5551 (Val acc)\n",
      "Epoch 2900: 1.0730 (Train) 0.5541 (Val acc)\n",
      "Epoch 2950: 1.1446 (Train) 0.5520 (Val acc)\n",
      "Epoch 3000: 1.1374 (Train) 0.5469 (Val acc)\n",
      "Epoch 3050: 1.0503 (Train) 0.5459 (Val acc)\n",
      "Epoch 3100: 1.0600 (Train) 0.5510 (Val acc)\n",
      "Epoch 3150: 1.0391 (Train) 0.5510 (Val acc)\n",
      "Epoch 3200: 1.0298 (Train) 0.5490 (Val acc)\n",
      "Epoch 3250: 1.1968 (Train) 0.5429 (Val acc)\n",
      "Epoch 3300: 1.0540 (Train) 0.5429 (Val acc)\n",
      "Epoch 3350: 1.1337 (Train) 0.5480 (Val acc)\n",
      "Epoch 3400: 1.1693 (Train) 0.5439 (Val acc)\n",
      "Epoch 3450: 1.0863 (Train) 0.5316 (Val acc)\n",
      "Epoch 3500: 1.1038 (Train) 0.5500 (Val acc)\n",
      "Epoch 3550: 1.0811 (Train) 0.5459 (Val acc)\n",
      "Epoch 3600: 1.0840 (Train) 0.5469 (Val acc)\n",
      "Epoch 3650: 1.0840 (Train) 0.5459 (Val acc)\n",
      "Epoch 3700: 1.0513 (Train) 0.5439 (Val acc)\n",
      "Epoch 3750: 1.1009 (Train) 0.5500 (Val acc)\n",
      "Epoch 3800: 1.0528 (Train) 0.5439 (Val acc)\n",
      "Epoch 3850: 1.0411 (Train) 0.5480 (Val acc)\n",
      "Epoch 3900: 1.0837 (Train) 0.5490 (Val acc)\n",
      "Epoch 3950: 1.0700 (Train) 0.5449 (Val acc)\n",
      "Epoch 4000: 1.0761 (Train) 0.5480 (Val acc)\n",
      "Epoch 4050: 1.0398 (Train) 0.5490 (Val acc)\n",
      "Epoch 4100: 1.0674 (Train) 0.5520 (Val acc)\n",
      "Epoch 4150: 1.0657 (Train) 0.5398 (Val acc)\n",
      "Epoch 4200: 1.0714 (Train) 0.5480 (Val acc)\n",
      "Epoch 4250: 1.1533 (Train) 0.5480 (Val acc)\n",
      "Epoch 4300: 1.0735 (Train) 0.5459 (Val acc)\n",
      "Epoch 4350: 1.1035 (Train) 0.5439 (Val acc)\n",
      "Epoch 4400: 1.0210 (Train) 0.5418 (Val acc)\n",
      "Epoch 4450: 1.1505 (Train) 0.5449 (Val acc)\n",
      "Epoch 4500: 1.0736 (Train) 0.5429 (Val acc)\n",
      "Epoch 4550: 1.0763 (Train) 0.5459 (Val acc)\n",
      "Epoch 4600: 1.0561 (Train) 0.5429 (Val acc)\n",
      "Epoch 4650: 1.1167 (Train) 0.5469 (Val acc)\n",
      "Epoch 4700: 1.0787 (Train) 0.5449 (Val acc)\n",
      "Epoch 4750: 1.1068 (Train) 0.5459 (Val acc)\n",
      "Epoch 4800: 1.0743 (Train) 0.5500 (Val acc)\n",
      "Epoch 4850: 1.1358 (Train) 0.5469 (Val acc)\n",
      "Epoch 4900: 1.0770 (Train) 0.5449 (Val acc)\n",
      "Epoch 4950: 1.0145 (Train) 0.5490 (Val acc)\n",
      "Epoch 5000: 1.0345 (Train) 0.5439 (Val acc)\n",
      "Epoch 5050: 1.1017 (Train) 0.5469 (Val acc)\n",
      "Epoch 5100: 1.0912 (Train) 0.5449 (Val acc)\n",
      "Epoch 5150: 1.0616 (Train) 0.5429 (Val acc)\n",
      "Epoch 5200: 1.1115 (Train) 0.5480 (Val acc)\n",
      "Epoch 5250: 0.9518 (Train) 0.5500 (Val acc)\n",
      "Epoch 5300: 1.1873 (Train) 0.5429 (Val acc)\n",
      "Epoch 5350: 1.0583 (Train) 0.5480 (Val acc)\n",
      "Epoch 5400: 1.1765 (Train) 0.5449 (Val acc)\n",
      "Epoch 5450: 1.0588 (Train) 0.5429 (Val acc)\n",
      "Epoch 5500: 1.0560 (Train) 0.5449 (Val acc)\n",
      "Epoch 5550: 1.0541 (Train) 0.5490 (Val acc)\n",
      "Epoch 5600: 1.1592 (Train) 0.5459 (Val acc)\n",
      "Epoch 5650: 1.0551 (Train) 0.5408 (Val acc)\n",
      "Epoch 5700: 1.0227 (Train) 0.5531 (Val acc)\n",
      "Epoch 5750: 1.0183 (Train) 0.5439 (Val acc)\n",
      "Epoch 5800: 1.0563 (Train) 0.5500 (Val acc)\n",
      "Epoch 5850: 1.1604 (Train) 0.5480 (Val acc)\n",
      "Epoch 5900: 0.9519 (Train) 0.5449 (Val acc)\n",
      "Epoch 5950: 1.1037 (Train) 0.5439 (Val acc)\n",
      "Epoch 6000: 0.9842 (Train) 0.5408 (Val acc)\n",
      "Epoch 6050: 1.1050 (Train) 0.5449 (Val acc)\n",
      "Epoch 6100: 1.0703 (Train) 0.5510 (Val acc)\n",
      "Epoch 6150: 1.0125 (Train) 0.5500 (Val acc)\n",
      "Epoch 6200: 1.0006 (Train) 0.5520 (Val acc)\n",
      "Epoch 6250: 1.0817 (Train) 0.5480 (Val acc)\n",
      "Epoch 6300: 1.1130 (Train) 0.5439 (Val acc)\n",
      "Epoch 6350: 1.1123 (Train) 0.5510 (Val acc)\n",
      "Epoch 6400: 1.0425 (Train) 0.5490 (Val acc)\n",
      "Epoch 6450: 1.1337 (Train) 0.5469 (Val acc)\n",
      "Epoch 6500: 0.9735 (Train) 0.5490 (Val acc)\n",
      "Epoch 6550: 1.0955 (Train) 0.5490 (Val acc)\n",
      "Epoch 6600: 1.1379 (Train) 0.5469 (Val acc)\n",
      "Epoch 6650: 0.9795 (Train) 0.5449 (Val acc)\n",
      "Epoch 6700: 1.0678 (Train) 0.5418 (Val acc)\n",
      "Epoch 6750: 1.1127 (Train) 0.5561 (Val acc)\n",
      "Epoch 6800: 1.1094 (Train) 0.5520 (Val acc)\n",
      "Epoch 6850: 1.0360 (Train) 0.5520 (Val acc)\n",
      "Epoch 6900: 1.0438 (Train) 0.5500 (Val acc)\n",
      "Epoch 6950: 1.0649 (Train) 0.5500 (Val acc)\n",
      "Epoch 7000: 1.0536 (Train) 0.5469 (Val acc)\n",
      "Epoch 7050: 1.0726 (Train) 0.5582 (Val acc)\n",
      "Epoch 7100: 1.1021 (Train) 0.5520 (Val acc)\n",
      "Epoch 7150: 1.1185 (Train) 0.5520 (Val acc)\n",
      "Epoch 7200: 1.1110 (Train) 0.5551 (Val acc)\n",
      "Epoch 7250: 1.0349 (Train) 0.5490 (Val acc)\n",
      "Epoch 7300: 1.0352 (Train) 0.5469 (Val acc)\n",
      "Epoch 7350: 1.0722 (Train) 0.5469 (Val acc)\n",
      "Epoch 7400: 1.0093 (Train) 0.5490 (Val acc)\n",
      "Epoch 7450: 0.9861 (Train) 0.5531 (Val acc)\n",
      "Epoch 7500: 1.0152 (Train) 0.5602 (Val acc)\n",
      "Epoch 7550: 1.0555 (Train) 0.5551 (Val acc)\n",
      "Epoch 7600: 1.0566 (Train) 0.5531 (Val acc)\n",
      "Epoch 7650: 0.9889 (Train) 0.5531 (Val acc)\n",
      "Epoch 7700: 1.0346 (Train) 0.5520 (Val acc)\n",
      "Epoch 7750: 1.0111 (Train) 0.5541 (Val acc)\n",
      "Epoch 7800: 1.0173 (Train) 0.5541 (Val acc)\n",
      "Epoch 7850: 1.0795 (Train) 0.5520 (Val acc)\n",
      "Epoch 7900: 1.1068 (Train) 0.5531 (Val acc)\n",
      "Epoch 7950: 1.1181 (Train) 0.5500 (Val acc)\n",
      "Epoch 8000: 1.0154 (Train) 0.5520 (Val acc)\n",
      "Epoch 8050: 1.0769 (Train) 0.5551 (Val acc)\n",
      "Epoch 8100: 1.0321 (Train) 0.5520 (Val acc)\n",
      "Epoch 8150: 1.1299 (Train) 0.5561 (Val acc)\n",
      "Epoch 8200: 1.0618 (Train) 0.5367 (Val acc)\n",
      "Epoch 8250: 1.1188 (Train) 0.5612 (Val acc)\n",
      "Epoch 8300: 1.0000 (Train) 0.5582 (Val acc)\n",
      "Epoch 8350: 1.0367 (Train) 0.5469 (Val acc)\n",
      "Epoch 8400: 1.0403 (Train) 0.5520 (Val acc)\n",
      "Epoch 8450: 1.0557 (Train) 0.5561 (Val acc)\n",
      "Epoch 8500: 1.0788 (Train) 0.5571 (Val acc)\n",
      "Epoch 8550: 0.9606 (Train) 0.5531 (Val acc)\n",
      "Epoch 8600: 1.0496 (Train) 0.5520 (Val acc)\n",
      "Epoch 8650: 0.9941 (Train) 0.5418 (Val acc)\n",
      "Epoch 8700: 1.0542 (Train) 0.5439 (Val acc)\n",
      "Epoch 8750: 1.1289 (Train) 0.5439 (Val acc)\n",
      "Epoch 8800: 1.0455 (Train) 0.5541 (Val acc)\n",
      "Epoch 8850: 1.0745 (Train) 0.5561 (Val acc)\n",
      "Epoch 8900: 1.0206 (Train) 0.5551 (Val acc)\n",
      "Epoch 8950: 0.9891 (Train) 0.5490 (Val acc)\n",
      "Epoch 9000: 1.0142 (Train) 0.5602 (Val acc)\n",
      "Epoch 9050: 1.1668 (Train) 0.5510 (Val acc)\n",
      "Epoch 9100: 1.0035 (Train) 0.5439 (Val acc)\n",
      "Epoch 9150: 1.0545 (Train) 0.5449 (Val acc)\n",
      "Epoch 9200: 1.0243 (Train) 0.5612 (Val acc)\n",
      "Epoch 9250: 1.1038 (Train) 0.5357 (Val acc)\n",
      "Epoch 9300: 1.0273 (Train) 0.5592 (Val acc)\n",
      "Epoch 9350: 1.1143 (Train) 0.5633 (Val acc)\n",
      "Epoch 9400: 1.1036 (Train) 0.5582 (Val acc)\n",
      "Epoch 9450: 0.9981 (Train) 0.5551 (Val acc)\n",
      "Epoch 9500: 1.0307 (Train) 0.5469 (Val acc)\n",
      "Epoch 9550: 1.0845 (Train) 0.5571 (Val acc)\n",
      "Epoch 9600: 1.0545 (Train) 0.5347 (Val acc)\n",
      "Epoch 9650: 1.1718 (Train) 0.5480 (Val acc)\n",
      "Epoch 9700: 1.0044 (Train) 0.5398 (Val acc)\n",
      "Epoch 9750: 0.9733 (Train) 0.5531 (Val acc)\n",
      "Epoch 9800: 1.0909 (Train) 0.5429 (Val acc)\n",
      "Epoch 9850: 1.0356 (Train) 0.5561 (Val acc)\n",
      "Epoch 9900: 1.0816 (Train) 0.5541 (Val acc)\n",
      "Epoch 9950: 1.0108 (Train) 0.5520 (Val acc)\n"
     ]
    }
   ],
   "source": [
    "# select batch size, usually as a power of 2\n",
    "N = X_train.shape[0]\n",
    "batchSize = 256\n",
    "\n",
    "# ====== Step 3 =========\n",
    "epochs = 10000\n",
    "for i in range(epochs):\n",
    "    \n",
    "    # select a random batch\n",
    "    randomIdx = torch.randint(0, N, (batchSize,))\n",
    "    x_batch = X_train[randomIdx]\n",
    "    y_batch = y_train[randomIdx]\n",
    "    \n",
    "    # zero the parameter gradients\n",
    "    optimizer.zero_grad()\n",
    "\n",
    "    # calulate output and loss \n",
    "    output = model(x_batch)\n",
    "    loss = loss_fn(output, y_batch)\n",
    "\n",
    "    # backprop and take a step\n",
    "    loss.backward()\n",
    "    optimizer.step()\n",
    "\n",
    "    if i % 50 == 0:\n",
    "        \n",
    "        # Note we need to deactivate training (by not require gradient) and move to validation phase\n",
    "        model.eval()\n",
    "        with torch.no_grad():\n",
    "            output_val = model(X_val)\n",
    "\n",
    "            # calculate prediction and accuracy\n",
    "            y_pred = torch.argmax(output_val, dim = 1) # find out the class prediction\n",
    "            acc = (y_pred == y_val).float().sum()/y_val.shape[0]\n",
    "        \n",
    "        model.train() \n",
    "\n",
    "        print('Epoch {}: {:.4f} (Train) {:.4f} (Val acc)'.format(i, loss, acc))"
   ]
  },
  {
   "cell_type": "code",
   "execution_count": 29,
   "id": "184bdfd1-9742-4f70-be26-8d1f94674c69",
   "metadata": {},
   "outputs": [
    {
     "name": "stdout",
     "output_type": "stream",
     "text": [
      "              precision    recall  f1-score   support\n",
      "\n",
      "           0       0.00      0.00      0.00         9\n",
      "           1       1.00      0.06      0.11        51\n",
      "           2       0.59      0.46      0.52       295\n",
      "           3       0.48      0.76      0.59       409\n",
      "           4       0.49      0.26      0.34       183\n",
      "           5       0.00      0.00      0.00        33\n",
      "\n",
      "    accuracy                           0.51       980\n",
      "   macro avg       0.43      0.26      0.26       980\n",
      "weighted avg       0.52      0.51      0.47       980\n",
      "\n",
      "[[  0   0   3   6   0   0]\n",
      " [  0   3  25  21   2   0]\n",
      " [  0   0 136 157   2   0]\n",
      " [  0   0  63 311  35   0]\n",
      " [  0   0   4 132  47   0]\n",
      " [  0   0   0  24   9   0]]\n"
     ]
    },
    {
     "name": "stderr",
     "output_type": "stream",
     "text": [
      "C:\\Users\\Public\\anaconda3\\lib\\site-packages\\sklearn\\metrics\\_classification.py:1318: UndefinedMetricWarning: Precision and F-score are ill-defined and being set to 0.0 in labels with no predicted samples. Use `zero_division` parameter to control this behavior.\n",
      "  _warn_prf(average, modifier, msg_start, len(result))\n",
      "C:\\Users\\Public\\anaconda3\\lib\\site-packages\\sklearn\\metrics\\_classification.py:1318: UndefinedMetricWarning: Precision and F-score are ill-defined and being set to 0.0 in labels with no predicted samples. Use `zero_division` parameter to control this behavior.\n",
      "  _warn_prf(average, modifier, msg_start, len(result))\n",
      "C:\\Users\\Public\\anaconda3\\lib\\site-packages\\sklearn\\metrics\\_classification.py:1318: UndefinedMetricWarning: Precision and F-score are ill-defined and being set to 0.0 in labels with no predicted samples. Use `zero_division` parameter to control this behavior.\n",
      "  _warn_prf(average, modifier, msg_start, len(result))\n"
     ]
    }
   ],
   "source": [
    "# predict test data for NN\n",
    "output_test = model(X_test)\n",
    "y_pred = torch.argmax(output_test, dim = 1)\n",
    "\n",
    "print(classification_report(y_test,y_pred))\n",
    "print(confusion_matrix(y_test, y_pred))"
   ]
  },
  {
   "cell_type": "code",
   "execution_count": 30,
   "id": "6c385ffb-471e-490a-86ee-e8d45a2c6a1a",
   "metadata": {},
   "outputs": [
    {
     "name": "stdout",
     "output_type": "stream",
     "text": [
      "              precision    recall  f1-score   support\n",
      "\n",
      "           0       0.00      0.00      0.00         9\n",
      "           1       0.00      0.00      0.00        51\n",
      "           2       0.54      0.44      0.48       295\n",
      "           3       0.47      0.82      0.60       409\n",
      "           4       0.62      0.13      0.21       183\n",
      "           5       0.00      0.00      0.00        33\n",
      "\n",
      "    accuracy                           0.50       980\n",
      "   macro avg       0.27      0.23      0.22       980\n",
      "weighted avg       0.48      0.50      0.44       980\n",
      "\n",
      "[[  0   0   5   4   0   0]\n",
      " [  0   0  27  23   1   0]\n",
      " [  0   0 129 166   0   0]\n",
      " [  0   0  66 334   9   0]\n",
      " [  0   0  11 149  23   0]\n",
      " [  0   0   0  29   4   0]]\n"
     ]
    },
    {
     "name": "stderr",
     "output_type": "stream",
     "text": [
      "C:\\Users\\Public\\anaconda3\\lib\\site-packages\\sklearn\\linear_model\\_logistic.py:814: ConvergenceWarning: lbfgs failed to converge (status=1):\n",
      "STOP: TOTAL NO. of ITERATIONS REACHED LIMIT.\n",
      "\n",
      "Increase the number of iterations (max_iter) or scale the data as shown in:\n",
      "    https://scikit-learn.org/stable/modules/preprocessing.html\n",
      "Please also refer to the documentation for alternative solver options:\n",
      "    https://scikit-learn.org/stable/modules/linear_model.html#logistic-regression\n",
      "  n_iter_i = _check_optimize_result(\n",
      "C:\\Users\\Public\\anaconda3\\lib\\site-packages\\sklearn\\metrics\\_classification.py:1318: UndefinedMetricWarning: Precision and F-score are ill-defined and being set to 0.0 in labels with no predicted samples. Use `zero_division` parameter to control this behavior.\n",
      "  _warn_prf(average, modifier, msg_start, len(result))\n",
      "C:\\Users\\Public\\anaconda3\\lib\\site-packages\\sklearn\\metrics\\_classification.py:1318: UndefinedMetricWarning: Precision and F-score are ill-defined and being set to 0.0 in labels with no predicted samples. Use `zero_division` parameter to control this behavior.\n",
      "  _warn_prf(average, modifier, msg_start, len(result))\n",
      "C:\\Users\\Public\\anaconda3\\lib\\site-packages\\sklearn\\metrics\\_classification.py:1318: UndefinedMetricWarning: Precision and F-score are ill-defined and being set to 0.0 in labels with no predicted samples. Use `zero_division` parameter to control this behavior.\n",
      "  _warn_prf(average, modifier, msg_start, len(result))\n"
     ]
    }
   ],
   "source": [
    "# let's compare against a baseline model logistic regression\n",
    "from sklearn.linear_model import LogisticRegression\n",
    "lg_clf = LogisticRegression().fit(X_train, y_train)\n",
    "y_pred = lg_clf.predict(X_test)\n",
    "\n",
    "print(classification_report(y_test,y_pred))\n",
    "print(confusion_matrix(y_test, y_pred))"
   ]
  },
  {
   "cell_type": "code",
   "execution_count": 31,
   "id": "8270793c-5f4f-45c6-a19a-190b5b6222e4",
   "metadata": {},
   "outputs": [],
   "source": [
    "# Currently, the prediction from our neural network is not good. This may be because the hyperparameters are not tuned."
   ]
  }
 ],
 "metadata": {
  "kernelspec": {
   "display_name": "Python 3 (ipykernel)",
   "language": "python",
   "name": "python3"
  },
  "language_info": {
   "codemirror_mode": {
    "name": "ipython",
    "version": 3
   },
   "file_extension": ".py",
   "mimetype": "text/x-python",
   "name": "python",
   "nbconvert_exporter": "python",
   "pygments_lexer": "ipython3",
   "version": "3.9.12"
  }
 },
 "nbformat": 4,
 "nbformat_minor": 5
}
