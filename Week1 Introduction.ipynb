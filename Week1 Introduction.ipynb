{
 "cells": [
  {
   "cell_type": "code",
   "execution_count": 46,
   "id": "8f3a6e52-cc9f-4276-8881-f29b93c6409d",
   "metadata": {},
   "outputs": [
    {
     "name": "stdout",
     "output_type": "stream",
     "text": [
      "The Zen of Python, by Tim Peters\n",
      "\n",
      "Beautiful is better than ugly.\n",
      "Explicit is better than implicit.\n",
      "Simple is better than complex.\n",
      "Complex is better than complicated.\n",
      "Flat is better than nested.\n",
      "Sparse is better than dense.\n",
      "Readability counts.\n",
      "Special cases aren't special enough to break the rules.\n",
      "Although practicality beats purity.\n",
      "Errors should never pass silently.\n",
      "Unless explicitly silenced.\n",
      "In the face of ambiguity, refuse the temptation to guess.\n",
      "There should be one-- and preferably only one --obvious way to do it.\n",
      "Although that way may not be obvious at first unless you're Dutch.\n",
      "Now is better than never.\n",
      "Although never is often better than *right* now.\n",
      "If the implementation is hard to explain, it's a bad idea.\n",
      "If the implementation is easy to explain, it may be a good idea.\n",
      "Namespaces are one honking great idea -- let's do more of those!\n"
     ]
    }
   ],
   "source": [
    "import this"
   ]
  },
  {
   "cell_type": "code",
   "execution_count": 1,
   "id": "dc0db228-4327-4c24-b92a-e11f7d0f7fca",
   "metadata": {},
   "outputs": [
    {
     "name": "stdout",
     "output_type": "stream",
     "text": [
      "Hello World!\n"
     ]
    }
   ],
   "source": [
    "print('Hello World!')"
   ]
  },
  {
   "cell_type": "markdown",
   "id": "1338d3ac-b2f4-4ad9-9605-66394f191463",
   "metadata": {},
   "source": [
    "# Function"
   ]
  },
  {
   "cell_type": "code",
   "execution_count": null,
   "id": "7321a7d9-4037-40aa-84b2-2040f6e3528b",
   "metadata": {},
   "outputs": [],
   "source": [
    "# def function_name(parameter_1, parameter_2, ... parameter_n):\n",
    "#     # your code here to complete the task\n",
    "#     return result"
   ]
  },
  {
   "cell_type": "code",
   "execution_count": 2,
   "id": "ef3aa1a3-c9df-4c3d-a5da-d68b7aea5dda",
   "metadata": {},
   "outputs": [
    {
     "name": "stdout",
     "output_type": "stream",
     "text": [
      "8\n"
     ]
    }
   ],
   "source": [
    "def power(x, exponent):\n",
    "    y = x**exponent\n",
    "    return y\n",
    "    \n",
    "z = power(2, 3)\n",
    "print(z)"
   ]
  },
  {
   "cell_type": "code",
   "execution_count": 4,
   "id": "4fa80cb3-213f-475a-bd69-9ead8b35b5dc",
   "metadata": {},
   "outputs": [
    {
     "name": "stdout",
     "output_type": "stream",
     "text": [
      "[323126.62 104713.47 104063.75]\n"
     ]
    }
   ],
   "source": [
    "import numpy as np\n",
    "\n",
    "# def predict(data):\n",
    "#     betas = np.array([-26733.12, 87.50, -29192.65, 41420.77, -553.40])\n",
    "#     return betas[0] + data @ betas[1:]\n",
    "\n",
    "def predict(data):\n",
    "    betas = np.array([-26733.12, 87.50, -29192.65, 41420.77, -553.40])\n",
    "    return np.hstack((np.ones((len(data), 1)), data)) @ betas.T\n",
    "\n",
    "# Some test code\n",
    "data = np.array([[4500, 4, 2, 18],\n",
    "                 [1588, 3, 2, 5],\n",
    "                 [1714, 2, 1, 4]]) \n",
    "\n",
    "print(predict(data))"
   ]
  },
  {
   "cell_type": "markdown",
   "id": "bc07adc2-92d4-41b1-be04-96712c8d9b97",
   "metadata": {},
   "source": [
    "# Class"
   ]
  },
  {
   "cell_type": "code",
   "execution_count": 6,
   "id": "50794084-1e44-41c3-b25c-1ab0f5031472",
   "metadata": {},
   "outputs": [],
   "source": [
    "# class class_name():\n",
    "\n",
    "#     def instance_method1(self, parameter_1, ..., parameter_n):\n",
    "#         # do something\n",
    "#         return # optional\n",
    "\n",
    "#     def instance_method2(self, parameter_1, ..., parameter_n):\n",
    "#         # do something\n",
    "#         return # optional"
   ]
  },
  {
   "cell_type": "code",
   "execution_count": 5,
   "id": "219a170b-61a8-48c5-87c8-d25ced96e38b",
   "metadata": {},
   "outputs": [],
   "source": [
    "from sklearn.linear_model import LinearRegression\n",
    "\n",
    "model_instance = LinearRegression()"
   ]
  },
  {
   "cell_type": "code",
   "execution_count": 7,
   "id": "f99267f7-5052-414b-93da-c86801c4d092",
   "metadata": {},
   "outputs": [],
   "source": [
    "# # Constructor Methods\n",
    "\n",
    "# class class_name():\n",
    "#     def __init__(self, parameter_1, ..., parameter_n):\n",
    "#         # Set values here"
   ]
  },
  {
   "cell_type": "code",
   "execution_count": 8,
   "id": "c2cee516-9c06-43a9-a460-1d6498b2dd0d",
   "metadata": {},
   "outputs": [
    {
     "name": "stdout",
     "output_type": "stream",
     "text": [
      "10\n"
     ]
    }
   ],
   "source": [
    "class Point():\n",
    "    def __init__(self, x, y):\n",
    "        self.x = x\n",
    "        self.y = y\n",
    "\n",
    "point = Point(10, 20)\n",
    "\n",
    "print(point.x)"
   ]
  },
  {
   "cell_type": "code",
   "execution_count": 9,
   "id": "89bd7615-256f-4a1d-81f8-66b266d45108",
   "metadata": {},
   "outputs": [
    {
     "name": "stdout",
     "output_type": "stream",
     "text": [
      "Student name: Jack, sid: 412345678, email jack123@gmail.com\n",
      "Student name: Jack, sid: 412345678, email jack456@gmail.com\n"
     ]
    }
   ],
   "source": [
    "class Student():\n",
    "    \"\"\"\n",
    "    A student class that stores/updates info\n",
    "    \"\"\"\n",
    "    # Your code starts here\n",
    "    def __init__(self, name, sid, email):\n",
    "        # Initialize the student object by storing the name, sid, email attributes\n",
    "        self.name = name\n",
    "        self.sid = sid\n",
    "        self.email = email\n",
    "        \n",
    "    def update_email(self, new):\n",
    "        # Function to update email of the student\n",
    "        self.email = new\n",
    "\n",
    "\n",
    "student1 = Student('Jack', 412345678, 'jack123@gmail.com')\n",
    "print('Student name: {}, sid: {}, email {}'.format(student1.name, student1.sid, student1.email))\n",
    "\n",
    "student1.update_email('jack456@gmail.com')\n",
    "print('Student name: {}, sid: {}, email {}'.format(student1.name, student1.sid, student1.email))"
   ]
  },
  {
   "cell_type": "markdown",
   "id": "46d6a75a-91e3-4e6b-831d-de17145cf129",
   "metadata": {
    "tags": []
   },
   "source": [
    "# Linear Algebra"
   ]
  },
  {
   "cell_type": "code",
   "execution_count": 10,
   "id": "805d2465-8073-49de-aa21-6a1ceb053be2",
   "metadata": {},
   "outputs": [],
   "source": [
    "import numpy as np"
   ]
  },
  {
   "cell_type": "markdown",
   "id": "94fd61da-afeb-48d1-a961-54c95909df97",
   "metadata": {},
   "source": [
    "- ## Transpose\n",
    "Taking the transpose of a matrix means you switch all the rows and columns - the first row becomes the first column and vice versa for all rows and columns. You can also think of the transpose as flipping all the matrix elements around the diagonal. "
   ]
  },
  {
   "cell_type": "code",
   "execution_count": 11,
   "id": "5adefa44-1887-4c39-9e12-aa939808707a",
   "metadata": {},
   "outputs": [
    {
     "name": "stdout",
     "output_type": "stream",
     "text": [
      "[[1 2 3]\n",
      " [4 8 1]\n",
      " [5 6 4]]\n"
     ]
    }
   ],
   "source": [
    "A = np.array([[1, 4, 5],\n",
    "              [2, 8, 6],\n",
    "              [3, 1, 4]])\n",
    "\n",
    "print(A.T)"
   ]
  },
  {
   "cell_type": "markdown",
   "id": "9740a857-4220-4a79-ad21-9107afb42f00",
   "metadata": {},
   "source": [
    "- ## Vector Product\n",
    "The product of vectors is calculated using the inner product which is a way of multiplying them together so that the output is a scalar (not a vector). If you only have two vectors, the inner product becomes the dot product"
   ]
  },
  {
   "cell_type": "code",
   "execution_count": 12,
   "id": "28e3ca0c-0855-4682-8b85-fdea9a0c6b04",
   "metadata": {},
   "outputs": [
    {
     "name": "stdout",
     "output_type": "stream",
     "text": [
      "29\n"
     ]
    }
   ],
   "source": [
    "a = np.array([10, 2, 5])\n",
    "b = np.array([1, 2, 3])\n",
    "\n",
    "print(np.dot(a, b))"
   ]
  },
  {
   "cell_type": "markdown",
   "id": "e4518905-f088-4092-9bd5-f7c343b19e38",
   "metadata": {},
   "source": [
    "- ## Matrix Product\n",
    "Note: If matrix A has dimensions (m, n) and matrix B has dimensions (n, p) then A x B will have dimensions (m, p). Note that the number of columns in the first matrix must match the number of rows in the second matrix - if not then the dimensions of the matrix won't agree and multiplying them together won't make sense!"
   ]
  },
  {
   "cell_type": "code",
   "execution_count": 13,
   "id": "eea6e797-66d3-4e08-9175-223aaf7ccd4a",
   "metadata": {},
   "outputs": [
    {
     "name": "stdout",
     "output_type": "stream",
     "text": [
      "Matmul\n",
      "[[ 7 10]\n",
      " [15 22]]\n",
      "@\n",
      "[[ 7 10]\n",
      " [15 22]]\n"
     ]
    }
   ],
   "source": [
    "A = np.array([[1, 2],\n",
    "              [3, 4]])\n",
    "\n",
    "print('Matmul')\n",
    "print(np.matmul(A, A))\n",
    "\n",
    "print('@')\n",
    "print(A @ A)"
   ]
  },
  {
   "cell_type": "markdown",
   "id": "b2afeb06-a446-4fec-ab49-24c60b9cc56a",
   "metadata": {},
   "source": [
    "- ## Matrix Inverse\n",
    "The inverse of a matrix is denoted using the ^{-1} symbol i.e. the inverse of A is A^{-1}.\n",
    "</br>Note: some matrices do not have any inverse. If the matrix is not square, or if the determinant of a matrix is 0, then it is not invertible. You can calculate the determinant of your matrix using np.linalg.det"
   ]
  },
  {
   "cell_type": "code",
   "execution_count": 14,
   "id": "7721ae8d-9ccd-4363-a665-26c020398427",
   "metadata": {},
   "outputs": [
    {
     "name": "stdout",
     "output_type": "stream",
     "text": [
      "[[ 0.40909091 -0.12121212 -0.13636364]\n",
      " [-0.13636364  0.15151515  0.04545455]\n",
      " [ 0.01515152 -0.09090909  0.10606061]]\n"
     ]
    }
   ],
   "source": [
    "A = np.array([[4, 5, 3],\n",
    "              [3, 9, 0],\n",
    "              [2, 7, 9]])\n",
    "\n",
    "Ainv = np.linalg.inv(A)\n",
    "\n",
    "print(Ainv)"
   ]
  },
  {
   "cell_type": "code",
   "execution_count": 15,
   "id": "de487342-2238-4b64-ac40-a7db008888b4",
   "metadata": {},
   "outputs": [
    {
     "name": "stdout",
     "output_type": "stream",
     "text": [
      "[[111 129]\n",
      " [ 33  57]\n",
      " [143 163]\n",
      " [104 118]]\n"
     ]
    }
   ],
   "source": [
    "A = np.array([[3, 6, 12],\n",
    "              [11, 2, 2],\n",
    "              [1, 4, 18],\n",
    "              [2, 8, 10]])\n",
    "\n",
    "B = np.array([[1, 4, 7],\n",
    "              [3, 4, 8]])\n",
    "\n",
    "print(A @ B.T)\n",
    "# (4, 3) @ (3, 2) = (4, 2)"
   ]
  },
  {
   "cell_type": "code",
   "execution_count": 16,
   "id": "c7546ba2-c598-44a7-96a6-fa2fdc520da7",
   "metadata": {},
   "outputs": [
    {
     "name": "stdout",
     "output_type": "stream",
     "text": [
      "28\n"
     ]
    }
   ],
   "source": [
    "a = np.array([2, 4, 6])\n",
    "\n",
    "b = np.array([1, 2, 3])\n",
    "\n",
    "print(np.dot(a, b))\n",
    "# print(a @ b.T)"
   ]
  },
  {
   "cell_type": "markdown",
   "id": "b693000f-4a3d-48ff-9ae6-b0adc0647a8e",
   "metadata": {},
   "source": [
    "- ## Concatenating arrays"
   ]
  },
  {
   "cell_type": "code",
   "execution_count": 18,
   "id": "1b619e87-7fa0-45c6-9947-65f22b1ca265",
   "metadata": {},
   "outputs": [
    {
     "name": "stdout",
     "output_type": "stream",
     "text": [
      "[[1 2]\n",
      " [3 4]\n",
      " [5 6]\n",
      " [7 8]]\n"
     ]
    }
   ],
   "source": [
    "a = np.array([[1, 2],\n",
    "              [3, 4]])\n",
    "              \n",
    "b = np.array([[5, 6],\n",
    "              [7, 8]])\n",
    "\n",
    "print(np.vstack((a, b)))"
   ]
  },
  {
   "cell_type": "code",
   "execution_count": 19,
   "id": "5dcfb892-f70f-4539-8276-00cd59aeac54",
   "metadata": {},
   "outputs": [
    {
     "name": "stdout",
     "output_type": "stream",
     "text": [
      "[[1 2 5 6]\n",
      " [3 4 7 8]]\n"
     ]
    }
   ],
   "source": [
    "a = np.array([[1, 2],\n",
    "              [3, 4]])\n",
    "              \n",
    "b = np.array([[5, 6],\n",
    "              [7, 8]])\n",
    "\n",
    "print(np.hstack((a, b)))"
   ]
  },
  {
   "cell_type": "markdown",
   "id": "6ba822ac-3c86-4187-ba36-2058bec7086f",
   "metadata": {},
   "source": [
    "- Note: The np.concatenate function as another argument called axis that allows you to specify the joining axis - if axis = 0 the function is equivalent to np.vstack (this is the default) and if axis = 1 the function is equivalent to np.hstack"
   ]
  },
  {
   "cell_type": "code",
   "execution_count": 23,
   "id": "eb7618d3-6ba0-413e-9306-201e2574b9a2",
   "metadata": {},
   "outputs": [
    {
     "name": "stdout",
     "output_type": "stream",
     "text": [
      "[1 2 3 4 5 6]\n"
     ]
    }
   ],
   "source": [
    "a = np.array([1, 2, 3])\n",
    "b = np.array([4, 5, 6])\n",
    "\n",
    "print(np.concatenate((a, b)))"
   ]
  },
  {
   "cell_type": "code",
   "execution_count": 25,
   "id": "0beaa28a-56e2-4769-8a1e-3c4401e1f7d2",
   "metadata": {},
   "outputs": [
    {
     "name": "stdout",
     "output_type": "stream",
     "text": [
      "[[1 2]\n",
      " [3 4]\n",
      " [5 6]\n",
      " [7 8]]\n",
      "[[1 2 5 6]\n",
      " [3 4 7 8]]\n"
     ]
    }
   ],
   "source": [
    "a = np.array([[1, 2],\n",
    "              [3, 4]])\n",
    "\n",
    "b = np.array([[5, 6],\n",
    "              [7, 8]])\n",
    "\n",
    "print(np.concatenate((a, b), axis=0))\n",
    "print(np.concatenate((a, b), axis=1))"
   ]
  },
  {
   "cell_type": "code",
   "execution_count": 26,
   "id": "61274a65-2acb-4999-9ee8-93e76843e1ed",
   "metadata": {},
   "outputs": [
    {
     "name": "stdout",
     "output_type": "stream",
     "text": [
      "[1 2 3 4 5 6]\n"
     ]
    }
   ],
   "source": [
    "a = np.array([1, 2, 3])\n",
    "b = np.array([4, 5, 6])\n",
    "\n",
    "print(np.append(a, b))"
   ]
  },
  {
   "cell_type": "markdown",
   "id": "e6d33e3a-221c-45ad-9b33-dfc471d29447",
   "metadata": {},
   "source": [
    "- ## Zeros and Ones"
   ]
  },
  {
   "cell_type": "code",
   "execution_count": 30,
   "id": "d2fed743-93dd-42e7-9e9e-1e56e1f1d7e5",
   "metadata": {},
   "outputs": [
    {
     "name": "stdout",
     "output_type": "stream",
     "text": [
      "[[1. 1. 1.]\n",
      " [1. 1. 1.]]\n",
      "[[0. 0. 0. 0. 0.]\n",
      " [0. 0. 0. 0. 0.]\n",
      " [0. 0. 0. 0. 0.]\n",
      " [0. 0. 0. 0. 0.]]\n"
     ]
    }
   ],
   "source": [
    "print(np.ones((2, 3)))\n",
    "print(np.zeros((4, 5)))"
   ]
  },
  {
   "cell_type": "markdown",
   "id": "8bccf3d7-10cd-4ff7-bc5d-1d4a496488dd",
   "metadata": {},
   "source": [
    "***"
   ]
  },
  {
   "cell_type": "code",
   "execution_count": 31,
   "id": "c6f5b96a-131d-4f96-806f-b69cf40a3929",
   "metadata": {
    "tags": []
   },
   "outputs": [
    {
     "name": "stdout",
     "output_type": "stream",
     "text": [
      "[[ 1.  5.  7. 10.  4.  1.]\n",
      " [ 1.  5. 12.  7.  5.  2.]\n",
      " [ 1.  4.  2.  9. 18.  7.]\n",
      " [ 1.  4.  1. 10.  0.  8.]\n",
      " [ 1.  9. 10.  4.  5.  1.]]\n"
     ]
    }
   ],
   "source": [
    "# Add Intercept\n",
    "data = np.array([[5, 7, 10, 4, 1], \n",
    "                 [5, 12, 7, 5, 2],\n",
    "                 [4, 2, 9, 18, 7],\n",
    "                 [4, 1, 10, 0, 8],\n",
    "                 [9, 10, 4, 5, 1]])\n",
    "                 \n",
    "# Your code here\n",
    "print(np.hstack((np.ones((data.shape[0], 1)), data)))"
   ]
  },
  {
   "cell_type": "code",
   "execution_count": 32,
   "id": "62b24ce5-70db-43d9-8c34-f6b3b602697e",
   "metadata": {},
   "outputs": [
    {
     "name": "stdout",
     "output_type": "stream",
     "text": [
      "[[ 1.  1.  1.  1.  1.]\n",
      " [ 5.  7. 10.  4.  1.]\n",
      " [ 5. 12.  7.  5.  2.]\n",
      " [ 4.  2.  9. 18.  7.]\n",
      " [ 4.  1. 10.  0.  8.]\n",
      " [ 9. 10.  4.  5.  1.]]\n"
     ]
    }
   ],
   "source": [
    "data = np.array([[5, 7, 10, 4, 1], \n",
    "                 [5, 12, 7, 5, 2],\n",
    "                 [4, 2, 9, 18, 7],\n",
    "                 [4, 1, 10, 0, 8],\n",
    "                 [9, 10, 4, 5, 1]])\n",
    "\n",
    "# Your code here\n",
    "# print(np.vstack((np.ones((1, data.shape[1])), data)))\n",
    "\n",
    "ones = np.ones((1, data.shape[1]))\n",
    "output = np.vstack((ones, data))\n",
    "print(output)"
   ]
  },
  {
   "cell_type": "code",
   "execution_count": 35,
   "id": "16ff07f2-8aa7-40c6-bf53-2e051b2c7bf7",
   "metadata": {},
   "outputs": [
    {
     "name": "stdout",
     "output_type": "stream",
     "text": [
      "[[1. 0.]\n",
      " [0. 1.]]\n",
      "[[1. 0.]\n",
      " [0. 1.]]\n"
     ]
    }
   ],
   "source": [
    "A = np.array([[0.625, 0.125],   \n",
    "              [-0.25, 0.75]])\n",
    "\n",
    "B = np.array([[1, 4],\n",
    "              [3, 4]])\n",
    "\n",
    "C = np.array([[1, 3],\n",
    "              [2, 2]])\n",
    "\n",
    "# Your code here\n",
    "print(A @ B @ np.linalg.inv(C))\n",
    "\n",
    "print(np.eye(2)) # I"
   ]
  },
  {
   "cell_type": "code",
   "execution_count": 36,
   "id": "9d6f3470-bbe2-4ce2-b01d-e266cb5206ad",
   "metadata": {},
   "outputs": [
    {
     "name": "stdout",
     "output_type": "stream",
     "text": [
      "323126.62\n"
     ]
    }
   ],
   "source": [
    "features = np.array([1, 4500, 4, 2, 18])\n",
    "betas = np.array([-26733.12, 87.50, -29192.65, 41420.77, -553.40])\n",
    "#                 Beta0      Beta1  Beta2      Beta3     Beta4\n",
    "\n",
    "# Your code here\n",
    "print(features @ betas.T)"
   ]
  },
  {
   "cell_type": "code",
   "execution_count": 37,
   "id": "ee273696-4545-425b-a87b-0a45b8487f55",
   "metadata": {},
   "outputs": [],
   "source": [
    "# Your code here\n",
    "def error_message(username):\n",
    "    print(f\"I'm sorry, {username}. I'm afraid I can't do that.\")"
   ]
  },
  {
   "cell_type": "code",
   "execution_count": null,
   "id": "4cb0a92b-3695-46c4-a040-cfa9a83df640",
   "metadata": {},
   "outputs": [],
   "source": [
    "# Your code here\n",
    "def energy(mass):\n",
    "    return float(mass * pow(299792458, 2))"
   ]
  },
  {
   "cell_type": "markdown",
   "id": "d089f07f-cbbc-4eb0-a1c1-a606051d0406",
   "metadata": {
    "tags": []
   },
   "source": [
    "# Data Manipulation"
   ]
  },
  {
   "cell_type": "code",
   "execution_count": 38,
   "id": "5ca7f624-6d4c-4c9d-88c9-52c14e558a6c",
   "metadata": {},
   "outputs": [],
   "source": [
    "import pandas as pd"
   ]
  },
  {
   "cell_type": "code",
   "execution_count": 39,
   "id": "155da11a-f9ae-44c3-bae5-081b90938281",
   "metadata": {},
   "outputs": [],
   "source": [
    "drinks = pd.read_csv('data/drinks.csv')"
   ]
  },
  {
   "cell_type": "code",
   "execution_count": 40,
   "id": "fbdf8a4b-3082-44ea-ae4d-50e003d9b6db",
   "metadata": {},
   "outputs": [
    {
     "data": {
      "text/plain": [
       "<bound method DataFrame.info of          country  beer_servings  spirit_servings  wine_servings  \\\n",
       "0    Afghanistan              0                0              0   \n",
       "1        Albania             89              132             54   \n",
       "2        Algeria             25                0             14   \n",
       "3        Andorra            245              138            312   \n",
       "4         Angola            217               57             45   \n",
       "..           ...            ...              ...            ...   \n",
       "188    Venezuela            333              100              3   \n",
       "189      Vietnam            111                2              1   \n",
       "190        Yemen              6                0              0   \n",
       "191       Zambia             32               19              4   \n",
       "192     Zimbabwe             64               18              4   \n",
       "\n",
       "     total_litres_of_pure_alcohol continent  \n",
       "0                             0.0        AS  \n",
       "1                             4.9        EU  \n",
       "2                             0.7        AF  \n",
       "3                            12.4        EU  \n",
       "4                             5.9        AF  \n",
       "..                            ...       ...  \n",
       "188                           7.7        SA  \n",
       "189                           2.0        AS  \n",
       "190                           0.1        AS  \n",
       "191                           2.5        AF  \n",
       "192                           4.7        AF  \n",
       "\n",
       "[193 rows x 6 columns]>"
      ]
     },
     "execution_count": 40,
     "metadata": {},
     "output_type": "execute_result"
    }
   ],
   "source": [
    "drinks.info"
   ]
  },
  {
   "cell_type": "code",
   "execution_count": 41,
   "id": "055bc7aa-4203-443d-a6b5-feea38bd5975",
   "metadata": {},
   "outputs": [
    {
     "data": {
      "text/html": [
       "<div>\n",
       "<style scoped>\n",
       "    .dataframe tbody tr th:only-of-type {\n",
       "        vertical-align: middle;\n",
       "    }\n",
       "\n",
       "    .dataframe tbody tr th {\n",
       "        vertical-align: top;\n",
       "    }\n",
       "\n",
       "    .dataframe thead th {\n",
       "        text-align: right;\n",
       "    }\n",
       "</style>\n",
       "<table border=\"1\" class=\"dataframe\">\n",
       "  <thead>\n",
       "    <tr style=\"text-align: right;\">\n",
       "      <th></th>\n",
       "      <th>beer_servings</th>\n",
       "      <th>spirit_servings</th>\n",
       "      <th>wine_servings</th>\n",
       "      <th>total_litres_of_pure_alcohol</th>\n",
       "    </tr>\n",
       "  </thead>\n",
       "  <tbody>\n",
       "    <tr>\n",
       "      <th>count</th>\n",
       "      <td>193.000000</td>\n",
       "      <td>193.000000</td>\n",
       "      <td>193.000000</td>\n",
       "      <td>193.000000</td>\n",
       "    </tr>\n",
       "    <tr>\n",
       "      <th>mean</th>\n",
       "      <td>106.160622</td>\n",
       "      <td>80.994819</td>\n",
       "      <td>49.450777</td>\n",
       "      <td>4.717098</td>\n",
       "    </tr>\n",
       "    <tr>\n",
       "      <th>std</th>\n",
       "      <td>101.143103</td>\n",
       "      <td>88.284312</td>\n",
       "      <td>79.697598</td>\n",
       "      <td>3.773298</td>\n",
       "    </tr>\n",
       "    <tr>\n",
       "      <th>min</th>\n",
       "      <td>0.000000</td>\n",
       "      <td>0.000000</td>\n",
       "      <td>0.000000</td>\n",
       "      <td>0.000000</td>\n",
       "    </tr>\n",
       "    <tr>\n",
       "      <th>25%</th>\n",
       "      <td>20.000000</td>\n",
       "      <td>4.000000</td>\n",
       "      <td>1.000000</td>\n",
       "      <td>1.300000</td>\n",
       "    </tr>\n",
       "    <tr>\n",
       "      <th>50%</th>\n",
       "      <td>76.000000</td>\n",
       "      <td>56.000000</td>\n",
       "      <td>8.000000</td>\n",
       "      <td>4.200000</td>\n",
       "    </tr>\n",
       "    <tr>\n",
       "      <th>75%</th>\n",
       "      <td>188.000000</td>\n",
       "      <td>128.000000</td>\n",
       "      <td>59.000000</td>\n",
       "      <td>7.200000</td>\n",
       "    </tr>\n",
       "    <tr>\n",
       "      <th>max</th>\n",
       "      <td>376.000000</td>\n",
       "      <td>438.000000</td>\n",
       "      <td>370.000000</td>\n",
       "      <td>14.400000</td>\n",
       "    </tr>\n",
       "  </tbody>\n",
       "</table>\n",
       "</div>"
      ],
      "text/plain": [
       "       beer_servings  spirit_servings  wine_servings  \\\n",
       "count     193.000000       193.000000     193.000000   \n",
       "mean      106.160622        80.994819      49.450777   \n",
       "std       101.143103        88.284312      79.697598   \n",
       "min         0.000000         0.000000       0.000000   \n",
       "25%        20.000000         4.000000       1.000000   \n",
       "50%        76.000000        56.000000       8.000000   \n",
       "75%       188.000000       128.000000      59.000000   \n",
       "max       376.000000       438.000000     370.000000   \n",
       "\n",
       "       total_litres_of_pure_alcohol  \n",
       "count                    193.000000  \n",
       "mean                       4.717098  \n",
       "std                        3.773298  \n",
       "min                        0.000000  \n",
       "25%                        1.300000  \n",
       "50%                        4.200000  \n",
       "75%                        7.200000  \n",
       "max                       14.400000  "
      ]
     },
     "execution_count": 41,
     "metadata": {},
     "output_type": "execute_result"
    }
   ],
   "source": [
    "drinks.describe()"
   ]
  },
  {
   "cell_type": "code",
   "execution_count": 42,
   "id": "a1fdf456-13c0-46b3-a054-6c18f60d6c1a",
   "metadata": {},
   "outputs": [
    {
     "data": {
      "text/plain": [
       "0        0\n",
       "1       89\n",
       "2       25\n",
       "3      245\n",
       "4      217\n",
       "      ... \n",
       "188    333\n",
       "189    111\n",
       "190      6\n",
       "191     32\n",
       "192     64\n",
       "Name: beer_servings, Length: 193, dtype: int64"
      ]
     },
     "execution_count": 42,
     "metadata": {},
     "output_type": "execute_result"
    }
   ],
   "source": [
    "drinks['beer_servings']"
   ]
  },
  {
   "cell_type": "code",
   "execution_count": 43,
   "id": "5a3eb2af-6de1-4f5a-a259-674faddcbd89",
   "metadata": {},
   "outputs": [
    {
     "data": {
      "text/html": [
       "<div>\n",
       "<style scoped>\n",
       "    .dataframe tbody tr th:only-of-type {\n",
       "        vertical-align: middle;\n",
       "    }\n",
       "\n",
       "    .dataframe tbody tr th {\n",
       "        vertical-align: top;\n",
       "    }\n",
       "\n",
       "    .dataframe thead th {\n",
       "        text-align: right;\n",
       "    }\n",
       "</style>\n",
       "<table border=\"1\" class=\"dataframe\">\n",
       "  <thead>\n",
       "    <tr style=\"text-align: right;\">\n",
       "      <th></th>\n",
       "      <th>country</th>\n",
       "      <th>beer_servings</th>\n",
       "      <th>spirit_servings</th>\n",
       "      <th>wine_servings</th>\n",
       "      <th>total_litres_of_pure_alcohol</th>\n",
       "      <th>continent</th>\n",
       "    </tr>\n",
       "  </thead>\n",
       "  <tbody>\n",
       "    <tr>\n",
       "      <th>1</th>\n",
       "      <td>Albania</td>\n",
       "      <td>89</td>\n",
       "      <td>132</td>\n",
       "      <td>54</td>\n",
       "      <td>4.9</td>\n",
       "      <td>EU</td>\n",
       "    </tr>\n",
       "    <tr>\n",
       "      <th>3</th>\n",
       "      <td>Andorra</td>\n",
       "      <td>245</td>\n",
       "      <td>138</td>\n",
       "      <td>312</td>\n",
       "      <td>12.4</td>\n",
       "      <td>EU</td>\n",
       "    </tr>\n",
       "    <tr>\n",
       "      <th>7</th>\n",
       "      <td>Armenia</td>\n",
       "      <td>21</td>\n",
       "      <td>179</td>\n",
       "      <td>11</td>\n",
       "      <td>3.8</td>\n",
       "      <td>EU</td>\n",
       "    </tr>\n",
       "    <tr>\n",
       "      <th>9</th>\n",
       "      <td>Austria</td>\n",
       "      <td>279</td>\n",
       "      <td>75</td>\n",
       "      <td>191</td>\n",
       "      <td>9.7</td>\n",
       "      <td>EU</td>\n",
       "    </tr>\n",
       "    <tr>\n",
       "      <th>10</th>\n",
       "      <td>Azerbaijan</td>\n",
       "      <td>21</td>\n",
       "      <td>46</td>\n",
       "      <td>5</td>\n",
       "      <td>1.3</td>\n",
       "      <td>EU</td>\n",
       "    </tr>\n",
       "    <tr>\n",
       "      <th>15</th>\n",
       "      <td>Belarus</td>\n",
       "      <td>142</td>\n",
       "      <td>373</td>\n",
       "      <td>42</td>\n",
       "      <td>14.4</td>\n",
       "      <td>EU</td>\n",
       "    </tr>\n",
       "    <tr>\n",
       "      <th>16</th>\n",
       "      <td>Belgium</td>\n",
       "      <td>295</td>\n",
       "      <td>84</td>\n",
       "      <td>212</td>\n",
       "      <td>10.5</td>\n",
       "      <td>EU</td>\n",
       "    </tr>\n",
       "    <tr>\n",
       "      <th>21</th>\n",
       "      <td>Bosnia-Herzegovina</td>\n",
       "      <td>76</td>\n",
       "      <td>173</td>\n",
       "      <td>8</td>\n",
       "      <td>4.6</td>\n",
       "      <td>EU</td>\n",
       "    </tr>\n",
       "    <tr>\n",
       "      <th>25</th>\n",
       "      <td>Bulgaria</td>\n",
       "      <td>231</td>\n",
       "      <td>252</td>\n",
       "      <td>94</td>\n",
       "      <td>10.3</td>\n",
       "      <td>EU</td>\n",
       "    </tr>\n",
       "    <tr>\n",
       "      <th>42</th>\n",
       "      <td>Croatia</td>\n",
       "      <td>230</td>\n",
       "      <td>87</td>\n",
       "      <td>254</td>\n",
       "      <td>10.2</td>\n",
       "      <td>EU</td>\n",
       "    </tr>\n",
       "    <tr>\n",
       "      <th>44</th>\n",
       "      <td>Cyprus</td>\n",
       "      <td>192</td>\n",
       "      <td>154</td>\n",
       "      <td>113</td>\n",
       "      <td>8.2</td>\n",
       "      <td>EU</td>\n",
       "    </tr>\n",
       "    <tr>\n",
       "      <th>45</th>\n",
       "      <td>Czech Republic</td>\n",
       "      <td>361</td>\n",
       "      <td>170</td>\n",
       "      <td>134</td>\n",
       "      <td>11.8</td>\n",
       "      <td>EU</td>\n",
       "    </tr>\n",
       "    <tr>\n",
       "      <th>48</th>\n",
       "      <td>Denmark</td>\n",
       "      <td>224</td>\n",
       "      <td>81</td>\n",
       "      <td>278</td>\n",
       "      <td>10.4</td>\n",
       "      <td>EU</td>\n",
       "    </tr>\n",
       "    <tr>\n",
       "      <th>57</th>\n",
       "      <td>Estonia</td>\n",
       "      <td>224</td>\n",
       "      <td>194</td>\n",
       "      <td>59</td>\n",
       "      <td>9.5</td>\n",
       "      <td>EU</td>\n",
       "    </tr>\n",
       "    <tr>\n",
       "      <th>60</th>\n",
       "      <td>Finland</td>\n",
       "      <td>263</td>\n",
       "      <td>133</td>\n",
       "      <td>97</td>\n",
       "      <td>10.0</td>\n",
       "      <td>EU</td>\n",
       "    </tr>\n",
       "    <tr>\n",
       "      <th>61</th>\n",
       "      <td>France</td>\n",
       "      <td>127</td>\n",
       "      <td>151</td>\n",
       "      <td>370</td>\n",
       "      <td>11.8</td>\n",
       "      <td>EU</td>\n",
       "    </tr>\n",
       "    <tr>\n",
       "      <th>64</th>\n",
       "      <td>Georgia</td>\n",
       "      <td>52</td>\n",
       "      <td>100</td>\n",
       "      <td>149</td>\n",
       "      <td>5.4</td>\n",
       "      <td>EU</td>\n",
       "    </tr>\n",
       "    <tr>\n",
       "      <th>65</th>\n",
       "      <td>Germany</td>\n",
       "      <td>346</td>\n",
       "      <td>117</td>\n",
       "      <td>175</td>\n",
       "      <td>11.3</td>\n",
       "      <td>EU</td>\n",
       "    </tr>\n",
       "    <tr>\n",
       "      <th>67</th>\n",
       "      <td>Greece</td>\n",
       "      <td>133</td>\n",
       "      <td>112</td>\n",
       "      <td>218</td>\n",
       "      <td>8.3</td>\n",
       "      <td>EU</td>\n",
       "    </tr>\n",
       "    <tr>\n",
       "      <th>75</th>\n",
       "      <td>Hungary</td>\n",
       "      <td>234</td>\n",
       "      <td>215</td>\n",
       "      <td>185</td>\n",
       "      <td>11.3</td>\n",
       "      <td>EU</td>\n",
       "    </tr>\n",
       "    <tr>\n",
       "      <th>76</th>\n",
       "      <td>Iceland</td>\n",
       "      <td>233</td>\n",
       "      <td>61</td>\n",
       "      <td>78</td>\n",
       "      <td>6.6</td>\n",
       "      <td>EU</td>\n",
       "    </tr>\n",
       "    <tr>\n",
       "      <th>81</th>\n",
       "      <td>Ireland</td>\n",
       "      <td>313</td>\n",
       "      <td>118</td>\n",
       "      <td>165</td>\n",
       "      <td>11.4</td>\n",
       "      <td>EU</td>\n",
       "    </tr>\n",
       "    <tr>\n",
       "      <th>83</th>\n",
       "      <td>Italy</td>\n",
       "      <td>85</td>\n",
       "      <td>42</td>\n",
       "      <td>237</td>\n",
       "      <td>6.5</td>\n",
       "      <td>EU</td>\n",
       "    </tr>\n",
       "    <tr>\n",
       "      <th>93</th>\n",
       "      <td>Latvia</td>\n",
       "      <td>281</td>\n",
       "      <td>216</td>\n",
       "      <td>62</td>\n",
       "      <td>10.5</td>\n",
       "      <td>EU</td>\n",
       "    </tr>\n",
       "    <tr>\n",
       "      <th>98</th>\n",
       "      <td>Lithuania</td>\n",
       "      <td>343</td>\n",
       "      <td>244</td>\n",
       "      <td>56</td>\n",
       "      <td>12.9</td>\n",
       "      <td>EU</td>\n",
       "    </tr>\n",
       "    <tr>\n",
       "      <th>99</th>\n",
       "      <td>Luxembourg</td>\n",
       "      <td>236</td>\n",
       "      <td>133</td>\n",
       "      <td>271</td>\n",
       "      <td>11.4</td>\n",
       "      <td>EU</td>\n",
       "    </tr>\n",
       "    <tr>\n",
       "      <th>105</th>\n",
       "      <td>Malta</td>\n",
       "      <td>149</td>\n",
       "      <td>100</td>\n",
       "      <td>120</td>\n",
       "      <td>6.6</td>\n",
       "      <td>EU</td>\n",
       "    </tr>\n",
       "    <tr>\n",
       "      <th>111</th>\n",
       "      <td>Monaco</td>\n",
       "      <td>0</td>\n",
       "      <td>0</td>\n",
       "      <td>0</td>\n",
       "      <td>0.0</td>\n",
       "      <td>EU</td>\n",
       "    </tr>\n",
       "    <tr>\n",
       "      <th>113</th>\n",
       "      <td>Montenegro</td>\n",
       "      <td>31</td>\n",
       "      <td>114</td>\n",
       "      <td>128</td>\n",
       "      <td>4.9</td>\n",
       "      <td>EU</td>\n",
       "    </tr>\n",
       "    <tr>\n",
       "      <th>120</th>\n",
       "      <td>Netherlands</td>\n",
       "      <td>251</td>\n",
       "      <td>88</td>\n",
       "      <td>190</td>\n",
       "      <td>9.4</td>\n",
       "      <td>EU</td>\n",
       "    </tr>\n",
       "    <tr>\n",
       "      <th>126</th>\n",
       "      <td>Norway</td>\n",
       "      <td>169</td>\n",
       "      <td>71</td>\n",
       "      <td>129</td>\n",
       "      <td>6.7</td>\n",
       "      <td>EU</td>\n",
       "    </tr>\n",
       "    <tr>\n",
       "      <th>135</th>\n",
       "      <td>Poland</td>\n",
       "      <td>343</td>\n",
       "      <td>215</td>\n",
       "      <td>56</td>\n",
       "      <td>10.9</td>\n",
       "      <td>EU</td>\n",
       "    </tr>\n",
       "    <tr>\n",
       "      <th>136</th>\n",
       "      <td>Portugal</td>\n",
       "      <td>194</td>\n",
       "      <td>67</td>\n",
       "      <td>339</td>\n",
       "      <td>11.0</td>\n",
       "      <td>EU</td>\n",
       "    </tr>\n",
       "    <tr>\n",
       "      <th>139</th>\n",
       "      <td>Moldova</td>\n",
       "      <td>109</td>\n",
       "      <td>226</td>\n",
       "      <td>18</td>\n",
       "      <td>6.3</td>\n",
       "      <td>EU</td>\n",
       "    </tr>\n",
       "    <tr>\n",
       "      <th>140</th>\n",
       "      <td>Romania</td>\n",
       "      <td>297</td>\n",
       "      <td>122</td>\n",
       "      <td>167</td>\n",
       "      <td>10.4</td>\n",
       "      <td>EU</td>\n",
       "    </tr>\n",
       "    <tr>\n",
       "      <th>147</th>\n",
       "      <td>San Marino</td>\n",
       "      <td>0</td>\n",
       "      <td>0</td>\n",
       "      <td>0</td>\n",
       "      <td>0.0</td>\n",
       "      <td>EU</td>\n",
       "    </tr>\n",
       "    <tr>\n",
       "      <th>151</th>\n",
       "      <td>Serbia</td>\n",
       "      <td>283</td>\n",
       "      <td>131</td>\n",
       "      <td>127</td>\n",
       "      <td>9.6</td>\n",
       "      <td>EU</td>\n",
       "    </tr>\n",
       "    <tr>\n",
       "      <th>155</th>\n",
       "      <td>Slovakia</td>\n",
       "      <td>196</td>\n",
       "      <td>293</td>\n",
       "      <td>116</td>\n",
       "      <td>11.4</td>\n",
       "      <td>EU</td>\n",
       "    </tr>\n",
       "    <tr>\n",
       "      <th>156</th>\n",
       "      <td>Slovenia</td>\n",
       "      <td>270</td>\n",
       "      <td>51</td>\n",
       "      <td>276</td>\n",
       "      <td>10.6</td>\n",
       "      <td>EU</td>\n",
       "    </tr>\n",
       "    <tr>\n",
       "      <th>160</th>\n",
       "      <td>Spain</td>\n",
       "      <td>284</td>\n",
       "      <td>157</td>\n",
       "      <td>112</td>\n",
       "      <td>10.0</td>\n",
       "      <td>EU</td>\n",
       "    </tr>\n",
       "    <tr>\n",
       "      <th>165</th>\n",
       "      <td>Sweden</td>\n",
       "      <td>152</td>\n",
       "      <td>60</td>\n",
       "      <td>186</td>\n",
       "      <td>7.2</td>\n",
       "      <td>EU</td>\n",
       "    </tr>\n",
       "    <tr>\n",
       "      <th>166</th>\n",
       "      <td>Switzerland</td>\n",
       "      <td>185</td>\n",
       "      <td>100</td>\n",
       "      <td>280</td>\n",
       "      <td>10.2</td>\n",
       "      <td>EU</td>\n",
       "    </tr>\n",
       "    <tr>\n",
       "      <th>170</th>\n",
       "      <td>Macedonia</td>\n",
       "      <td>106</td>\n",
       "      <td>27</td>\n",
       "      <td>86</td>\n",
       "      <td>3.9</td>\n",
       "      <td>EU</td>\n",
       "    </tr>\n",
       "    <tr>\n",
       "      <th>180</th>\n",
       "      <td>Ukraine</td>\n",
       "      <td>206</td>\n",
       "      <td>237</td>\n",
       "      <td>45</td>\n",
       "      <td>8.9</td>\n",
       "      <td>EU</td>\n",
       "    </tr>\n",
       "    <tr>\n",
       "      <th>182</th>\n",
       "      <td>United Kingdom</td>\n",
       "      <td>219</td>\n",
       "      <td>126</td>\n",
       "      <td>195</td>\n",
       "      <td>10.4</td>\n",
       "      <td>EU</td>\n",
       "    </tr>\n",
       "  </tbody>\n",
       "</table>\n",
       "</div>"
      ],
      "text/plain": [
       "                country  beer_servings  spirit_servings  wine_servings  \\\n",
       "1               Albania             89              132             54   \n",
       "3               Andorra            245              138            312   \n",
       "7               Armenia             21              179             11   \n",
       "9               Austria            279               75            191   \n",
       "10           Azerbaijan             21               46              5   \n",
       "15              Belarus            142              373             42   \n",
       "16              Belgium            295               84            212   \n",
       "21   Bosnia-Herzegovina             76              173              8   \n",
       "25             Bulgaria            231              252             94   \n",
       "42              Croatia            230               87            254   \n",
       "44               Cyprus            192              154            113   \n",
       "45       Czech Republic            361              170            134   \n",
       "48              Denmark            224               81            278   \n",
       "57              Estonia            224              194             59   \n",
       "60              Finland            263              133             97   \n",
       "61               France            127              151            370   \n",
       "64              Georgia             52              100            149   \n",
       "65              Germany            346              117            175   \n",
       "67               Greece            133              112            218   \n",
       "75              Hungary            234              215            185   \n",
       "76              Iceland            233               61             78   \n",
       "81              Ireland            313              118            165   \n",
       "83                Italy             85               42            237   \n",
       "93               Latvia            281              216             62   \n",
       "98            Lithuania            343              244             56   \n",
       "99           Luxembourg            236              133            271   \n",
       "105               Malta            149              100            120   \n",
       "111              Monaco              0                0              0   \n",
       "113          Montenegro             31              114            128   \n",
       "120         Netherlands            251               88            190   \n",
       "126              Norway            169               71            129   \n",
       "135              Poland            343              215             56   \n",
       "136            Portugal            194               67            339   \n",
       "139             Moldova            109              226             18   \n",
       "140             Romania            297              122            167   \n",
       "147          San Marino              0                0              0   \n",
       "151              Serbia            283              131            127   \n",
       "155            Slovakia            196              293            116   \n",
       "156            Slovenia            270               51            276   \n",
       "160               Spain            284              157            112   \n",
       "165              Sweden            152               60            186   \n",
       "166         Switzerland            185              100            280   \n",
       "170           Macedonia            106               27             86   \n",
       "180             Ukraine            206              237             45   \n",
       "182      United Kingdom            219              126            195   \n",
       "\n",
       "     total_litres_of_pure_alcohol continent  \n",
       "1                             4.9        EU  \n",
       "3                            12.4        EU  \n",
       "7                             3.8        EU  \n",
       "9                             9.7        EU  \n",
       "10                            1.3        EU  \n",
       "15                           14.4        EU  \n",
       "16                           10.5        EU  \n",
       "21                            4.6        EU  \n",
       "25                           10.3        EU  \n",
       "42                           10.2        EU  \n",
       "44                            8.2        EU  \n",
       "45                           11.8        EU  \n",
       "48                           10.4        EU  \n",
       "57                            9.5        EU  \n",
       "60                           10.0        EU  \n",
       "61                           11.8        EU  \n",
       "64                            5.4        EU  \n",
       "65                           11.3        EU  \n",
       "67                            8.3        EU  \n",
       "75                           11.3        EU  \n",
       "76                            6.6        EU  \n",
       "81                           11.4        EU  \n",
       "83                            6.5        EU  \n",
       "93                           10.5        EU  \n",
       "98                           12.9        EU  \n",
       "99                           11.4        EU  \n",
       "105                           6.6        EU  \n",
       "111                           0.0        EU  \n",
       "113                           4.9        EU  \n",
       "120                           9.4        EU  \n",
       "126                           6.7        EU  \n",
       "135                          10.9        EU  \n",
       "136                          11.0        EU  \n",
       "139                           6.3        EU  \n",
       "140                          10.4        EU  \n",
       "147                           0.0        EU  \n",
       "151                           9.6        EU  \n",
       "155                          11.4        EU  \n",
       "156                          10.6        EU  \n",
       "160                          10.0        EU  \n",
       "165                           7.2        EU  \n",
       "166                          10.2        EU  \n",
       "170                           3.9        EU  \n",
       "180                           8.9        EU  \n",
       "182                          10.4        EU  "
      ]
     },
     "execution_count": 43,
     "metadata": {},
     "output_type": "execute_result"
    }
   ],
   "source": [
    "drinks[drinks['continent']=='EU']"
   ]
  },
  {
   "cell_type": "code",
   "execution_count": 44,
   "id": "b5d79137-41a3-459c-8e3f-33d72884c2fd",
   "metadata": {},
   "outputs": [
    {
     "data": {
      "text/html": [
       "<div>\n",
       "<style scoped>\n",
       "    .dataframe tbody tr th:only-of-type {\n",
       "        vertical-align: middle;\n",
       "    }\n",
       "\n",
       "    .dataframe tbody tr th {\n",
       "        vertical-align: top;\n",
       "    }\n",
       "\n",
       "    .dataframe thead th {\n",
       "        text-align: right;\n",
       "    }\n",
       "</style>\n",
       "<table border=\"1\" class=\"dataframe\">\n",
       "  <thead>\n",
       "    <tr style=\"text-align: right;\">\n",
       "      <th></th>\n",
       "      <th>country</th>\n",
       "      <th>beer_servings</th>\n",
       "      <th>spirit_servings</th>\n",
       "      <th>wine_servings</th>\n",
       "      <th>total_litres_of_pure_alcohol</th>\n",
       "      <th>continent</th>\n",
       "    </tr>\n",
       "  </thead>\n",
       "  <tbody>\n",
       "    <tr>\n",
       "      <th>3</th>\n",
       "      <td>Andorra</td>\n",
       "      <td>245</td>\n",
       "      <td>138</td>\n",
       "      <td>312</td>\n",
       "      <td>12.4</td>\n",
       "      <td>EU</td>\n",
       "    </tr>\n",
       "    <tr>\n",
       "      <th>61</th>\n",
       "      <td>France</td>\n",
       "      <td>127</td>\n",
       "      <td>151</td>\n",
       "      <td>370</td>\n",
       "      <td>11.8</td>\n",
       "      <td>EU</td>\n",
       "    </tr>\n",
       "    <tr>\n",
       "      <th>136</th>\n",
       "      <td>Portugal</td>\n",
       "      <td>194</td>\n",
       "      <td>67</td>\n",
       "      <td>339</td>\n",
       "      <td>11.0</td>\n",
       "      <td>EU</td>\n",
       "    </tr>\n",
       "  </tbody>\n",
       "</table>\n",
       "</div>"
      ],
      "text/plain": [
       "      country  beer_servings  spirit_servings  wine_servings  \\\n",
       "3     Andorra            245              138            312   \n",
       "61     France            127              151            370   \n",
       "136  Portugal            194               67            339   \n",
       "\n",
       "     total_litres_of_pure_alcohol continent  \n",
       "3                            12.4        EU  \n",
       "61                           11.8        EU  \n",
       "136                          11.0        EU  "
      ]
     },
     "execution_count": 44,
     "metadata": {},
     "output_type": "execute_result"
    }
   ],
   "source": [
    "drinks[(drinks['continent']=='EU') & (drinks['wine_servings']>300)]"
   ]
  },
  {
   "cell_type": "code",
   "execution_count": 45,
   "id": "bf41756f-3c49-4857-9222-79df3853722c",
   "metadata": {},
   "outputs": [
    {
     "data": {
      "text/plain": [
       "99             Luxembourg\n",
       "155              Slovakia\n",
       "81                Ireland\n",
       "141    Russian Federation\n",
       "61                 France\n",
       "45         Czech Republic\n",
       "68                Grenada\n",
       "3                 Andorra\n",
       "98              Lithuania\n",
       "15                Belarus\n",
       "Name: country, dtype: object"
      ]
     },
     "execution_count": 45,
     "metadata": {},
     "output_type": "execute_result"
    }
   ],
   "source": [
    "drinks.sort_values('total_litres_of_pure_alcohol')['country'].tail(10)"
   ]
  }
 ],
 "metadata": {
  "kernelspec": {
   "display_name": "Python 3 (ipykernel)",
   "language": "python",
   "name": "python3"
  },
  "language_info": {
   "codemirror_mode": {
    "name": "ipython",
    "version": 3
   },
   "file_extension": ".py",
   "mimetype": "text/x-python",
   "name": "python",
   "nbconvert_exporter": "python",
   "pygments_lexer": "ipython3",
   "version": "3.9.12"
  }
 },
 "nbformat": 4,
 "nbformat_minor": 5
}
