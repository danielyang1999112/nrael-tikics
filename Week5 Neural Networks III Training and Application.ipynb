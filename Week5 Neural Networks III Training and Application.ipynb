{
 "cells": [
  {
   "cell_type": "markdown",
   "id": "5b884dad-69cb-445b-910f-f3d0c794b780",
   "metadata": {},
   "source": [
    "# Dataloader and stochastic gradient descent"
   ]
  },
  {
   "cell_type": "code",
   "execution_count": 2,
   "id": "611094e0-6df9-4faf-901d-29f3c8cc239b",
   "metadata": {},
   "outputs": [],
   "source": [
    "import pandas as pd\n",
    "import numpy as np\n",
    "from sklearn.preprocessing import MinMaxScaler\n",
    "from sklearn.model_selection import train_test_split\n",
    "from sklearn.metrics import classification_report\n",
    "from sklearn.metrics import confusion_matrix\n",
    "\n",
    "import torch\n",
    "from torch import nn \n",
    "import torch.nn.functional as F\n",
    "from torch import utils\n",
    "\n",
    "torch.manual_seed(0)\n",
    "np.random.seed(0)"
   ]
  },
  {
   "cell_type": "markdown",
   "id": "5d49df0a-d631-4013-89d8-8ec1377ec7e1",
   "metadata": {},
   "source": [
    "- ## 1. Data"
   ]
  },
  {
   "cell_type": "code",
   "execution_count": 3,
   "id": "05b5e884-a87c-45f5-9e50-d42af53bb0e2",
   "metadata": {},
   "outputs": [
    {
     "data": {
      "text/html": [
       "<div>\n",
       "<style scoped>\n",
       "    .dataframe tbody tr th:only-of-type {\n",
       "        vertical-align: middle;\n",
       "    }\n",
       "\n",
       "    .dataframe tbody tr th {\n",
       "        vertical-align: top;\n",
       "    }\n",
       "\n",
       "    .dataframe thead th {\n",
       "        text-align: right;\n",
       "    }\n",
       "</style>\n",
       "<table border=\"1\" class=\"dataframe\">\n",
       "  <thead>\n",
       "    <tr style=\"text-align: right;\">\n",
       "      <th></th>\n",
       "      <th>TV</th>\n",
       "      <th>Radio</th>\n",
       "      <th>Newspaper</th>\n",
       "      <th>Sales</th>\n",
       "    </tr>\n",
       "  </thead>\n",
       "  <tbody>\n",
       "    <tr>\n",
       "      <th>1</th>\n",
       "      <td>230.1</td>\n",
       "      <td>37.8</td>\n",
       "      <td>69.2</td>\n",
       "      <td>22.1</td>\n",
       "    </tr>\n",
       "    <tr>\n",
       "      <th>2</th>\n",
       "      <td>44.5</td>\n",
       "      <td>39.3</td>\n",
       "      <td>45.1</td>\n",
       "      <td>10.4</td>\n",
       "    </tr>\n",
       "    <tr>\n",
       "      <th>3</th>\n",
       "      <td>17.2</td>\n",
       "      <td>45.9</td>\n",
       "      <td>69.3</td>\n",
       "      <td>9.3</td>\n",
       "    </tr>\n",
       "    <tr>\n",
       "      <th>4</th>\n",
       "      <td>151.5</td>\n",
       "      <td>41.3</td>\n",
       "      <td>58.5</td>\n",
       "      <td>18.5</td>\n",
       "    </tr>\n",
       "    <tr>\n",
       "      <th>5</th>\n",
       "      <td>180.8</td>\n",
       "      <td>10.8</td>\n",
       "      <td>58.4</td>\n",
       "      <td>12.9</td>\n",
       "    </tr>\n",
       "  </tbody>\n",
       "</table>\n",
       "</div>"
      ],
      "text/plain": [
       "      TV  Radio  Newspaper  Sales\n",
       "1  230.1   37.8       69.2   22.1\n",
       "2   44.5   39.3       45.1   10.4\n",
       "3   17.2   45.9       69.3    9.3\n",
       "4  151.5   41.3       58.5   18.5\n",
       "5  180.8   10.8       58.4   12.9"
      ]
     },
     "execution_count": 3,
     "metadata": {},
     "output_type": "execute_result"
    }
   ],
   "source": [
    "data_np = pd.read_csv('data/Advertising.csv', index_col=0)\n",
    "data_np.head()"
   ]
  },
  {
   "cell_type": "code",
   "execution_count": 4,
   "id": "51a0dcac-c3da-4006-9a80-10286b6e73ac",
   "metadata": {},
   "outputs": [
    {
     "name": "stdout",
     "output_type": "stream",
     "text": [
      "<class 'pandas.core.frame.DataFrame'>\n",
      "Int64Index: 200 entries, 1 to 200\n",
      "Data columns (total 4 columns):\n",
      " #   Column     Non-Null Count  Dtype  \n",
      "---  ------     --------------  -----  \n",
      " 0   TV         200 non-null    float64\n",
      " 1   Radio      200 non-null    float64\n",
      " 2   Newspaper  200 non-null    float64\n",
      " 3   Sales      200 non-null    float64\n",
      "dtypes: float64(4)\n",
      "memory usage: 7.8 KB\n"
     ]
    }
   ],
   "source": [
    "data_np.info()"
   ]
  },
  {
   "cell_type": "code",
   "execution_count": 5,
   "id": "99ef77c5-2517-4377-b884-3974cd4ff603",
   "metadata": {},
   "outputs": [],
   "source": [
    "# extract features and responses\n",
    "X = data_np.iloc[:, :-1].values\n",
    "y = data_np['Sales'].values\n",
    "\n",
    "# split into train and test set\n",
    "X_train, X_test, y_train, y_test = train_test_split(X,\n",
    "                                                    y,\n",
    "                                                    test_size=0.25,\n",
    "                                                    random_state=0)\n",
    "\n",
    "# normalization \n",
    "scaler = MinMaxScaler(feature_range=(0, 1))\n",
    "X_train = scaler.fit_transform(X_train)\n",
    "X_test = scaler.transform(X_test)\n",
    "\n",
    "# we may further split the train set into a training set and val set \n",
    "X_train, X_val, y_train, y_val = train_test_split(X_train,\n",
    "                                                  y_train,\n",
    "                                                  test_size=0.33,\n",
    "                                                  random_state=0) # 0.33 x 0.75 = 0.25\n",
    "\n",
    "\n",
    "# convert to torch object\n",
    "X_train = torch.from_numpy(X_train).float()\n",
    "y_train = torch.from_numpy(y_train).float().view(-1,1) \n",
    "X_val = torch.from_numpy(X_val).float()\n",
    "y_val = torch.from_numpy(y_val).float().view(-1,1) \n",
    "X_test = torch.from_numpy(X_test).float()\n",
    "y_test = torch.from_numpy(y_test).float().view(-1,1) "
   ]
  },
  {
   "cell_type": "code",
   "execution_count": 6,
   "id": "ac200a04-4fb3-4ae6-89c9-146fff238050",
   "metadata": {},
   "outputs": [
    {
     "name": "stdout",
     "output_type": "stream",
     "text": [
      "train size: torch.Size([100, 3])\n",
      "val size: torch.Size([50, 3])\n",
      "test size: torch.Size([50, 3])\n"
     ]
    }
   ],
   "source": [
    "# print out the size of train, val and test set\n",
    "print('train size:', X_train.shape)\n",
    "print('val size:', X_val.shape)\n",
    "print('test size:', X_test.shape)"
   ]
  },
  {
   "cell_type": "markdown",
   "id": "87ba904e-8f2c-4eb2-ae5d-db4cc10b5b54",
   "metadata": {},
   "source": [
    "- ## 2. Dataloader"
   ]
  },
  {
   "cell_type": "code",
   "execution_count": 7,
   "id": "9f2195f9-8d5a-4981-9742-284a7d8f9099",
   "metadata": {},
   "outputs": [],
   "source": [
    "# dataset in pytorch\n",
    "X_train_data = utils.data.TensorDataset(X_train, y_train)"
   ]
  },
  {
   "cell_type": "code",
   "execution_count": 8,
   "id": "8ad3c95b-07f4-465f-b52a-ba5944d9599a",
   "metadata": {},
   "outputs": [],
   "source": [
    "# pass the torch dataset to Dataloader (an iterable object)\n",
    "\n",
    "# batch_size: how many samples to load each time\n",
    "# shuffle: whether to reshuffle the dataset every epoch\n",
    "\n",
    "# we use mini-batch GD, which only requires b sample to compute the gradient. Here we set b = 8\n",
    "# if b = 1, then we have SGD. Usually, we set b = 2, 4, 8, 16, 32, 64, ... for efficiency\n",
    "\n",
    "train_loader = utils.data.DataLoader(X_train_data, batch_size = 8, shuffle=True) "
   ]
  },
  {
   "cell_type": "code",
   "execution_count": 9,
   "id": "bff2743b-b157-46ac-972c-fe48633a5e73",
   "metadata": {},
   "outputs": [
    {
     "data": {
      "text/plain": [
       "[tensor([[0.0530, 0.4052, 0.1610],\n",
       "         [0.5915, 0.1875, 0.0550],\n",
       "         [0.0801, 0.0323, 0.1980],\n",
       "         [0.7585, 0.1653, 0.5560],\n",
       "         [0.6486, 0.7137, 0.7470],\n",
       "         [0.6398, 0.5786, 0.1730],\n",
       "         [0.4345, 0.8629, 0.2800],\n",
       "         [0.5446, 0.6371, 0.5200]]),\n",
       " tensor([[ 7.6000],\n",
       "         [12.8000],\n",
       "         [ 6.9000],\n",
       "         [13.4000],\n",
       "         [19.2000],\n",
       "         [17.3000],\n",
       "         [18.0000],\n",
       "         [16.9000]])]"
      ]
     },
     "execution_count": 9,
     "metadata": {},
     "output_type": "execute_result"
    }
   ],
   "source": [
    "# check every element of this loader contains 8 samples\n",
    "list(train_loader)[0]"
   ]
  },
  {
   "cell_type": "code",
   "execution_count": 11,
   "id": "3962817a-9cdd-4aaa-9751-4257a6ffb7d7",
   "metadata": {},
   "outputs": [
    {
     "name": "stdout",
     "output_type": "stream",
     "text": [
      "13\n"
     ]
    }
   ],
   "source": [
    "print(len(train_loader))"
   ]
  },
  {
   "cell_type": "markdown",
   "id": "8ebaaf05-e6b2-4e39-b893-2d0f8e6ff40b",
   "metadata": {},
   "source": [
    "- ## 3. Build & Train Model"
   ]
  },
  {
   "cell_type": "code",
   "execution_count": 12,
   "id": "aff67586-2e08-4178-bb05-7f966e4be421",
   "metadata": {},
   "outputs": [
    {
     "name": "stdout",
     "output_type": "stream",
     "text": [
      "Epoch 0: 103.2291 (Train) 141.0782 (Val)\n",
      "Epoch 10: 20.0245 (Train) 7.3877 (Val)\n",
      "Epoch 20: 2.1095 (Train) 5.6105 (Val)\n",
      "Epoch 30: 1.8203 (Train) 4.3243 (Val)\n",
      "Epoch 40: 9.5302 (Train) 3.5664 (Val)\n",
      "Epoch 50: 1.9123 (Train) 3.1039 (Val)\n",
      "Epoch 60: 3.3097 (Train) 2.9038 (Val)\n",
      "Epoch 70: 0.5600 (Train) 2.8171 (Val)\n",
      "Epoch 80: 0.8859 (Train) 2.7851 (Val)\n",
      "Epoch 90: 2.3696 (Train) 2.7917 (Val)\n"
     ]
    }
   ],
   "source": [
    "# ====== Construct a model class ========= #\n",
    "class myLinearRegression(torch.nn.Module):    \n",
    "    def __init__(self, inputSize):        \n",
    "        super().__init__()     \n",
    "        self.Linear = nn.Linear(inputSize, 1) \n",
    "    def forward(self, x):        \n",
    "        out = self.Linear(x) \n",
    "        return out\n",
    "\n",
    "model = myLinearRegression(inputSize = X.shape[1]) # initalize the model\n",
    "\n",
    "# ====== Loss and optimizer =========\n",
    "loss_fn = nn.MSELoss()\n",
    "optimizer = torch.optim.Adam(model.parameters(), lr=0.1) \n",
    "\n",
    "# ====== Training =========\n",
    "epochs = 100\n",
    "for i in range(epochs):\n",
    "    # since train_loader is an iterable object, we can use for loop. \n",
    "    # Note x_train, y_train contains only 8 sample as per batch_size = 8\n",
    "    for (x_train, y_train) in train_loader:\n",
    "        \n",
    "        # zero the parameter gradients\n",
    "        optimizer.zero_grad()\n",
    "\n",
    "        # calulate output and loss \n",
    "        output = model(x_train)\n",
    "        loss = loss_fn(output, y_train)\n",
    "\n",
    "        # backprop and take a step\n",
    "        loss.backward()\n",
    "        optimizer.step()\n",
    "\n",
    "    if i % 10 == 0:\n",
    "        # Note we need to deactivate training (not compute gradient) and move to validation phase\n",
    "        model.eval()\n",
    "        with torch.no_grad():\n",
    "            output_val = model(X_val)\n",
    "            loss_val = loss_fn(output_val, y_val)\n",
    "        model.train() # after you predict on val set, you need to set back to training mode\n",
    "\n",
    "        print('Epoch {}: {:.4f} (Train) {:.4f} (Val)'.format(i, loss, loss_val))"
   ]
  },
  {
   "cell_type": "markdown",
   "id": "6117b259-7617-48cf-8fa4-3e1977ddc85c",
   "metadata": {},
   "source": [
    "- ## 4. Evaluate on test data"
   ]
  },
  {
   "cell_type": "code",
   "execution_count": 13,
   "id": "c639ec6e-5e52-478c-b471-9236e5fc1752",
   "metadata": {},
   "outputs": [
    {
     "name": "stdout",
     "output_type": "stream",
     "text": [
      "tensor(3.9157, grad_fn=<MseLossBackward0>)\n"
     ]
    }
   ],
   "source": [
    "# we can predict test data similarly as before\n",
    "y_pred = model(X_test)\n",
    "test_mse = loss_fn(y_pred, y_test)\n",
    "print(test_mse)"
   ]
  },
  {
   "cell_type": "code",
   "execution_count": 14,
   "id": "4bfb32ab-63b3-487a-b172-b6214d9c1bac",
   "metadata": {},
   "outputs": [
    {
     "name": "stdout",
     "output_type": "stream",
     "text": [
      "tensor(3.9157)\n"
     ]
    }
   ],
   "source": [
    "# a more safer way is to set model to evaluation phase similarly for validation\n",
    "model.eval()\n",
    "with torch.no_grad():\n",
    "    y_pred = model(X_test)\n",
    "    test_mse = loss_fn(y_pred, y_test)\n",
    "print(test_mse)"
   ]
  },
  {
   "cell_type": "markdown",
   "id": "951d6031-4b37-4cf2-b9aa-5afef66ab4c5",
   "metadata": {},
   "source": [
    "***"
   ]
  },
  {
   "cell_type": "markdown",
   "id": "5623313b-9ccc-43d1-99d2-c473b3eac30f",
   "metadata": {},
   "source": [
    "# Overfitting and remedies\n",
    "### - Dropout\n",
    "### - Regularization\n",
    "### - Early stopping"
   ]
  },
  {
   "cell_type": "code",
   "execution_count": 15,
   "id": "5a0d5574-a797-4667-9d8c-7bfecf180893",
   "metadata": {},
   "outputs": [],
   "source": [
    "import pandas as pd\n",
    "import numpy as np\n",
    "from sklearn.preprocessing import MinMaxScaler\n",
    "from sklearn.model_selection import train_test_split\n",
    "from sklearn.metrics import classification_report\n",
    "from sklearn.metrics import confusion_matrix\n",
    "\n",
    "import torch\n",
    "from torch import nn \n",
    "import torch.nn.functional as F\n",
    "from torch.utils import data\n",
    "\n",
    "torch.manual_seed(0)\n",
    "np.random.seed(0)"
   ]
  },
  {
   "cell_type": "code",
   "execution_count": 16,
   "id": "824ee391-9dd8-47f6-892e-b230085a355f",
   "metadata": {},
   "outputs": [
    {
     "data": {
      "text/html": [
       "<div>\n",
       "<style scoped>\n",
       "    .dataframe tbody tr th:only-of-type {\n",
       "        vertical-align: middle;\n",
       "    }\n",
       "\n",
       "    .dataframe tbody tr th {\n",
       "        vertical-align: top;\n",
       "    }\n",
       "\n",
       "    .dataframe thead th {\n",
       "        text-align: right;\n",
       "    }\n",
       "</style>\n",
       "<table border=\"1\" class=\"dataframe\">\n",
       "  <thead>\n",
       "    <tr style=\"text-align: right;\">\n",
       "      <th></th>\n",
       "      <th>0</th>\n",
       "      <th>1</th>\n",
       "      <th>2</th>\n",
       "      <th>3</th>\n",
       "      <th>4</th>\n",
       "      <th>5</th>\n",
       "      <th>6</th>\n",
       "      <th>7</th>\n",
       "      <th>8</th>\n",
       "    </tr>\n",
       "  </thead>\n",
       "  <tbody>\n",
       "    <tr>\n",
       "      <th>0</th>\n",
       "      <td>6</td>\n",
       "      <td>148</td>\n",
       "      <td>72</td>\n",
       "      <td>35</td>\n",
       "      <td>0</td>\n",
       "      <td>33.6</td>\n",
       "      <td>0.627</td>\n",
       "      <td>50</td>\n",
       "      <td>1</td>\n",
       "    </tr>\n",
       "    <tr>\n",
       "      <th>1</th>\n",
       "      <td>1</td>\n",
       "      <td>85</td>\n",
       "      <td>66</td>\n",
       "      <td>29</td>\n",
       "      <td>0</td>\n",
       "      <td>26.6</td>\n",
       "      <td>0.351</td>\n",
       "      <td>31</td>\n",
       "      <td>0</td>\n",
       "    </tr>\n",
       "    <tr>\n",
       "      <th>2</th>\n",
       "      <td>8</td>\n",
       "      <td>183</td>\n",
       "      <td>64</td>\n",
       "      <td>0</td>\n",
       "      <td>0</td>\n",
       "      <td>23.3</td>\n",
       "      <td>0.672</td>\n",
       "      <td>32</td>\n",
       "      <td>1</td>\n",
       "    </tr>\n",
       "    <tr>\n",
       "      <th>3</th>\n",
       "      <td>1</td>\n",
       "      <td>89</td>\n",
       "      <td>66</td>\n",
       "      <td>23</td>\n",
       "      <td>94</td>\n",
       "      <td>28.1</td>\n",
       "      <td>0.167</td>\n",
       "      <td>21</td>\n",
       "      <td>0</td>\n",
       "    </tr>\n",
       "    <tr>\n",
       "      <th>4</th>\n",
       "      <td>0</td>\n",
       "      <td>137</td>\n",
       "      <td>40</td>\n",
       "      <td>35</td>\n",
       "      <td>168</td>\n",
       "      <td>43.1</td>\n",
       "      <td>2.288</td>\n",
       "      <td>33</td>\n",
       "      <td>1</td>\n",
       "    </tr>\n",
       "  </tbody>\n",
       "</table>\n",
       "</div>"
      ],
      "text/plain": [
       "   0    1   2   3    4     5      6   7  8\n",
       "0  6  148  72  35    0  33.6  0.627  50  1\n",
       "1  1   85  66  29    0  26.6  0.351  31  0\n",
       "2  8  183  64   0    0  23.3  0.672  32  1\n",
       "3  1   89  66  23   94  28.1  0.167  21  0\n",
       "4  0  137  40  35  168  43.1  2.288  33  1"
      ]
     },
     "execution_count": 16,
     "metadata": {},
     "output_type": "execute_result"
    }
   ],
   "source": [
    "# load dataset for binary classification\n",
    "data = pd.read_csv('data/pima-indians-diabetes.csv', header= None)\n",
    "data.head()"
   ]
  },
  {
   "cell_type": "code",
   "execution_count": 17,
   "id": "d3e03ab5-8b0f-40a4-bf47-2c34ee5daf28",
   "metadata": {},
   "outputs": [
    {
     "name": "stdout",
     "output_type": "stream",
     "text": [
      "<class 'pandas.core.frame.DataFrame'>\n",
      "RangeIndex: 768 entries, 0 to 767\n",
      "Data columns (total 9 columns):\n",
      " #   Column  Non-Null Count  Dtype  \n",
      "---  ------  --------------  -----  \n",
      " 0   0       768 non-null    int64  \n",
      " 1   1       768 non-null    int64  \n",
      " 2   2       768 non-null    int64  \n",
      " 3   3       768 non-null    int64  \n",
      " 4   4       768 non-null    int64  \n",
      " 5   5       768 non-null    float64\n",
      " 6   6       768 non-null    float64\n",
      " 7   7       768 non-null    int64  \n",
      " 8   8       768 non-null    int64  \n",
      "dtypes: float64(2), int64(7)\n",
      "memory usage: 54.1 KB\n"
     ]
    }
   ],
   "source": [
    "data.info()"
   ]
  },
  {
   "cell_type": "code",
   "execution_count": 18,
   "id": "fdc817c9-d979-4853-ab76-633106972895",
   "metadata": {},
   "outputs": [],
   "source": [
    "# split data into X and y\n",
    "X = data.iloc[:,0:8].values\n",
    "y = data.iloc[:,8].values\n",
    "\n",
    "# split data into train and test sets\n",
    "X_train, X_test, y_train, y_test = train_test_split(X, y, test_size=0.25, random_state=0)\n",
    "\n",
    "# normalization \n",
    "scaler = MinMaxScaler(feature_range=(0, 1))\n",
    "X_train = scaler.fit_transform(X_train)\n",
    "X_test = scaler.transform(X_test)\n",
    "\n",
    "# we may further split the train set into a training set and val set \n",
    "X_train, X_val, y_train, y_val = train_test_split(X_train, y_train, test_size=0.33, random_state=0) # 0.33 x 0.75 = 0.25\n",
    "\n",
    "# convert to torch object\n",
    "X_train = torch.from_numpy(X_train).float()\n",
    "y_train = torch.from_numpy(y_train).long()\n",
    "X_val = torch.from_numpy(X_val).float()\n",
    "y_val = torch.from_numpy(y_val).long()\n",
    "X_test = torch.from_numpy(X_test).float()\n",
    "y_test = torch.from_numpy(y_test).long()"
   ]
  },
  {
   "cell_type": "code",
   "execution_count": 19,
   "id": "b8e842bb-7717-4c77-aa49-b51c267c864d",
   "metadata": {},
   "outputs": [
    {
     "name": "stdout",
     "output_type": "stream",
     "text": [
      "train size: torch.Size([385, 8])\n",
      "val size: torch.Size([191, 8])\n",
      "test size: torch.Size([192, 8])\n"
     ]
    }
   ],
   "source": [
    "# print out the size of train, val and test set\n",
    "print('train size:', X_train.shape)\n",
    "print('val size:', X_val.shape)\n",
    "print('test size:', X_test.shape)"
   ]
  },
  {
   "cell_type": "code",
   "execution_count": 23,
   "id": "07a45cf9-f9d4-43bf-a258-2dbf3e6d6918",
   "metadata": {},
   "outputs": [],
   "source": [
    "class NNClassifier(torch.nn.Module):\n",
    "    def __init__(self, inputSize, hiddenSize):\n",
    "        super().__init__() \n",
    "        \n",
    "        self.Linear1 = nn.Linear(inputSize, hiddenSize)\n",
    "        self.Linear2 = nn.Linear(hiddenSize, hiddenSize)\n",
    "        self.Linear3 = nn.Linear(hiddenSize, 1)\n",
    "        \n",
    "        self.act1 = nn.ReLU()\n",
    "        self.act2 = nn.ReLU()\n",
    "        \n",
    "        # add two dropout layers with probability p = 0.2\n",
    "        self.drop1 = nn.Dropout(p=0.2)\n",
    "        self.drop2 = nn.Dropout(p=0.2)\n",
    "        \n",
    "    def forward(self, x):        \n",
    "        # first layer (linear + act + dropout)\n",
    "        x = self.Linear1(x)\n",
    "        x = self.act1(x)\n",
    "        x = self.drop1(x)\n",
    "        \n",
    "        # second layer (linear + act + dropout)\n",
    "        x = self.Linear2(x)\n",
    "        x = self.act2(x)\n",
    "        x = self.drop2(x)\n",
    "        \n",
    "        # output layer (no activation)\n",
    "        x = self.Linear3(x)\n",
    "        \n",
    "        return x\n",
    "    \n",
    "# init model\n",
    "model = NNClassifier(X_train.shape[1], 512) # initalize the model\n",
    "\n",
    "# loss function \n",
    "loss_fn = nn.BCEWithLogitsLoss()  \n",
    "\n",
    "# optimizer (with weight regularization = 0.01)\n",
    "optimizer = torch.optim.Adam(model.parameters(), weight_decay=0.01)"
   ]
  },
  {
   "cell_type": "code",
   "execution_count": 24,
   "id": "4f289e9c-a948-4f13-8b92-a9201e45dfad",
   "metadata": {},
   "outputs": [],
   "source": [
    "def compute_acc(output, y):\n",
    "    \"\"\"\n",
    "        output: neural network output with size [n,1]\n",
    "        y: true target values with size [n,]\n",
    "    \"\"\"\n",
    "    pred = (torch.sigmoid(output.squeeze()) > 0.5).long()\n",
    "    acc = (pred == y).float().sum()/y.shape[0]\n",
    "    return acc"
   ]
  },
  {
   "cell_type": "code",
   "execution_count": 25,
   "id": "97ddc9fc-77fb-47df-8775-8c3378600df2",
   "metadata": {},
   "outputs": [
    {
     "name": "stdout",
     "output_type": "stream",
     "text": [
      "Saving model...\n",
      "Epoch 0: 0.6877 (Train loss) 0.6021 (Val acc)\n",
      "Saving model...\n",
      "Epoch 100: 0.5073 (Train loss) 0.7539 (Val acc)\n",
      "Saving model...\n",
      "Epoch 200: 0.4898 (Train loss) 0.7592 (Val acc)\n",
      "Epoch 300: 0.4850 (Train loss) 0.7539 (Val acc)\n",
      "Saving model...\n",
      "Epoch 400: 0.4846 (Train loss) 0.7696 (Val acc)\n",
      "Epoch 500: 0.4810 (Train loss) 0.7539 (Val acc)\n",
      "Epoch 600: 0.4815 (Train loss) 0.7382 (Val acc)\n",
      "Epoch 700: 0.4780 (Train loss) 0.7539 (Val acc)\n",
      "Epoch 800: 0.4808 (Train loss) 0.7539 (Val acc)\n",
      "Epoch 900: 0.4844 (Train loss) 0.7435 (Val acc)\n",
      "Epoch 1000: 0.4774 (Train loss) 0.7592 (Val acc)\n",
      "Epoch 1100: 0.4816 (Train loss) 0.7487 (Val acc)\n",
      "Epoch 1200: 0.4809 (Train loss) 0.7435 (Val acc)\n",
      "Epoch 1300: 0.4810 (Train loss) 0.7435 (Val acc)\n",
      "Epoch 1400: 0.4822 (Train loss) 0.7435 (Val acc)\n",
      "Epoch 1500: 0.4851 (Train loss) 0.7539 (Val acc)\n",
      "Epoch 1600: 0.4840 (Train loss) 0.7487 (Val acc)\n",
      "Epoch 1700: 0.4786 (Train loss) 0.7592 (Val acc)\n",
      "Epoch 1800: 0.4835 (Train loss) 0.7592 (Val acc)\n",
      "Epoch 1900: 0.4826 (Train loss) 0.7487 (Val acc)\n"
     ]
    }
   ],
   "source": [
    "# training starts\n",
    "epochs = 2000\n",
    "best_acc = 0\n",
    "for i in range(epochs):\n",
    "    \n",
    "    # zero the parameter gradients\n",
    "    optimizer.zero_grad()\n",
    "\n",
    "    # calulate output and loss \n",
    "    output = model(X_train)\n",
    "    loss = loss_fn(output, y_train.float().view(-1,1))\n",
    "\n",
    "    # backprop and take a step\n",
    "    loss.backward()\n",
    "    optimizer.step()\n",
    "    \n",
    "    if i % 100 == 0:\n",
    "        model.eval()\n",
    "        with torch.no_grad():\n",
    "            output_val = model(X_val)\n",
    "            acc_val = compute_acc(output_val, y_val)\n",
    "            if acc_val >= best_acc:\n",
    "                best_acc = acc_val\n",
    "                torch.save(model, 'materials/saved_best_model_w5.pth')\n",
    "                print('Saving model...')\n",
    "        model.train() \n",
    "\n",
    "        print('Epoch {}: {:.4f} (Train loss) {:.4f} (Val acc)'.format(i, loss, acc_val))"
   ]
  },
  {
   "cell_type": "code",
   "execution_count": 26,
   "id": "6e9c0447-fb28-435e-8bb4-396b5f4eb502",
   "metadata": {},
   "outputs": [
    {
     "data": {
      "text/plain": [
       "tensor(0.7812)"
      ]
     },
     "execution_count": 26,
     "metadata": {},
     "output_type": "execute_result"
    }
   ],
   "source": [
    "# load model\n",
    "model = torch.load('materials/saved_best_model_w5.pth')\n",
    "\n",
    "# evaluate test performance\n",
    "model.eval()\n",
    "with torch.no_grad():\n",
    "    output_test = model(X_test)\n",
    "    acc_test = compute_acc(output_test, y_test)\n",
    "    \n",
    "acc_test"
   ]
  }
 ],
 "metadata": {
  "kernelspec": {
   "display_name": "Python 3 (ipykernel)",
   "language": "python",
   "name": "python3"
  },
  "language_info": {
   "codemirror_mode": {
    "name": "ipython",
    "version": 3
   },
   "file_extension": ".py",
   "mimetype": "text/x-python",
   "name": "python",
   "nbconvert_exporter": "python",
   "pygments_lexer": "ipython3",
   "version": "3.9.12"
  }
 },
 "nbformat": 4,
 "nbformat_minor": 5
}
