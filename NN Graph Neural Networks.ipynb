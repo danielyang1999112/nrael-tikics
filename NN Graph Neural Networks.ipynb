{
 "cells": [
  {
   "cell_type": "markdown",
   "id": "48da9422-f741-4a09-b1b3-8feaadfc476b",
   "metadata": {},
   "source": [
    "# Graph basics and understanding feature aggregation"
   ]
  },
  {
   "cell_type": "code",
   "execution_count": 2,
   "id": "cf89bb7d-c42a-4e76-b8b7-b8530544e95f",
   "metadata": {},
   "outputs": [],
   "source": [
    "import numpy as np\n",
    "import torch\n",
    "import torch.nn as nn\n",
    "import torch.nn.functional as F"
   ]
  },
  {
   "cell_type": "code",
   "execution_count": 3,
   "id": "d6cdd339-5632-4a2e-80c7-3e1bd451ca15",
   "metadata": {},
   "outputs": [
    {
     "name": "stdout",
     "output_type": "stream",
     "text": [
      "[[0 1 1 0]\n",
      " [1 0 1 1]\n",
      " [1 1 0 0]\n",
      " [0 1 0 0]]\n"
     ]
    }
   ],
   "source": [
    "np.random.seed(0)\n",
    "\n",
    "N = 4  # set the number of nodes (N) of the graph\n",
    "A = np.random.randint(2, size=(N, N))  # generate a random matrix with binary elements (unweighted graph)\n",
    "\n",
    "# to make A symmetric and zero diagonal elements (assumed to have no self-loop in the graph)\n",
    "A = np.tril(A, -1) # extract all the entries below the main diagonal \n",
    "A = A + A.T \n",
    "np.fill_diagonal(A,0) # set diagnol to zero\n",
    "\n",
    "# now A is a valid adjacancy matrix\n",
    "print(A)"
   ]
  },
  {
   "cell_type": "code",
   "execution_count": 4,
   "id": "2b5b0b9a-9c93-47a3-b3a0-41e16b82080c",
   "metadata": {},
   "outputs": [
    {
     "name": "stdout",
     "output_type": "stream",
     "text": [
      "[[0]\n",
      " [1]\n",
      " [1]\n",
      " [0]]\n"
     ]
    }
   ],
   "source": [
    "np.random.seed(0)\n",
    "\n",
    "# generate the random feature matrix X of the graph\n",
    "d = 1  # specify the number of features per node\n",
    "X = np.random.randint(2, size=(N, d))\n",
    "print(X)"
   ]
  },
  {
   "cell_type": "code",
   "execution_count": 5,
   "id": "bf3a8ddc-a4c2-4b3a-974f-dc2e2f396571",
   "metadata": {},
   "outputs": [
    {
     "name": "stdout",
     "output_type": "stream",
     "text": [
      "A:\n",
      "[[0 1 1 0]\n",
      " [1 0 1 1]\n",
      " [1 1 0 0]\n",
      " [0 1 0 0]]\n",
      "\n",
      "\n",
      "X:\n",
      "[[0]\n",
      " [1]\n",
      " [1]\n",
      " [0]]\n",
      "\n",
      "\n",
      "AX:\n",
      "[[2]\n",
      " [1]\n",
      " [1]\n",
      " [1]]\n",
      "\n",
      "\n",
      "A(AX):\n",
      "[[2]\n",
      " [4]\n",
      " [3]\n",
      " [1]]\n"
     ]
    }
   ],
   "source": [
    "out1 = np.matmul(A, X)  # out1 = AX\n",
    "out2 = np.matmul(A, out1)  # out2 = A(AX)\n",
    "print('A:')\n",
    "print(A)\n",
    "print('\\n')\n",
    "print('X:')\n",
    "print(X)\n",
    "print('\\n')\n",
    "print('AX:')\n",
    "print(out1)\n",
    "print('\\n')\n",
    "print('A(AX):')\n",
    "print(out2)"
   ]
  },
  {
   "cell_type": "code",
   "execution_count": 7,
   "id": "f2b9c821-6ef5-4efa-8218-479b34cef813",
   "metadata": {},
   "outputs": [
    {
     "data": {
      "text/plain": [
       "array([[1, 1, 1, 0],\n",
       "       [1, 1, 1, 1],\n",
       "       [1, 1, 1, 0],\n",
       "       [0, 1, 0, 1]])"
      ]
     },
     "execution_count": 7,
     "metadata": {},
     "output_type": "execute_result"
    }
   ],
   "source": [
    "# Generate A with self-loop\n",
    "np.fill_diagonal(A,1)\n",
    "A"
   ]
  },
  {
   "cell_type": "code",
   "execution_count": 8,
   "id": "1ade7406-67ac-4bcc-a914-d3d4bf184fae",
   "metadata": {},
   "outputs": [
    {
     "name": "stdout",
     "output_type": "stream",
     "text": [
      "A:\n",
      "[[1 1 1 0]\n",
      " [1 1 1 1]\n",
      " [1 1 1 0]\n",
      " [0 1 0 1]]\n",
      "\n",
      "\n",
      "X:\n",
      "[[0]\n",
      " [1]\n",
      " [1]\n",
      " [0]]\n",
      "\n",
      "\n",
      "AX:\n",
      "[[2]\n",
      " [2]\n",
      " [2]\n",
      " [1]]\n",
      "\n",
      "\n",
      "A(AX):\n",
      "[[6]\n",
      " [7]\n",
      " [6]\n",
      " [3]]\n"
     ]
    }
   ],
   "source": [
    "# Examine the result\n",
    "out1 = np.matmul(A, X)  # out1 = AX\n",
    "out2 = np.matmul(A, out1)  # out2 = A(AX)\n",
    "print('A:')\n",
    "print(A)\n",
    "print('\\n')\n",
    "print('X:')\n",
    "print(X)\n",
    "print('\\n')\n",
    "print('AX:')\n",
    "print(out1)\n",
    "print('\\n')\n",
    "print('A(AX):')\n",
    "print(out2)"
   ]
  },
  {
   "cell_type": "markdown",
   "id": "4f254e1f-77b6-4a94-8cdb-5935935beec7",
   "metadata": {},
   "source": [
    "***"
   ]
  },
  {
   "cell_type": "markdown",
   "id": "89ed467c-3490-4830-90aa-28458dda7ea2",
   "metadata": {},
   "source": [
    "# Graph convolutional network from scratch"
   ]
  },
  {
   "cell_type": "code",
   "execution_count": null,
   "id": "5eb13989-883d-47a4-9afb-90a41c6cfa77",
   "metadata": {},
   "outputs": [],
   "source": [
    "class GCN(nn.Module):\n",
    "    def __init__(self, in_features, out_features):\n",
    "        super().__init__()\n",
    "        # Add your code here\n",
    "        self.Linear = nn.Linear(in_features, out_features, bias=False)\n",
    "        self.bias = nn.Parameter(torch.zeros(out_features))\n",
    "        # Hints:\n",
    "        # 1. GCN conduct linear operation over node feature, so a \n",
    "        #    standard linear layer will do the job\n",
    "        # 2. Think about where you add a bias.  You may need organize \n",
    "        #    your own bias parameter\n",
    "\n",
    "    def forward(self, x, A_tilde):\n",
    "        x = self.Linear(x) # X*W \n",
    "        x = torch.matmul(A_tilde, x) # Aggregation  A*x  \n",
    "        x += self.bias # Add bias\n",
    "\n",
    "        return x"
   ]
  },
  {
   "cell_type": "markdown",
   "id": "e3f822b4-83d9-4806-b511-5c4b5dd0f11e",
   "metadata": {},
   "source": [
    "***"
   ]
  },
  {
   "cell_type": "code",
   "execution_count": null,
   "id": "0b7b8b8f-a11c-4c70-802c-c6774440d1dd",
   "metadata": {},
   "outputs": [],
   "source": [
    "# Check Core Dataset"
   ]
  }
 ],
 "metadata": {
  "kernelspec": {
   "display_name": "Python 3 (ipykernel)",
   "language": "python",
   "name": "python3"
  },
  "language_info": {
   "codemirror_mode": {
    "name": "ipython",
    "version": 3
   },
   "file_extension": ".py",
   "mimetype": "text/x-python",
   "name": "python",
   "nbconvert_exporter": "python",
   "pygments_lexer": "ipython3",
   "version": "3.9.12"
  }
 },
 "nbformat": 4,
 "nbformat_minor": 5
}
