{
 "cells": [
  {
   "cell_type": "markdown",
   "id": "59cccbd8-8a19-47a3-a9bf-725333f3aec3",
   "metadata": {
    "tags": []
   },
   "source": [
    "# Textual data representation"
   ]
  },
  {
   "cell_type": "markdown",
   "id": "f77bcec7-56d7-452f-bb28-668fa17b9215",
   "metadata": {},
   "source": [
    "## - Bag of words"
   ]
  },
  {
   "cell_type": "code",
   "execution_count": 1,
   "id": "92bfb854-b29b-4bb2-ac8a-56846b718360",
   "metadata": {},
   "outputs": [
    {
     "data": {
      "text/plain": [
       "CountVectorizer()"
      ]
     },
     "execution_count": 1,
     "metadata": {},
     "output_type": "execute_result"
    }
   ],
   "source": [
    "from sklearn.feature_extraction.text import CountVectorizer\n",
    "\n",
    "vectorizer = CountVectorizer()\n",
    "vectorizer"
   ]
  },
  {
   "cell_type": "code",
   "execution_count": 3,
   "id": "694c1522-9926-41a8-bedd-bc242e655461",
   "metadata": {},
   "outputs": [
    {
     "data": {
      "text/plain": [
       "array(['and', 'document', 'entry', 'first', 'is', 'one', 'or', 'second',\n",
       "       'the', 'third', 'this'], dtype=object)"
      ]
     },
     "execution_count": 3,
     "metadata": {},
     "output_type": "execute_result"
    }
   ],
   "source": [
    "corpus = ['This is the first document or first entry.',\n",
    "          'This is the second second document.',\n",
    "          'And the third one.',\n",
    "          'Is this the first document?'\n",
    "         ]\n",
    "\n",
    "# Learn the vocabulary dictionary and return term-document matrix\n",
    "X_txt = vectorizer.fit_transform(corpus) \n",
    "\n",
    "# check the feature names after transformation. It will return individual word.\n",
    "vectorizer.get_feature_names_out() "
   ]
  },
  {
   "cell_type": "code",
   "execution_count": 4,
   "id": "e63ba6c1-b3dc-4ac8-98e7-40ef067b8046",
   "metadata": {},
   "outputs": [
    {
     "name": "stdout",
     "output_type": "stream",
     "text": [
      "[[0 1 1 2 1 0 1 0 1 0 1]\n",
      " [0 1 0 0 1 0 0 2 1 0 1]\n",
      " [1 0 0 0 0 1 0 0 1 1 0]\n",
      " [0 1 0 1 1 0 0 0 1 0 1]]\n"
     ]
    }
   ],
   "source": [
    "# X is the BoW feature of X\n",
    "print(X_txt.toarray())"
   ]
  },
  {
   "cell_type": "code",
   "execution_count": 5,
   "id": "1ab3c217-e269-47cb-97bd-edd894d649ae",
   "metadata": {},
   "outputs": [
    {
     "name": "stdout",
     "output_type": "stream",
     "text": [
      "{'this': 10, 'is': 4, 'the': 8, 'first': 3, 'document': 1, 'or': 6, 'entry': 2, 'second': 7, 'and': 0, 'third': 9, 'one': 5}\n"
     ]
    }
   ],
   "source": [
    "# column index mapping to each word\n",
    "print(vectorizer.vocabulary_)"
   ]
  },
  {
   "cell_type": "code",
   "execution_count": 17,
   "id": "a8346f65-b138-4e84-a09f-466298ea74f5",
   "metadata": {},
   "outputs": [],
   "source": [
    "# d1 = {'a': 1, 'b': 2}\n",
    "# d2 = {'c': 3, 'd': 4}\n",
    "# d3 = dict(d1, **d2)\n",
    "# print(d3)"
   ]
  },
  {
   "cell_type": "code",
   "execution_count": 18,
   "id": "9f9dd4f3-9bf0-414c-a753-8d8b879618ff",
   "metadata": {},
   "outputs": [
    {
     "data": {
      "text/plain": [
       "array([[0, 0, 0, 0, 0, 0, 0, 0, 0, 0, 0]], dtype=int64)"
      ]
     },
     "execution_count": 18,
     "metadata": {},
     "output_type": "execute_result"
    }
   ],
   "source": [
    "# unseen words are ignored for test data\n",
    "vectorizer.transform(['Something completely new.']).toarray()"
   ]
  },
  {
   "cell_type": "code",
   "execution_count": 19,
   "id": "48ec7e82-77ae-403e-90be-b5bc3024ae7e",
   "metadata": {},
   "outputs": [
    {
     "name": "stdout",
     "output_type": "stream",
     "text": [
      "['believe or', 'or not', 'not a', 'a b', 'b c', 'c d', 'd e']\n"
     ]
    }
   ],
   "source": [
    "bigram_vectorizer = CountVectorizer(ngram_range=(2, 2),       # range of the number of words inside a vocabulary\n",
    "                                    token_pattern=r'\\b\\w+\\b', # define the format of 'word': any char or number between 2 symbols except '_'\n",
    "                                    min_df=1)                 # ignore the words that appears less than `min_df` times\n",
    "\n",
    "analyze = bigram_vectorizer.build_analyzer() # Return a callable that handles preprocessing and tokenization\n",
    "print(analyze('believe or not a b c d e'))"
   ]
  },
  {
   "cell_type": "code",
   "execution_count": 20,
   "id": "bf079572-9696-4467-b12c-e51e9ffb36c7",
   "metadata": {},
   "outputs": [
    {
     "name": "stdout",
     "output_type": "stream",
     "text": [
      "[[0 1 1 1 1 0 1 0 0 1 0 0 0 1 0]\n",
      " [0 0 0 0 1 0 0 1 1 0 1 0 0 1 0]\n",
      " [1 0 0 0 0 0 0 0 0 0 0 1 1 0 0]\n",
      " [0 0 1 0 0 1 0 0 0 1 0 0 0 0 1]]\n"
     ]
    }
   ],
   "source": [
    "X_txt_2 = bigram_vectorizer.fit_transform(corpus).toarray()\n",
    "print(X_txt_2)"
   ]
  },
  {
   "cell_type": "code",
   "execution_count": 21,
   "id": "c467ac7b-4a72-4ee8-8d37-1b86a53a2d77",
   "metadata": {},
   "outputs": [
    {
     "data": {
      "text/plain": [
       "array(['and the', 'document or', 'first document', 'first entry',\n",
       "       'is the', 'is this', 'or first', 'second document',\n",
       "       'second second', 'the first', 'the second', 'the third',\n",
       "       'third one', 'this is', 'this the'], dtype=object)"
      ]
     },
     "execution_count": 21,
     "metadata": {},
     "output_type": "execute_result"
    }
   ],
   "source": [
    "bigram_vectorizer.get_feature_names_out()"
   ]
  },
  {
   "cell_type": "markdown",
   "id": "7cd3d37e-c745-4234-94a8-200259edaeb4",
   "metadata": {},
   "source": [
    "## - Tf-idf"
   ]
  },
  {
   "cell_type": "markdown",
   "id": "95fa9dcb-8dc0-4885-8eeb-f65d1c19ca0b",
   "metadata": {},
   "source": [
    "Some words has very high frequency(e.g. “the”, “a”, ”which”), and therefore, carrying not much meaningful information about the actual contents of the document.\n",
    "\n",
    "We need to compensate them to prevent the high-frequency shadowing of other words. tf-idf (term frequency-inverse document frequency) is used to reflect the importance of a word to a document in a collection or corpus. There are two terms in the tf-idf weight: term frequence (tf) and inverse document frequency (idf). <br>\n",
    "\n",
    "TF measures how frequently a term occurs in a document. It is often divided by the document length or the total number of terms in the document as a way of normalization. <br>\n",
    "\n",
    "$$tf(t,d)=\\frac{\\text{Number of times term t appears in a document}}{\\text{Total number of terms in the document}}$$\n",
    "\n",
    "\n",
    "Idf measures how important a term is. In tf, all terms have equal importance. However, certain terms, such as \"is\", \"of\", and \"that\", may appear a lot of times, but have little importance. Thus we need to weigh down the frequent terms while scale up the rare ones, by computing the following.\n",
    "\n",
    "$$idf(t) = log(\\frac{1 + n_d}{1 + df(d, t)}) + 1$$\n",
    "\n",
    "- $n_d$ is the number of document.\n",
    "- $df(t)$ is the number of documents containing $t$. <br>\n",
    "\n",
    "Finally tf-idf is calculated as follows.\n",
    "\n",
    "$$tf\\text{-}idf(t, d) = tf(t, d) \\times idf(t)$$"
   ]
  },
  {
   "cell_type": "code",
   "execution_count": 24,
   "id": "9d87b11e-1de9-4694-a302-fbcbbb200ed6",
   "metadata": {},
   "outputs": [],
   "source": [
    "from sklearn.feature_extraction.text import TfidfVectorizer\n",
    "import numpy as np"
   ]
  },
  {
   "cell_type": "code",
   "execution_count": 25,
   "id": "2748e47d-acdb-4ab7-85d8-db8031263962",
   "metadata": {},
   "outputs": [
    {
     "name": "stdout",
     "output_type": "stream",
     "text": [
      "['This is the first document or first entry.', 'This is the second second document.', 'And the third one.', 'Is this the first document?']\n"
     ]
    }
   ],
   "source": [
    "print(corpus)"
   ]
  },
  {
   "cell_type": "code",
   "execution_count": 26,
   "id": "60a39392-ceb2-4628-8438-28b6a8f5b36b",
   "metadata": {},
   "outputs": [
    {
     "name": "stdout",
     "output_type": "stream",
     "text": [
      "[[0.         0.23981982 0.444427   0.63066849 0.23981982 0.\n",
      "  0.444427   0.         0.18624148 0.         0.23981982]\n",
      " [0.         0.24014568 0.         0.         0.24014568 0.\n",
      "  0.         0.89006176 0.18649454 0.         0.24014568]\n",
      " [0.56115953 0.         0.         0.         0.         0.56115953\n",
      "  0.         0.         0.23515939 0.56115953 0.        ]\n",
      " [0.         0.43306685 0.         0.56943086 0.43306685 0.\n",
      "  0.         0.         0.33631504 0.         0.43306685]]\n"
     ]
    }
   ],
   "source": [
    "# 'norm = l2' means we want to normalize each row (document) to have a unit l2 norm\n",
    "# 'smooth_idf = False'. If True, 1 is added to the numerator and denominator of the idf to prevent zero divisions\n",
    "vectorizer = TfidfVectorizer(norm='l2', smooth_idf=False)\n",
    "\n",
    "X_txt_3 = vectorizer.fit_transform(corpus)\n",
    "print(X_txt_3.toarray())"
   ]
  },
  {
   "cell_type": "code",
   "execution_count": 27,
   "id": "67458e16-cde2-40bb-b3e9-30deee3a5cf8",
   "metadata": {},
   "outputs": [
    {
     "data": {
      "text/plain": [
       "array([1., 1., 1., 1.])"
      ]
     },
     "execution_count": 27,
     "metadata": {},
     "output_type": "execute_result"
    }
   ],
   "source": [
    "# see the l2 norm is 1 for each row\n",
    "np.square(X_txt_3.toarray()).sum(axis=1)"
   ]
  },
  {
   "cell_type": "markdown",
   "id": "906396d0-0103-408d-87ae-a766bce02692",
   "metadata": {},
   "source": [
    "***"
   ]
  },
  {
   "cell_type": "markdown",
   "id": "ae655efb-a477-4028-9163-3313891a4d87",
   "metadata": {
    "tags": []
   },
   "source": [
    "# Word Embedding"
   ]
  },
  {
   "cell_type": "code",
   "execution_count": 28,
   "id": "62399431-7895-48b0-8b79-f686d4e438e4",
   "metadata": {},
   "outputs": [
    {
     "data": {
      "text/plain": [
       "243"
      ]
     },
     "execution_count": 28,
     "metadata": {},
     "output_type": "execute_result"
    }
   ],
   "source": [
    "import pickle \n",
    "import numpy as np\n",
    "\n",
    "# note word_embeddings is a dictionary object\n",
    "word_embeddings = pickle.load(open('data/word_embeddings_subset.p', 'rb'))\n",
    "len(word_embeddings) "
   ]
  },
  {
   "cell_type": "code",
   "execution_count": 31,
   "id": "52d887cf-9eb9-43de-888a-03f2d4dfc2cc",
   "metadata": {},
   "outputs": [
    {
     "name": "stdout",
     "output_type": "stream",
     "text": [
      "(300,)\n"
     ]
    }
   ],
   "source": [
    "# find the dimension of word vector 'happy'\n",
    "print(word_embeddings['happy'].shape)"
   ]
  },
  {
   "cell_type": "code",
   "execution_count": 32,
   "id": "e1d9cbf0-2368-4017-bd06-790075a38c86",
   "metadata": {},
   "outputs": [],
   "source": [
    "def cosine_similarity(x, y):\n",
    "    \"\"\"\n",
    "    x, y are 1d numpy arrays\n",
    "    \"\"\"\n",
    "    return np.dot(x, y)/( np.linalg.norm(x) * np.linalg.norm(y) )"
   ]
  },
  {
   "cell_type": "code",
   "execution_count": 33,
   "id": "6b0f0910-d3ad-4157-b31a-3cea9b52267c",
   "metadata": {},
   "outputs": [
    {
     "name": "stdout",
     "output_type": "stream",
     "text": [
      "0.42381963\n",
      "0.010487459\n"
     ]
    }
   ],
   "source": [
    "# find cosine similarity between words 'happy' and 'joyful'\n",
    "print(cosine_similarity(word_embeddings['happy'], word_embeddings['joyful']))\n",
    "\n",
    "# find cosine similarity between words 'happy' and 'oil'\n",
    "print(cosine_similarity(word_embeddings['happy'], word_embeddings['oil']))"
   ]
  },
  {
   "cell_type": "code",
   "execution_count": 34,
   "id": "2758a8d2-f996-4391-9425-565e70b2d752",
   "metadata": {},
   "outputs": [
    {
     "name": "stdout",
     "output_type": "stream",
     "text": [
      "2.8735466\n",
      "3.7888153\n"
     ]
    }
   ],
   "source": [
    "# we can also find the Euclidean distance (the smaller the distance, the more similar)\n",
    "print(np.linalg.norm(word_embeddings['happy'] - word_embeddings['joyful']))\n",
    "print(np.linalg.norm(word_embeddings['happy'] - word_embeddings['oil']))"
   ]
  },
  {
   "cell_type": "markdown",
   "id": "17005a32-bed8-48b6-b2ca-e59ba7cde224",
   "metadata": {},
   "source": [
    "***"
   ]
  },
  {
   "cell_type": "markdown",
   "id": "1808ccce-4b27-42f9-a4e0-ee93cfb3f0ed",
   "metadata": {},
   "source": [
    "# PCA and visualization"
   ]
  },
  {
   "cell_type": "code",
   "execution_count": 37,
   "id": "a34eb7cb-4be5-46f1-a4c1-e118699b7b5a",
   "metadata": {},
   "outputs": [],
   "source": [
    "import numpy as np\n",
    "import pickle \n",
    "\n",
    "# note word_embeddings is a dictionary object\n",
    "word_embeddings = pickle.load(open('data/word_embeddings_subset.p', 'rb'))\n",
    "\n",
    "# initialize some placeholders for feature matrix \n",
    "n_words = len(word_embeddings)\n",
    "word_d = len(word_embeddings['happy'])\n",
    "word_embeddings_array = np.zeros( (n_words, word_d) ) \n",
    "\n",
    "# we also need to map word to its corresponding row index,\n",
    "# let's define a dictionary for that purpose\n",
    "word2idx = {}\n",
    "for idx, word in enumerate(word_embeddings):\n",
    "    word2idx[word] = idx\n",
    "    word_embeddings_array[idx, :] = word_embeddings[word]"
   ]
  },
  {
   "cell_type": "code",
   "execution_count": 38,
   "id": "686e2e94-4caf-41f3-84a9-da6ac6a9dc0f",
   "metadata": {},
   "outputs": [
    {
     "data": {
      "text/plain": [
       "(243, 300)"
      ]
     },
     "execution_count": 38,
     "metadata": {},
     "output_type": "execute_result"
    }
   ],
   "source": [
    "# the shape of this feature matrix is (n_words, word_dim)\n",
    "word_embeddings_array.shape"
   ]
  },
  {
   "cell_type": "code",
   "execution_count": 40,
   "id": "013a4578-731d-4a7b-bf91-3e9ec24cdc22",
   "metadata": {},
   "outputs": [],
   "source": [
    "# word2idx"
   ]
  },
  {
   "cell_type": "markdown",
   "id": "77bb3185-c206-4fdb-bb0e-ea0e99c1c616",
   "metadata": {},
   "source": [
    "## - PCA\n",
    "PCA tries to find a lower-dimensional space where projection onto the space maximizes the variance."
   ]
  },
  {
   "cell_type": "code",
   "execution_count": 41,
   "id": "8942414b-41c5-4f43-b8a7-0abdad563b9e",
   "metadata": {},
   "outputs": [],
   "source": [
    "from sklearn.decomposition import PCA\n",
    "\n",
    "words_embeddings_pca = PCA(n_components = 2).fit_transform(word_embeddings_array)"
   ]
  },
  {
   "cell_type": "code",
   "execution_count": 42,
   "id": "cf2ec206-6f52-462d-b174-d610048351f0",
   "metadata": {},
   "outputs": [
    {
     "data": {
      "image/png": "[encoded data removed]",
      "text/plain": [
       "<Figure size 432x432 with 1 Axes>"
      ]
     },
     "metadata": {
      "needs_background": "light"
     },
     "output_type": "display_data"
    }
   ],
   "source": [
    "import matplotlib.pyplot as plt \n",
    "\n",
    "words2plot = ['happy', 'joyful', 'oil']\n",
    "\n",
    "fig, ax = plt.subplots(figsize = (6, 6))\n",
    "\n",
    "# plot an arrow for each word vector\n",
    "for word in words2plot:\n",
    "    # get word index from the dict\n",
    "    word_idx = word2idx[word] \n",
    "    \n",
    "    # plot the arrow starting from (0,0)\n",
    "    ax.arrow(0, 0, words_embeddings_pca[word_idx,0], words_embeddings_pca[word_idx,1], head_width=0.01, head_length=0.01)\n",
    "\n",
    "    # Add the word label \n",
    "    ax.annotate(word, (words_embeddings_pca[word_idx,0]-0.01, words_embeddings_pca[word_idx,1]-0.01))\n",
    "\n",
    "# adjust the lims for two axes for visualization\n",
    "ax.set_xlim(0, -1)\n",
    "ax.set_ylim(0, -1)\n",
    "\n",
    "plt.show()"
   ]
  },
  {
   "cell_type": "markdown",
   "id": "929b07a3-9342-4cf7-a8ca-71e5293ddf3d",
   "metadata": {},
   "source": [
    "## - t-SNE\n",
    "\n",
    "t-Distributed stochastic neighbor embedding (t-SNE) minimizes the divergence between distributions on high-dimensional space and on low-dimensional space. The distributions are t-distributions that measure pairwise similarities between points. It is a very good visualization tool. \n",
    "\n",
    "If you are interested, you can read more on https://towardsdatascience.com/an-introduction-to-t-sne-with-python-example-5a3a293108d1 and also the original paper: https://www.jmlr.org/papers/volume9/vandermaaten08a/vandermaaten08a.pdf"
   ]
  },
  {
   "cell_type": "code",
   "execution_count": 44,
   "id": "117b4572-a98f-464d-a8ad-a6d13885967c",
   "metadata": {},
   "outputs": [
    {
     "name": "stderr",
     "output_type": "stream",
     "text": [
      "C:\\Users\\Public\\anaconda3\\lib\\site-packages\\sklearn\\manifold\\_t_sne.py:780: FutureWarning: The default initialization in TSNE will change from 'random' to 'pca' in 1.2.\n",
      "  warnings.warn(\n",
      "C:\\Users\\Public\\anaconda3\\lib\\site-packages\\sklearn\\manifold\\_t_sne.py:790: FutureWarning: The default learning rate in TSNE will change from 200.0 to 'auto' in 1.2.\n",
      "  warnings.warn(\n"
     ]
    }
   ],
   "source": [
    "from sklearn.manifold import TSNE\n",
    "\n",
    "words_embeddings_tsne = TSNE(n_components=2, random_state=3).fit_transform(word_embeddings_array)"
   ]
  },
  {
   "cell_type": "code",
   "execution_count": 45,
   "id": "2a07c929-9f0a-4a6b-a064-abf6000a5953",
   "metadata": {},
   "outputs": [
    {
     "data": {
      "image/png": "[encoded data removed]",
      "text/plain": [
       "<Figure size 432x432 with 1 Axes>"
      ]
     },
     "metadata": {
      "needs_background": "light"
     },
     "output_type": "display_data"
    }
   ],
   "source": [
    "words2plot = ['happy', 'joyful', 'oil']\n",
    "\n",
    "fig, ax = plt.subplots(figsize = (6, 6))\n",
    "\n",
    "# plot an arrow for each word vector\n",
    "for word in words2plot:\n",
    "    word_idx = word2idx[word] # get word index from the dict\n",
    "    \n",
    "    # plot the arrow starting from (0,0)\n",
    "    ax.arrow(0, 0, words_embeddings_tsne[word_idx,0], words_embeddings_tsne[word_idx,1], head_width=0.2, head_length=0.2)\n",
    "\n",
    "    # Add the word label \n",
    "    ax.annotate(word, (words_embeddings_tsne[word_idx, 0], words_embeddings_tsne[word_idx, 1] - 1))\n",
    "        \n",
    "ax.set_xlim(15, -10)\n",
    "ax.set_ylim(15, -20)\n",
    "\n",
    "plt.show()"
   ]
  },
  {
   "cell_type": "markdown",
   "id": "aea36b3b-2fb8-4a28-8887-c964a10ccdf2",
   "metadata": {},
   "source": [
    "***"
   ]
  },
  {
   "cell_type": "markdown",
   "id": "26273784-1806-4267-a86d-e1836144bffa",
   "metadata": {},
   "source": [
    "# GPU Computation (CUDA)"
   ]
  },
  {
   "cell_type": "code",
   "execution_count": 60,
   "id": "88b990fd-4b12-4e18-809d-100aba54ef93",
   "metadata": {},
   "outputs": [
    {
     "name": "stdout",
     "output_type": "stream",
     "text": [
      "cuda:0\n"
     ]
    }
   ],
   "source": [
    "import torch\n",
    "device = torch.device(\"cuda:0\" if torch.cuda.is_available() else \"cpu\")\n",
    "print(device)"
   ]
  }
 ],
 "metadata": {
  "kernelspec": {
   "display_name": "Python 3 (ipykernel)",
   "language": "python",
   "name": "python3"
  },
  "language_info": {
   "codemirror_mode": {
    "name": "ipython",
    "version": 3
   },
   "file_extension": ".py",
   "mimetype": "text/x-python",
   "name": "python",
   "nbconvert_exporter": "python",
   "pygments_lexer": "ipython3",
   "version": "3.9.12"
  }
 },
 "nbformat": 4,
 "nbformat_minor": 5
}
