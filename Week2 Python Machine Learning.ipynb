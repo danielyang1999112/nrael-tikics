{
 "cells": [
  {
   "cell_type": "markdown",
   "id": "6b61a6ec-b2cb-4da7-b0e2-45dcdc8a3d99",
   "metadata": {},
   "source": [
    "# Linear Regression with Numpy"
   ]
  },
  {
   "cell_type": "code",
   "execution_count": 4,
   "id": "3aa892fb-bc6d-446d-aac5-ce50e5c10ccc",
   "metadata": {},
   "outputs": [],
   "source": [
    "import pandas as pd\n",
    "import numpy as np\n",
    "\n",
    "class LinearRegression():\n",
    "\n",
    "    def __init__(self, intercept=True):\n",
    "        # TODO: Store intercept as attribute\n",
    "        self.intercept = intercept\n",
    "\n",
    "    def fit(self, X, y):\n",
    "        # TODO: Compute and store estimated betas using matrix operations\n",
    "        if self.intercept:\n",
    "            X = np.hstack((np.ones((X.shape[0], 1)), X))\n",
    "\n",
    "        self.beta = np.linalg.inv(X.T @ X) @ X.T @ y\n",
    "        self.intercept_ = self.beta[0]\n",
    "        self.coef_ = self.beta[1:]\n",
    "\n",
    "    def predict(self, X):\n",
    "        # TODO: Predict y for given X\n",
    "        if self.intercept:\n",
    "            X = np.hstack((np.ones((X.shape[0], 1)), X))\n",
    "        return X @ self.beta"
   ]
  },
  {
   "cell_type": "code",
   "execution_count": 5,
   "id": "9a23a2ed-4240-4be2-b5e3-31eabe0a4d2e",
   "metadata": {},
   "outputs": [
    {
     "name": "stdout",
     "output_type": "stream",
     "text": [
      "[-26733.12387717     87.50068839 -29192.65362542  41420.76777941\n",
      "   -553.40329029]\n",
      "[40371.74115194]\n"
     ]
    }
   ],
   "source": [
    "# Test code\n",
    "br = pd.read_csv('data/BatonRouge.csv')\n",
    "\n",
    "# Make sure you check the size of X, y below \n",
    "# and understand how X, y are used in the class\n",
    "X = br[['SQFT', 'Bedrooms', 'Baths', 'Age']].to_numpy().reshape(-1, 4) # ? rows, 4 columns\n",
    "y = br['Price'].to_numpy()\n",
    "\n",
    "model = LinearRegression()\n",
    "model.fit(X, y)\n",
    "\n",
    "print(model.beta)\n",
    "print(model.predict(X[0,:].reshape(1,-1)))\n",
    "\n",
    "# print(model.coef_)\n",
    "# print(model.intercept_)"
   ]
  },
  {
   "cell_type": "markdown",
   "id": "bb9f645d-19be-4663-9f9a-6629edc7287d",
   "metadata": {},
   "source": [
    "# Linear Regression with sklearn"
   ]
  },
  {
   "cell_type": "code",
   "execution_count": 6,
   "id": "61fd20f5-e22a-4021-96d6-30e21bb9f40b",
   "metadata": {},
   "outputs": [],
   "source": [
    "import numpy as np\n",
    "import pandas as pd\n",
    "from sklearn.linear_model import LinearRegression"
   ]
  },
  {
   "cell_type": "code",
   "execution_count": 7,
   "id": "77512a0a-070a-45ff-90ce-9bad32c8367d",
   "metadata": {},
   "outputs": [
    {
     "data": {
      "text/html": [
       "<div>\n",
       "<style scoped>\n",
       "    .dataframe tbody tr th:only-of-type {\n",
       "        vertical-align: middle;\n",
       "    }\n",
       "\n",
       "    .dataframe tbody tr th {\n",
       "        vertical-align: top;\n",
       "    }\n",
       "\n",
       "    .dataframe thead th {\n",
       "        text-align: right;\n",
       "    }\n",
       "</style>\n",
       "<table border=\"1\" class=\"dataframe\">\n",
       "  <thead>\n",
       "    <tr style=\"text-align: right;\">\n",
       "      <th></th>\n",
       "      <th>Age</th>\n",
       "      <th>Bidders</th>\n",
       "      <th>Price</th>\n",
       "    </tr>\n",
       "  </thead>\n",
       "  <tbody>\n",
       "    <tr>\n",
       "      <th>0</th>\n",
       "      <td>127</td>\n",
       "      <td>13</td>\n",
       "      <td>1235</td>\n",
       "    </tr>\n",
       "    <tr>\n",
       "      <th>1</th>\n",
       "      <td>115</td>\n",
       "      <td>12</td>\n",
       "      <td>1080</td>\n",
       "    </tr>\n",
       "    <tr>\n",
       "      <th>2</th>\n",
       "      <td>127</td>\n",
       "      <td>7</td>\n",
       "      <td>845</td>\n",
       "    </tr>\n",
       "    <tr>\n",
       "      <th>3</th>\n",
       "      <td>150</td>\n",
       "      <td>9</td>\n",
       "      <td>1522</td>\n",
       "    </tr>\n",
       "    <tr>\n",
       "      <th>4</th>\n",
       "      <td>156</td>\n",
       "      <td>6</td>\n",
       "      <td>1047</td>\n",
       "    </tr>\n",
       "  </tbody>\n",
       "</table>\n",
       "</div>"
      ],
      "text/plain": [
       "   Age  Bidders  Price\n",
       "0  127       13   1235\n",
       "1  115       12   1080\n",
       "2  127        7    845\n",
       "3  150        9   1522\n",
       "4  156        6   1047"
      ]
     },
     "execution_count": 7,
     "metadata": {},
     "output_type": "execute_result"
    }
   ],
   "source": [
    "df = pd.read_csv('data/auction.txt', delimiter='\\t')\n",
    "df.head()"
   ]
  },
  {
   "cell_type": "code",
   "execution_count": 8,
   "id": "6b04a161-a50a-4921-99b7-671683feb36f",
   "metadata": {},
   "outputs": [
    {
     "name": "stdout",
     "output_type": "stream",
     "text": [
      "<class 'pandas.core.frame.DataFrame'>\n",
      "RangeIndex: 32 entries, 0 to 31\n",
      "Data columns (total 3 columns):\n",
      " #   Column   Non-Null Count  Dtype\n",
      "---  ------   --------------  -----\n",
      " 0   Age      32 non-null     int64\n",
      " 1   Bidders  32 non-null     int64\n",
      " 2   Price    32 non-null     int64\n",
      "dtypes: int64(3)\n",
      "memory usage: 896.0 bytes\n"
     ]
    }
   ],
   "source": [
    "df.info()"
   ]
  },
  {
   "cell_type": "code",
   "execution_count": 9,
   "id": "76a76f36-0cfc-4d97-8e29-741efd82a002",
   "metadata": {},
   "outputs": [
    {
     "data": {
      "text/html": [
       "<div>\n",
       "<style scoped>\n",
       "    .dataframe tbody tr th:only-of-type {\n",
       "        vertical-align: middle;\n",
       "    }\n",
       "\n",
       "    .dataframe tbody tr th {\n",
       "        vertical-align: top;\n",
       "    }\n",
       "\n",
       "    .dataframe thead th {\n",
       "        text-align: right;\n",
       "    }\n",
       "</style>\n",
       "<table border=\"1\" class=\"dataframe\">\n",
       "  <thead>\n",
       "    <tr style=\"text-align: right;\">\n",
       "      <th></th>\n",
       "      <th>Age</th>\n",
       "      <th>Bidders</th>\n",
       "      <th>Price</th>\n",
       "    </tr>\n",
       "  </thead>\n",
       "  <tbody>\n",
       "    <tr>\n",
       "      <th>count</th>\n",
       "      <td>32.000000</td>\n",
       "      <td>32.000000</td>\n",
       "      <td>32.000000</td>\n",
       "    </tr>\n",
       "    <tr>\n",
       "      <th>mean</th>\n",
       "      <td>144.937500</td>\n",
       "      <td>9.531250</td>\n",
       "      <td>1327.156250</td>\n",
       "    </tr>\n",
       "    <tr>\n",
       "      <th>std</th>\n",
       "      <td>27.395476</td>\n",
       "      <td>2.839632</td>\n",
       "      <td>393.134395</td>\n",
       "    </tr>\n",
       "    <tr>\n",
       "      <th>min</th>\n",
       "      <td>108.000000</td>\n",
       "      <td>5.000000</td>\n",
       "      <td>729.000000</td>\n",
       "    </tr>\n",
       "    <tr>\n",
       "      <th>25%</th>\n",
       "      <td>117.000000</td>\n",
       "      <td>7.000000</td>\n",
       "      <td>1053.000000</td>\n",
       "    </tr>\n",
       "    <tr>\n",
       "      <th>50%</th>\n",
       "      <td>140.000000</td>\n",
       "      <td>9.000000</td>\n",
       "      <td>1257.500000</td>\n",
       "    </tr>\n",
       "    <tr>\n",
       "      <th>75%</th>\n",
       "      <td>168.500000</td>\n",
       "      <td>11.250000</td>\n",
       "      <td>1560.750000</td>\n",
       "    </tr>\n",
       "    <tr>\n",
       "      <th>max</th>\n",
       "      <td>194.000000</td>\n",
       "      <td>15.000000</td>\n",
       "      <td>2131.000000</td>\n",
       "    </tr>\n",
       "  </tbody>\n",
       "</table>\n",
       "</div>"
      ],
      "text/plain": [
       "              Age    Bidders        Price\n",
       "count   32.000000  32.000000    32.000000\n",
       "mean   144.937500   9.531250  1327.156250\n",
       "std     27.395476   2.839632   393.134395\n",
       "min    108.000000   5.000000   729.000000\n",
       "25%    117.000000   7.000000  1053.000000\n",
       "50%    140.000000   9.000000  1257.500000\n",
       "75%    168.500000  11.250000  1560.750000\n",
       "max    194.000000  15.000000  2131.000000"
      ]
     },
     "execution_count": 9,
     "metadata": {},
     "output_type": "execute_result"
    }
   ],
   "source": [
    "df.describe()"
   ]
  },
  {
   "cell_type": "code",
   "execution_count": 10,
   "id": "cdfd9dc2-8de4-47c4-b347-ff2253cbe1cc",
   "metadata": {},
   "outputs": [],
   "source": [
    "X = df[['Age', 'Bidders']].to_numpy().reshape(-1, 2)\n",
    "y = df['Price'].to_numpy()"
   ]
  },
  {
   "cell_type": "code",
   "execution_count": 11,
   "id": "49cf417d-0309-47a6-ad40-3a6f3894a9b7",
   "metadata": {},
   "outputs": [],
   "source": [
    "model = LinearRegression(fit_intercept=True)\n",
    "lr_obj = model.fit(X, y)"
   ]
  },
  {
   "cell_type": "code",
   "execution_count": 12,
   "id": "61aa3732-5773-47f4-8b68-e30fede28aac",
   "metadata": {},
   "outputs": [
    {
     "data": {
      "text/plain": [
       "-1336.7220521429554"
      ]
     },
     "execution_count": 12,
     "metadata": {},
     "output_type": "execute_result"
    }
   ],
   "source": [
    "lr_obj.intercept_"
   ]
  },
  {
   "cell_type": "code",
   "execution_count": 13,
   "id": "692f9fd5-47cc-4cde-902a-40ea20ab87e8",
   "metadata": {},
   "outputs": [
    {
     "data": {
      "text/plain": [
       "array([12.73619884, 85.8151326 ])"
      ]
     },
     "execution_count": 13,
     "metadata": {},
     "output_type": "execute_result"
    }
   ],
   "source": [
    "lr_obj.coef_"
   ]
  },
  {
   "cell_type": "code",
   "execution_count": 14,
   "id": "78f70a81-c1f1-41d6-be2b-a552db4639cb",
   "metadata": {},
   "outputs": [
    {
     "name": "stdout",
     "output_type": "stream",
     "text": [
      "Estimated Sale Price: $1491.58\n"
     ]
    }
   ],
   "source": [
    "new_clock = np.array([121, 15]).reshape(1,2)\n",
    "predicted_price = lr_obj.predict(new_clock)\n",
    "print(\"Estimated Sale Price: ${0:.2f}\".format(predicted_price[0]))"
   ]
  },
  {
   "cell_type": "markdown",
   "id": "0399c92a-cf66-44d9-9592-b3e9af22809d",
   "metadata": {},
   "source": [
    "# Linear Regression with Gradient Descent and Numpy"
   ]
  },
  {
   "cell_type": "code",
   "execution_count": 15,
   "id": "742ab19d-9e39-4e0c-90c7-8cfd54790f5d",
   "metadata": {},
   "outputs": [],
   "source": [
    "import numpy as np\n",
    "import matplotlib.pyplot as plt"
   ]
  },
  {
   "cell_type": "code",
   "execution_count": 16,
   "id": "6969ea71-2d2c-4634-91a9-e48a3ec98b76",
   "metadata": {},
   "outputs": [],
   "source": [
    "def Gradient_Descent_LinearReg(X, y, beta, alpha, numIterations):\n",
    "    \"\"\"\n",
    "    Inputs:\n",
    "        X: 2d-array with shape (num_samples, num_features)\n",
    "        y: 2d-array with shape (num_samples, 1)\n",
    "        beta: initial value of beta with shape (num_features, 1)\n",
    "        alpha: learning rate\n",
    "        numIterations: max number of iterations of running GD\n",
    "    \"\"\"\n",
    "    \n",
    "    N = X.shape[0]\n",
    "    d = X.shape[1]\n",
    "    xTrans = X.T\n",
    "    \n",
    "    # create some placeholders for loss and betas\n",
    "    loss_total = np.zeros((numIterations,1))\n",
    "    beta_all = np.zeros((numIterations,d))\n",
    "    \n",
    "    for i in range(numIterations):\n",
    "        \n",
    "        # predicted values from the model\n",
    "        model_0 = np.matmul(X, beta)\n",
    "        loss_temp = model_0 - y\n",
    "        \n",
    "        # calculte the loss function\n",
    "        loss = np.sum(np.square(loss_temp)) / (2 * N)\n",
    "        # save all the loss function values at each step\n",
    "        loss_total[i]= loss\n",
    "        #You can check iteration by\n",
    "        #print(\"Iteration: {0} | Loss fucntion: {1}\".format(i, loss))\n",
    "        \n",
    "        # calcualte the gradient using matrix representation\n",
    "        gradient = ( xTrans @ (X @ beta - y) ) / N\n",
    "        # gradient = ( xTrans @ loss_temp ) / N\n",
    "\n",
    "        # update the parameters simulteneously with learning rate alpha\n",
    "        beta = beta - alpha * gradient\n",
    "        \n",
    "        # save all the estimated parametes at each step\n",
    "        beta_all[i,:]= beta.T\n",
    "        \n",
    "    return beta, beta_all, loss_total"
   ]
  },
  {
   "cell_type": "code",
   "execution_count": 17,
   "id": "ba10282c-5c13-4bb4-bd0b-2128aff4c0bf",
   "metadata": {},
   "outputs": [],
   "source": [
    "# Initialise RNG to generate the same random numbers each time\n",
    "np.random.seed(0)\n",
    "\n",
    "#number of training examples\n",
    "N = 50 \n",
    "x = np.linspace(0.0, 1.0, N)\n",
    "# Function true coefficients/parameters\n",
    "beta0 = 4\n",
    "beta1 = 1.5\n",
    "\n",
    "# true values from linear model\n",
    "f = beta0 + beta1 * x \n",
    "y = f + np.random.normal(0, 0.1, N)\n",
    "\n",
    "# reshape into (N,1) and add column ones\n",
    "y = y.reshape((len(y), 1)) \n",
    "x = x.reshape((len(x), 1))\n",
    "x = np.hstack((np.ones((len(x),1)), x))"
   ]
  },
  {
   "cell_type": "code",
   "execution_count": 18,
   "id": "16258674-f539-410a-9196-d0114685d48b",
   "metadata": {},
   "outputs": [
    {
     "name": "stdout",
     "output_type": "stream",
     "text": [
      "[[4.07326891]\n",
      " [1.38001925]]\n"
     ]
    }
   ],
   "source": [
    "# set parameters\n",
    "numIterations= 100000\n",
    "alpha = 0.0005\n",
    "\n",
    "# parameters starting values\n",
    "d = x.shape[1]\n",
    "beta_initial = np.zeros((d,1))\n",
    "\n",
    "beta, beta_total, loss_total = Gradient_Descent_LinearReg(x, y, beta_initial, alpha, numIterations) # add your code here  \n",
    "print(beta)"
   ]
  },
  {
   "cell_type": "code",
   "execution_count": 19,
   "id": "8b61f4fe-cfea-45c8-b1a7-3d05f9623f1d",
   "metadata": {},
   "outputs": [
    {
     "data": {
      "image/png": "[encoded data removed]",
      "text/plain": [
       "<Figure size 432x288 with 1 Axes>"
      ]
     },
     "metadata": {
      "needs_background": "light"
     },
     "output_type": "display_data"
    }
   ],
   "source": [
    "# plot the convergence\n",
    "plt.figure()\n",
    "plt.plot(loss_total, label = \"Loss fucntion\")\n",
    "plt.plot(beta_total[:,0], label = \"Beta0\")\n",
    "plt.plot(beta_total[:,1], label = \"Beta1\")\n",
    "plt.legend(loc=\"upper right\")\n",
    "plt.xlabel(\"Number of iteration\")\n",
    "plt.show()"
   ]
  },
  {
   "cell_type": "markdown",
   "id": "6e2c9b92-c4c6-4d20-aa6b-e83e1ddfeda9",
   "metadata": {},
   "source": [
    "# Linear Regression with Gradient Descent and Pytorch"
   ]
  },
  {
   "cell_type": "code",
   "execution_count": 22,
   "id": "5b85be7a-519f-499d-a81f-7b98eea48e87",
   "metadata": {},
   "outputs": [],
   "source": [
    "import torch\n",
    "import numpy as np\n",
    "\n",
    "# set device (this step is optiional; by default, it will be cpu)\n",
    "device = torch.device(\"cpu\")\n",
    "# device = torch.device(\"cuda:0\")  # you can uncomment if you have GPU available"
   ]
  },
  {
   "cell_type": "code",
   "execution_count": 23,
   "id": "90a2fd65-9a5d-4477-bbc2-1f984b247c46",
   "metadata": {},
   "outputs": [],
   "source": [
    "# Initialise RNG to generate the same random numbers each time\n",
    "np.random.seed(0)\n",
    "#number of training examples\n",
    "N = 50 \n",
    "x = np.linspace(0.0, 1.0, N)\n",
    "# Function true coefficients/parameters\n",
    "beta0 = 4\n",
    "beta1 = 1.5\n",
    " \n",
    "# true values from linear model\n",
    "f = beta0 + beta1 * x \n",
    "y = f + np.random.normal(0, 0.1, N)\n",
    "\n",
    "# reshape into (N,1) and add column ones\n",
    "y = y.reshape((len(y), 1)) \n",
    "x = x.reshape((len(x), 1))\n",
    "x = np.hstack((np.ones((len(x),1)), x))"
   ]
  },
  {
   "cell_type": "code",
   "execution_count": 24,
   "id": "c5866bf0-9473-4c5f-b173-7f88b3c5f083",
   "metadata": {},
   "outputs": [
    {
     "name": "stdout",
     "output_type": "stream",
     "text": [
      "torch.DoubleTensor\n",
      "torch.FloatTensor\n"
     ]
    }
   ],
   "source": [
    "x_torch = torch.from_numpy(x).float().to(device)\n",
    "y_torch = torch.from_numpy(y).float().to(device)\n",
    "\n",
    "print(torch.from_numpy(x).type())\n",
    "print(x_torch.type())"
   ]
  },
  {
   "cell_type": "code",
   "execution_count": 25,
   "id": "9f53bede-51d6-4fee-bce7-e250748cd53c",
   "metadata": {},
   "outputs": [],
   "source": [
    "# set random seed for replicability\n",
    "torch.manual_seed(0)\n",
    "N, d = x_torch.shape\n",
    "\n",
    "# initialize beta randomly\n",
    "# Set requires_grad = True to tell Pytorch that this is a parameter \n",
    "# and you need to keep track of its gradient in the computational graph\n",
    "beta = torch.randn((d, 1), device=device, requires_grad=True)\n",
    "# set parameters\n",
    "alpha = 0.0005 \n",
    "numIterations = 10000 \n",
    "\n",
    "# some placeholders\n",
    "loss_total = torch.zeros((numIterations,1))\n",
    "beta_total = torch.zeros((numIterations,d))"
   ]
  },
  {
   "cell_type": "code",
   "execution_count": 26,
   "id": "208f6ac9-02ef-4266-a5da-f21055797a39",
   "metadata": {},
   "outputs": [],
   "source": [
    "# **define loss function: we use mse loss**\n",
    "loss_fn = torch.nn.MSELoss(reduction='mean')\n",
    "\n",
    "# **define optimizer: we use SGD optimizer with parameters set to be beta**\n",
    "optimizer = torch.optim.SGD([beta], lr=alpha)"
   ]
  },
  {
   "cell_type": "code",
   "execution_count": 27,
   "id": "b6086dca-6851-401f-a9f3-706bdac10e20",
   "metadata": {},
   "outputs": [
    {
     "name": "stdout",
     "output_type": "stream",
     "text": [
      "Iteration: 0, Loss: 11.60\n",
      "Iteration: 1000, Loss: 0.93\n",
      "Iteration: 2000, Loss: 0.09\n",
      "Iteration: 3000, Loss: 0.02\n",
      "Iteration: 4000, Loss: 0.01\n",
      "Iteration: 5000, Loss: 0.01\n",
      "Iteration: 6000, Loss: 0.01\n",
      "Iteration: 7000, Loss: 0.01\n",
      "Iteration: 8000, Loss: 0.01\n",
      "Iteration: 9000, Loss: 0.01\n"
     ]
    }
   ],
   "source": [
    "for i in range(numIterations):\n",
    "    # compute prediction and loss by passing in the entire dataset (x_torch, y_torch)\n",
    "    y_pred = torch.matmul(x_torch, beta)\n",
    "    loss = loss_fn(y_pred, y_torch)\n",
    "\n",
    "    # backward pass to compute gradient\n",
    "    loss.backward()\n",
    "\n",
    "    # Calling the step function on an Optimizer makes an update to its parameters\n",
    "    optimizer.step()\n",
    "    \n",
    "    # zero out gradients. This is because whenever backwards is called,\n",
    "    # gradients are accumulated. \n",
    "    optimizer.zero_grad()\n",
    "    \n",
    "    # == Stats log == \n",
    "    # store loss\n",
    "    loss_total[i] = loss\n",
    "    # print out loss every 1000 iterations\n",
    "    if i % 1000 == 0:\n",
    "        print('Iteration: {}, Loss: {:.2f}'.format(i, loss))\n",
    "        \n",
    "    # store betas\n",
    "    beta_total[i,:] = beta.detach().t()"
   ]
  },
  {
   "cell_type": "code",
   "execution_count": 28,
   "id": "d1e58102-9866-4c5b-ba09-23164198eb57",
   "metadata": {},
   "outputs": [
    {
     "name": "stdout",
     "output_type": "stream",
     "text": [
      "tensor([[4.1450],\n",
      "        [1.2463]], requires_grad=True)\n"
     ]
    }
   ],
   "source": [
    "print(beta)"
   ]
  },
  {
   "cell_type": "code",
   "execution_count": 29,
   "id": "abe6e8cb-490e-4329-95f3-a5a802015b8c",
   "metadata": {},
   "outputs": [
    {
     "data": {
      "image/png": "[encoded data removed]",
      "text/plain": [
       "<Figure size 432x288 with 1 Axes>"
      ]
     },
     "metadata": {
      "needs_background": "light"
     },
     "output_type": "display_data"
    }
   ],
   "source": [
    "import matplotlib.pyplot as plt\n",
    "\n",
    "plt.figure()\n",
    "plt.plot(loss_total.detach(), label = \"Loss fucntion\")\n",
    "plt.plot(beta_total[:,0], label = \"Beta0\")\n",
    "plt.plot(beta_total[:,1], label = \"Beta1\")\n",
    "plt.legend(loc=\"upper right\")\n",
    "plt.xlabel(\"Number of iteration\")\n",
    "plt.show()"
   ]
  },
  {
   "cell_type": "markdown",
   "id": "fbf6d91a-b859-4154-9a62-cd1ad61a3ee2",
   "metadata": {},
   "source": [
    "- ## Stochastic gradient descent for large datasets\n",
    "Normally we will be dealing with large-scale datasets with NN extremely large. In this case, computing the full gradient can be inefficient. You will be implementing stochastic gradient descent (SGD) based optimizers."
   ]
  },
  {
   "cell_type": "code",
   "execution_count": 30,
   "id": "b5206036-6409-46f4-b75a-ee8eb9c38a8d",
   "metadata": {},
   "outputs": [
    {
     "name": "stdout",
     "output_type": "stream",
     "text": [
      "Iteration: 0, Loss: 11.41\n",
      "Iteration: 1000, Loss: 1.08\n",
      "Iteration: 2000, Loss: 0.10\n",
      "Iteration: 3000, Loss: 0.01\n",
      "Iteration: 4000, Loss: 0.01\n",
      "Iteration: 5000, Loss: 0.01\n",
      "Iteration: 6000, Loss: 0.01\n",
      "Iteration: 7000, Loss: 0.02\n",
      "Iteration: 8000, Loss: 0.01\n",
      "Iteration: 9000, Loss: 0.01\n"
     ]
    }
   ],
   "source": [
    "# set random seed for replicability\n",
    "torch.manual_seed(0)\n",
    "\n",
    "N, d = x_torch.shape\n",
    "\n",
    "# initialize beta\n",
    "beta = torch.randn((d, 1), device = device, requires_grad = True)\n",
    "\n",
    "# set parameters\n",
    "alpha = 0.0005 \n",
    "numIterations = 10000 \n",
    "batchSize = 20 # how many samples we use to compute gradient\n",
    "\n",
    "# some placeholders\n",
    "loss_total = torch.zeros((numIterations,1))\n",
    "beta_total = torch.zeros((numIterations,d))\n",
    "\n",
    "# **define loss function: we use mse loss**\n",
    "loss_fn = torch.nn.MSELoss(reduction='mean')\n",
    "\n",
    "# **define optimizer: we use SGD optimizer with parameters set to be beta**\n",
    "optimizer = torch.optim.SGD([beta], lr=alpha)\n",
    "\n",
    "\n",
    "for i in range(numIterations):\n",
    "    \n",
    "    # === ONLY DIFFERENCE: Pass in a subset of dataset when N is too large ===\n",
    "    randomIdx = torch.randint(0, N, (batchSize,)) # random select 20 indices\n",
    "    x_batch = x_torch[randomIdx]\n",
    "    y_batch = y_torch[randomIdx]\n",
    "    \n",
    "    y_pred = torch.matmul(x_batch, beta)\n",
    "    loss = loss_fn(y_pred, y_batch)\n",
    "\n",
    "    # backward pass to compute gradient\n",
    "    loss.backward()\n",
    "\n",
    "    # Calling the step function on an Optimizer makes an update to its parameters\n",
    "    optimizer.step()\n",
    "    \n",
    "    # zero out gradients. This is because whenever backwards is called,\n",
    "    # gradients are accumulated. \n",
    "    optimizer.zero_grad()\n",
    "    \n",
    "    \n",
    "    # == Stats log == \n",
    "    # store loss\n",
    "    loss_total[i] = loss\n",
    "    # print out loss every 1000 iterations\n",
    "    if i % 1000 == 0:\n",
    "        print('Iteration: {}, Loss: {:.2f}'.format(i, loss))\n",
    "        \n",
    "    # store betas\n",
    "    beta_total[i,:] = beta.detach().t()"
   ]
  },
  {
   "cell_type": "code",
   "execution_count": 31,
   "id": "1743182d-e8b3-4ff3-904d-cbc652a80bed",
   "metadata": {},
   "outputs": [
    {
     "data": {
      "text/plain": [
       "tensor([[4.1459],\n",
       "        [1.2465]], requires_grad=True)"
      ]
     },
     "execution_count": 31,
     "metadata": {},
     "output_type": "execute_result"
    }
   ],
   "source": [
    "beta"
   ]
  },
  {
   "cell_type": "code",
   "execution_count": 32,
   "id": "2070479b-e96d-4aa1-a4b7-28ac1603219e",
   "metadata": {},
   "outputs": [
    {
     "data": {
      "image/png": "[encoded data removed]",
      "text/plain": [
       "<Figure size 432x288 with 1 Axes>"
      ]
     },
     "metadata": {
      "needs_background": "light"
     },
     "output_type": "display_data"
    }
   ],
   "source": [
    "plt.figure()\n",
    "plt.plot(loss_total.detach(), label = \"Loss fucntion\")\n",
    "plt.plot(beta_total[:,0], label = \"Beta0\")\n",
    "plt.plot(beta_total[:,1], label = \"Beta1\")\n",
    "plt.legend(loc=\"upper right\")\n",
    "plt.xlabel(\"Number of iteration\")\n",
    "plt.show()"
   ]
  },
  {
   "cell_type": "code",
   "execution_count": 33,
   "id": "c7871e9f-5693-4f68-9937-beff856b1142",
   "metadata": {},
   "outputs": [
    {
     "data": {
      "text/plain": [
       "tensor(False)"
      ]
     },
     "execution_count": 33,
     "metadata": {},
     "output_type": "execute_result"
    }
   ],
   "source": [
    "beta_total[6000, 1] == beta_total[8000, 1]"
   ]
  },
  {
   "cell_type": "code",
   "execution_count": 34,
   "id": "d77bacab-b82a-47fe-b322-f96e8aec0c46",
   "metadata": {},
   "outputs": [
    {
     "data": {
      "text/plain": [
       "tensor(1.2093)"
      ]
     },
     "execution_count": 34,
     "metadata": {},
     "output_type": "execute_result"
    }
   ],
   "source": [
    "beta_total[6000, 1]"
   ]
  },
  {
   "cell_type": "code",
   "execution_count": 35,
   "id": "1531f01f-b87b-4fa0-81f4-9551f0b3bafc",
   "metadata": {},
   "outputs": [
    {
     "data": {
      "text/plain": [
       "tensor(1.2292)"
      ]
     },
     "execution_count": 35,
     "metadata": {},
     "output_type": "execute_result"
    }
   ],
   "source": [
    "beta_total[8000, 1]"
   ]
  },
  {
   "cell_type": "code",
   "execution_count": 36,
   "id": "6d12e797-eaa8-403b-87bf-b882bcb134a9",
   "metadata": {},
   "outputs": [],
   "source": [
    "# It wanders around the True parameter"
   ]
  }
 ],
 "metadata": {
  "kernelspec": {
   "display_name": "Python 3 (ipykernel)",
   "language": "python",
   "name": "python3"
  },
  "language_info": {
   "codemirror_mode": {
    "name": "ipython",
    "version": 3
   },
   "file_extension": ".py",
   "mimetype": "text/x-python",
   "name": "python",
   "nbconvert_exporter": "python",
   "pygments_lexer": "ipython3",
   "version": "3.9.12"
  }
 },
 "nbformat": 4,
 "nbformat_minor": 5
}
