{
 "cells": [
  {
   "cell_type": "markdown",
   "id": "af4725cf-be33-4ef7-8300-27f8c167e271",
   "metadata": {},
   "source": [
    "# Gini index"
   ]
  },
  {
   "cell_type": "code",
   "execution_count": 4,
   "id": "bb0d0f1c-2568-4374-b8b0-f521659b24f8",
   "metadata": {},
   "outputs": [],
   "source": [
    "import numpy as np\n",
    "import pandas as pd"
   ]
  },
  {
   "cell_type": "code",
   "execution_count": 5,
   "id": "91056cbf-06a9-4a79-8d18-da333f34ee0b",
   "metadata": {},
   "outputs": [],
   "source": [
    "def gini(labels):\n",
    "    '''\n",
    "    Input\n",
    "        labels: a list like object with binary values\n",
    "    return \n",
    "        the gini score\n",
    "    '''\n",
    "    count = np.bincount(labels)\n",
    "    total = count.sum()\n",
    "    zeros = count[0]\n",
    "    ones = count[1]\n",
    "    \n",
    "    return 2 * (zeros/total) * (ones / total)\n",
    "\n",
    "def weighted_gini(left_y, right_y):\n",
    "    '''\n",
    "    Calculate the expected gini score for two sets\n",
    "    '''\n",
    "    D_left = len(left_y)\n",
    "    D_right = len(right_y)\n",
    "    D = D_left + D_right\n",
    "    \n",
    "    return D_left/D * gini(left_y) + D_right/D * gini(right_y)"
   ]
  },
  {
   "cell_type": "code",
   "execution_count": 6,
   "id": "e7dec6e7-2f5a-4808-bd07-406088bddd58",
   "metadata": {},
   "outputs": [
    {
     "name": "stdout",
     "output_type": "stream",
     "text": [
      "Education_High school gini = 0.36\n",
      "Education_University gini = 0.36\n",
      "Income_High gini = 0.39\n",
      "Income_Low gini = 0.48\n",
      "Income_Medium gini = 0.36\n",
      "Marital Status_Married gini = 0.47\n",
      "Marital Status_Single gini = 0.47\n",
      "Age_21 gini = 0.48\n",
      "Age_22 gini = 0.48\n",
      "Age_25 gini = 0.48\n",
      "Age_27 gini = 0.47\n",
      "Age_32 gini = 0.48\n",
      "Optimal feature: Income_Medium with gini 0.36\n"
     ]
    }
   ],
   "source": [
    "# load dataset\n",
    "purchases = pd.read_csv('data/purchases_w9.csv')\n",
    "\n",
    "# Don't include customer id or purchase\n",
    "X = purchases.iloc[:, 1:-1]\n",
    "\n",
    "# Target is purchase status (last column)\n",
    "y = purchases.iloc[:, -1]\n",
    "\n",
    "gini_values = []\n",
    "\n",
    "for col in X.columns:\n",
    "    \n",
    "    left_y = y[X[col] == 1]\n",
    "    right_y = y[X[col] == 0]\n",
    "    \n",
    "    gini_split = weighted_gini(left_y, right_y)\n",
    "    \n",
    "    print(f'{col} gini = {gini_split:.2f}')\n",
    "    \n",
    "    gini_values.append(gini_split)\n",
    "\n",
    "best_idx = np.argmin(gini_values)\n",
    "\n",
    "print(f'Optimal feature: {X.columns[best_idx]} with gini {gini_values[best_idx]:.2f}')"
   ]
  },
  {
   "cell_type": "markdown",
   "id": "35d5cc68-ea6e-4016-8179-d0cc7ec61b2d",
   "metadata": {},
   "source": [
    "***"
   ]
  },
  {
   "cell_type": "markdown",
   "id": "0b3a1213-4eb9-485b-beb1-ebc7961654fd",
   "metadata": {},
   "source": [
    "# Decision Tree with sklearn"
   ]
  },
  {
   "cell_type": "code",
   "execution_count": 7,
   "id": "24fdb0c2-ad3e-4600-96b3-c80d0756678d",
   "metadata": {},
   "outputs": [],
   "source": [
    "import numpy as np\n",
    "import pandas as pd\n",
    "import matplotlib.pyplot as plt\n",
    "\n",
    "from sklearn import tree\n",
    "from sklearn.tree import DecisionTreeClassifier\n",
    "from sklearn.model_selection import train_test_split\n",
    "from sklearn.metrics import classification_report, confusion_matrix"
   ]
  },
  {
   "cell_type": "code",
   "execution_count": 8,
   "id": "a64127b7-0b43-4023-9d22-43ff0066896b",
   "metadata": {},
   "outputs": [
    {
     "data": {
      "text/html": [
       "<div>\n",
       "<style scoped>\n",
       "    .dataframe tbody tr th:only-of-type {\n",
       "        vertical-align: middle;\n",
       "    }\n",
       "\n",
       "    .dataframe tbody tr th {\n",
       "        vertical-align: top;\n",
       "    }\n",
       "\n",
       "    .dataframe thead th {\n",
       "        text-align: right;\n",
       "    }\n",
       "</style>\n",
       "<table border=\"1\" class=\"dataframe\">\n",
       "  <thead>\n",
       "    <tr style=\"text-align: right;\">\n",
       "      <th></th>\n",
       "      <th>default</th>\n",
       "      <th>student</th>\n",
       "      <th>balance</th>\n",
       "      <th>income</th>\n",
       "    </tr>\n",
       "  </thead>\n",
       "  <tbody>\n",
       "    <tr>\n",
       "      <th>0</th>\n",
       "      <td>0</td>\n",
       "      <td>No</td>\n",
       "      <td>729.526495</td>\n",
       "      <td>44361.62507</td>\n",
       "    </tr>\n",
       "    <tr>\n",
       "      <th>1</th>\n",
       "      <td>0</td>\n",
       "      <td>Yes</td>\n",
       "      <td>817.180407</td>\n",
       "      <td>12106.13470</td>\n",
       "    </tr>\n",
       "    <tr>\n",
       "      <th>2</th>\n",
       "      <td>0</td>\n",
       "      <td>No</td>\n",
       "      <td>1073.549164</td>\n",
       "      <td>31767.13895</td>\n",
       "    </tr>\n",
       "    <tr>\n",
       "      <th>3</th>\n",
       "      <td>0</td>\n",
       "      <td>No</td>\n",
       "      <td>529.250605</td>\n",
       "      <td>35704.49394</td>\n",
       "    </tr>\n",
       "    <tr>\n",
       "      <th>4</th>\n",
       "      <td>0</td>\n",
       "      <td>No</td>\n",
       "      <td>785.655883</td>\n",
       "      <td>38463.49588</td>\n",
       "    </tr>\n",
       "  </tbody>\n",
       "</table>\n",
       "</div>"
      ],
      "text/plain": [
       "   default student      balance       income\n",
       "0        0      No   729.526495  44361.62507\n",
       "1        0     Yes   817.180407  12106.13470\n",
       "2        0      No  1073.549164  31767.13895\n",
       "3        0      No   529.250605  35704.49394\n",
       "4        0      No   785.655883  38463.49588"
      ]
     },
     "execution_count": 8,
     "metadata": {},
     "output_type": "execute_result"
    }
   ],
   "source": [
    "default = pd.read_csv('data/default_w9.csv')\n",
    "default.head()"
   ]
  },
  {
   "cell_type": "code",
   "execution_count": 9,
   "id": "0e76429c-5b37-43fc-b9e4-a4046ad5fdeb",
   "metadata": {},
   "outputs": [
    {
     "data": {
      "text/html": [
       "<div>\n",
       "<style scoped>\n",
       "    .dataframe tbody tr th:only-of-type {\n",
       "        vertical-align: middle;\n",
       "    }\n",
       "\n",
       "    .dataframe tbody tr th {\n",
       "        vertical-align: top;\n",
       "    }\n",
       "\n",
       "    .dataframe thead th {\n",
       "        text-align: right;\n",
       "    }\n",
       "</style>\n",
       "<table border=\"1\" class=\"dataframe\">\n",
       "  <thead>\n",
       "    <tr style=\"text-align: right;\">\n",
       "      <th></th>\n",
       "      <th>default</th>\n",
       "      <th>balance</th>\n",
       "      <th>income</th>\n",
       "      <th>student_No</th>\n",
       "      <th>student_Yes</th>\n",
       "    </tr>\n",
       "  </thead>\n",
       "  <tbody>\n",
       "    <tr>\n",
       "      <th>0</th>\n",
       "      <td>0</td>\n",
       "      <td>729.526495</td>\n",
       "      <td>44361.62507</td>\n",
       "      <td>1</td>\n",
       "      <td>0</td>\n",
       "    </tr>\n",
       "    <tr>\n",
       "      <th>1</th>\n",
       "      <td>0</td>\n",
       "      <td>817.180407</td>\n",
       "      <td>12106.13470</td>\n",
       "      <td>0</td>\n",
       "      <td>1</td>\n",
       "    </tr>\n",
       "    <tr>\n",
       "      <th>2</th>\n",
       "      <td>0</td>\n",
       "      <td>1073.549164</td>\n",
       "      <td>31767.13895</td>\n",
       "      <td>1</td>\n",
       "      <td>0</td>\n",
       "    </tr>\n",
       "    <tr>\n",
       "      <th>3</th>\n",
       "      <td>0</td>\n",
       "      <td>529.250605</td>\n",
       "      <td>35704.49394</td>\n",
       "      <td>1</td>\n",
       "      <td>0</td>\n",
       "    </tr>\n",
       "    <tr>\n",
       "      <th>4</th>\n",
       "      <td>0</td>\n",
       "      <td>785.655883</td>\n",
       "      <td>38463.49588</td>\n",
       "      <td>1</td>\n",
       "      <td>0</td>\n",
       "    </tr>\n",
       "  </tbody>\n",
       "</table>\n",
       "</div>"
      ],
      "text/plain": [
       "   default      balance       income  student_No  student_Yes\n",
       "0        0   729.526495  44361.62507           1            0\n",
       "1        0   817.180407  12106.13470           0            1\n",
       "2        0  1073.549164  31767.13895           1            0\n",
       "3        0   529.250605  35704.49394           1            0\n",
       "4        0   785.655883  38463.49588           1            0"
      ]
     },
     "execution_count": 9,
     "metadata": {},
     "output_type": "execute_result"
    }
   ],
   "source": [
    "default = pd.get_dummies(default)\n",
    "default.head()"
   ]
  },
  {
   "cell_type": "code",
   "execution_count": 10,
   "id": "8b6124a6-38ee-4e17-b3a9-74650ba15a27",
   "metadata": {},
   "outputs": [
    {
     "name": "stdout",
     "output_type": "stream",
     "text": [
      "The total number of default is 333.\n",
      "The total number of non-default is 9667.\n"
     ]
    }
   ],
   "source": [
    "X = default.iloc[:, 1:]\n",
    "y = default['default']\n",
    "\n",
    "print('The total number of default is {}.'.format(np.sum(y == 1)))\n",
    "print('The total number of non-default is {}.'.format(np.sum(y == 0)))"
   ]
  },
  {
   "cell_type": "code",
   "execution_count": 11,
   "id": "dda5eaf6-9824-4347-85e5-c889abab8792",
   "metadata": {},
   "outputs": [
    {
     "data": {
      "text/plain": [
       "Index(['balance', 'income', 'student_No', 'student_Yes'], dtype='object')"
      ]
     },
     "execution_count": 11,
     "metadata": {},
     "output_type": "execute_result"
    }
   ],
   "source": [
    "feature_names = X.columns\n",
    "feature_names"
   ]
  },
  {
   "cell_type": "code",
   "execution_count": 12,
   "id": "bbbdcda6-e59f-4654-8c1b-e122289e4d44",
   "metadata": {},
   "outputs": [
    {
     "name": "stdout",
     "output_type": "stream",
     "text": [
      "train size: 4000\n",
      "test size: 6000\n"
     ]
    }
   ],
   "source": [
    "X_train, X_test, y_train, y_test = train_test_split(X, y, \n",
    "                                                    random_state=0, \n",
    "                                                    train_size=0.4)\n",
    "print('train size:', len(y_train))\n",
    "print('test size:', len(y_test))"
   ]
  },
  {
   "cell_type": "code",
   "execution_count": 13,
   "id": "5e199006-61bc-4c5e-b103-7deab84968fe",
   "metadata": {},
   "outputs": [
    {
     "data": {
      "text/plain": [
       "DecisionTreeClassifier(class_weight='balanced', max_depth=2)"
      ]
     },
     "execution_count": 13,
     "metadata": {},
     "output_type": "execute_result"
    }
   ],
   "source": [
    "default_clf = DecisionTreeClassifier(max_depth = 2, class_weight = 'balanced')\n",
    "default_clf.fit(X_train, y_train)"
   ]
  },
  {
   "cell_type": "code",
   "execution_count": 14,
   "id": "2bc965c7-f04e-4229-8207-93b20a929ad9",
   "metadata": {},
   "outputs": [
    {
     "name": "stdout",
     "output_type": "stream",
     "text": [
      "Proportion of defaults in test set: 0.0378\n"
     ]
    }
   ],
   "source": [
    "print(f'Proportion of defaults in test set: {sum(y_test)/len(y_test):.4f}')"
   ]
  },
  {
   "cell_type": "code",
   "execution_count": 15,
   "id": "2cc616e1-1604-4c1f-bea8-6e35d5a65c2e",
   "metadata": {},
   "outputs": [
    {
     "name": "stdout",
     "output_type": "stream",
     "text": [
      "[[4708 1065]\n",
      " [  20  207]]\n",
      "              precision    recall  f1-score   support\n",
      "\n",
      "           0       1.00      0.82      0.90      5773\n",
      "           1       0.16      0.91      0.28       227\n",
      "\n",
      "    accuracy                           0.82      6000\n",
      "   macro avg       0.58      0.86      0.59      6000\n",
      "weighted avg       0.96      0.82      0.87      6000\n",
      "\n"
     ]
    }
   ],
   "source": [
    "y_pred = default_clf.predict(X_test)\n",
    "\n",
    "print(confusion_matrix(y_test, y_pred))\n",
    "print(classification_report(y_test, y_pred))"
   ]
  },
  {
   "cell_type": "code",
   "execution_count": 16,
   "id": "d9385e59-4e77-4fed-82a5-845bcb139184",
   "metadata": {},
   "outputs": [
    {
     "data": {
      "image/png": "[encoded data removed]",
      "text/plain": [
       "<Figure size 720x720 with 1 Axes>"
      ]
     },
     "metadata": {
      "needs_background": "light"
     },
     "output_type": "display_data"
    }
   ],
   "source": [
    "plt.figure(figsize=(10,10))\n",
    "\n",
    "tree.plot_tree(default_clf, \n",
    "               rounded=True, \n",
    "               filled=True, \n",
    "               feature_names=feature_names)\n",
    "plt.show()"
   ]
  },
  {
   "cell_type": "code",
   "execution_count": 17,
   "id": "93fc5b3f-3605-4657-9eeb-a9ee1a8c310c",
   "metadata": {},
   "outputs": [],
   "source": [
    "# WARNING: The hyperparameter selection should NOT be done on test data.\n",
    "#          Here we are just evaluating the final performance with different values max_depth and report the results.\n",
    "max_d = 300\n",
    "# Grid search for max_depth\n",
    "acc = np.zeros(max_d)\n",
    "\n",
    "for d in range(1,max_d+1,1):\n",
    "    t_ = DecisionTreeClassifier(max_depth = d, class_weight = 'balanced')\n",
    "    t_.fit(X_train, y_train)\n",
    "    acc[d-1] = t_.score(X_test,y_test)"
   ]
  },
  {
   "cell_type": "code",
   "execution_count": 18,
   "id": "30a35b29-15b8-47e0-9414-88218cebcf56",
   "metadata": {},
   "outputs": [
    {
     "data": {
      "image/png": "[encoded data removed]",
      "text/plain": [
       "<Figure size 432x288 with 1 Axes>"
      ]
     },
     "metadata": {
      "needs_background": "light"
     },
     "output_type": "display_data"
    }
   ],
   "source": [
    "plt.figure()\n",
    "plt.plot(acc)\n",
    "plt.xlabel('max_depth')\n",
    "plt.ylabel('Test Accuracy')\n",
    "plt.show()"
   ]
  },
  {
   "cell_type": "markdown",
   "id": "d3659f8c-7268-4b2e-83c3-df17558365c7",
   "metadata": {},
   "source": [
    "***"
   ]
  },
  {
   "cell_type": "markdown",
   "id": "71d489ac-1299-40e3-a12d-3ec41ec0e485",
   "metadata": {},
   "source": [
    "# Bootstrap and Bagging"
   ]
  },
  {
   "cell_type": "code",
   "execution_count": 19,
   "id": "f16765f3-8ea8-47da-a3a3-215d608cc40b",
   "metadata": {},
   "outputs": [],
   "source": [
    "import numpy as np\n",
    "import pandas as pd\n",
    "from sklearn.tree import DecisionTreeClassifier\n",
    "from sklearn.model_selection import train_test_split\n",
    "from sklearn.metrics import classification_report, confusion_matrix\n",
    "from scipy.stats import mode"
   ]
  },
  {
   "cell_type": "code",
   "execution_count": 20,
   "id": "7ae30638-3bcb-466f-8e41-371b74306347",
   "metadata": {},
   "outputs": [],
   "source": [
    "def bagged_trees(X_train, y_train, X_test, y_test, sample_size=None, n_trees=5, display=True):\n",
    "\n",
    "    if sample_size == None:\n",
    "        sample_size = X_train.shape[0]\n",
    "\n",
    "    tree_preds = np.zeros((X_test.shape[0], n_trees))\n",
    "\n",
    "    for i in range(n_trees):\n",
    "        \n",
    "        # randomly select samples from the training set with replacement\n",
    "        rows = np.random.choice(X_train.shape[0], sample_size, replace=True)\n",
    "        x_train_tree = X_train.iloc[rows, :]\n",
    "        y_train_tree = y_train.iloc[rows]\n",
    "\n",
    "        # use sklearn default settings (which gives us a large tree!)\n",
    "        clf = DecisionTreeClassifier()\n",
    "        clf.fit(x_train_tree, y_train_tree)\n",
    "\n",
    "        # evaluate current tree on test set and store the prediction\n",
    "        tree_preds[:, i] = clf.predict(X_test)\n",
    "\n",
    "    # take the mode of predictions from the trees (along the columns)\n",
    "    final_pred, _ = mode(tree_preds, axis=1)\n",
    "    final_pred = final_pred.squeeze()\n",
    "\n",
    "    # save the classification report into a dict\n",
    "    cr = classification_report(y_test, final_pred, output_dict = 1)\n",
    "\n",
    "    if display:\n",
    "        print(confusion_matrix(y_test, final_pred))\n",
    "        print(classification_report(y_test, final_pred))\n",
    "    \n",
    "    return final_pred, cr"
   ]
  },
  {
   "cell_type": "markdown",
   "id": "de869f5c-35fb-48e1-a38f-8cbea10282ce",
   "metadata": {},
   "source": [
    "## - Parameter: Bootstrap Sample Size"
   ]
  },
  {
   "cell_type": "code",
   "execution_count": 22,
   "id": "7757351f-3baa-47c7-b8fd-95713e4aa941",
   "metadata": {},
   "outputs": [],
   "source": [
    "import numpy as np\n",
    "import pandas as pd\n",
    "import matplotlib.pyplot as plt\n",
    "from sklearn.model_selection import train_test_split\n",
    "\n",
    "# # import defined bagged_trees from model.py module (the previous cell)\n",
    "# from model import bagged_trees"
   ]
  },
  {
   "cell_type": "code",
   "execution_count": 23,
   "id": "9b8e2f59-28e1-4294-8d57-25fd7ea384da",
   "metadata": {},
   "outputs": [],
   "source": [
    "# load dataset\n",
    "data = pd.read_csv('data/cancer_dataset_w9.csv')\n",
    "X = data.iloc[:, :-1]\n",
    "y = data['benign']\n",
    "\n",
    "np.random.seed(0)\n",
    "X_train, X_test, y_train, y_test = train_test_split(X, y, test_size=0.3)"
   ]
  },
  {
   "cell_type": "code",
   "execution_count": 24,
   "id": "d6394a76-3fe0-47b7-868f-cc0d2e62cb94",
   "metadata": {},
   "outputs": [],
   "source": [
    "# Proportion of dataset size ([0.1 0.325 0.55 0.775 1])\n",
    "ratios = np.linspace(0.1, 1, num=5, endpoint=True)\n",
    "\n",
    "# Number of repetitons and number of ratio to test\n",
    "repeats = 30\n",
    "\n",
    "# create a placeholder for all results\n",
    "all_results = np.zeros((len(ratios),repeats))"
   ]
  },
  {
   "cell_type": "code",
   "execution_count": 25,
   "id": "c2bb413f-8faa-4bab-912e-b0098a14e562",
   "metadata": {},
   "outputs": [],
   "source": [
    "for idx_ratio in range(len(ratios)):\n",
    "    r = ratios[idx_ratio]\n",
    "\n",
    "    # Convert proportion to sample size\n",
    "    N = int(r * X_train.shape[0])\n",
    "\n",
    "    for idx_rep in range(repeats):\n",
    "        # Build the model\n",
    "        _pred, _acc = bagged_trees(X_train, y_train, X_test, y_test, sample_size=N, display=0)\n",
    "        \n",
    "        # Record the accuracy\n",
    "        all_results[idx_ratio, idx_rep] = _acc.get('accuracy')"
   ]
  },
  {
   "cell_type": "code",
   "execution_count": 26,
   "id": "3f39a582-d8d4-41bd-94ff-61105a33c862",
   "metadata": {},
   "outputs": [],
   "source": [
    "mean_accuracy = np.mean(all_results, axis=1)\n",
    "std_accuracy = np.std(all_results, axis=1) # standard deviation used for plotting"
   ]
  },
  {
   "cell_type": "code",
   "execution_count": 27,
   "id": "1b44bdf1-a025-4902-861c-a9481ebc806f",
   "metadata": {},
   "outputs": [
    {
     "data": {
      "image/png": "[encoded data removed]",
      "text/plain": [
       "<Figure size 432x288 with 1 Axes>"
      ]
     },
     "metadata": {
      "needs_background": "light"
     },
     "output_type": "display_data"
    }
   ],
   "source": [
    "plt.figure()\n",
    "plt.plot(ratios, mean_accuracy)\n",
    "plt.fill_between(ratios, mean_accuracy + std_accuracy, mean_accuracy - std_accuracy, facecolor='lightblue')\n",
    "plt.xlabel('N ratio')\n",
    "plt.ylabel('Accuracy')\n",
    "plt.show()"
   ]
  },
  {
   "cell_type": "markdown",
   "id": "a9ee8aeb-28f1-46e1-9b1d-b584e1431433",
   "metadata": {},
   "source": [
    "## - Parameter: Ensemble Size"
   ]
  },
  {
   "cell_type": "code",
   "execution_count": 30,
   "id": "fc515be9-1c86-435d-b858-8e9e16836cbe",
   "metadata": {},
   "outputs": [],
   "source": [
    "import numpy as np\n",
    "import pandas as pd\n",
    "import matplotlib.pyplot as plt\n",
    "from sklearn.model_selection import train_test_split"
   ]
  },
  {
   "cell_type": "code",
   "execution_count": 31,
   "id": "40bd530b-0672-400a-8957-4e58e357e1e8",
   "metadata": {},
   "outputs": [],
   "source": [
    "# load dataset\n",
    "data = pd.read_csv('data/cancer_dataset_w9.csv')\n",
    "X = data.iloc[:, :-1]\n",
    "y = data['benign']\n",
    "\n",
    "np.random.seed(0)\n",
    "X_train, X_test, y_train, y_test = train_test_split(X, y, test_size=0.3)"
   ]
  },
  {
   "cell_type": "code",
   "execution_count": 32,
   "id": "9d9a56ba-612a-475f-9f88-26192db0f0fb",
   "metadata": {},
   "outputs": [],
   "source": [
    "# Number of times to repeat the experiment\n",
    "repeats = 30\n",
    "\n",
    "# Range of trees to check\n",
    "n_trees = np.arange(1, 11, 1)"
   ]
  },
  {
   "cell_type": "code",
   "execution_count": 33,
   "id": "b5c51469-33ee-4b1a-ba2c-ec7891a32846",
   "metadata": {},
   "outputs": [],
   "source": [
    "all_results = np.zeros((len(n_trees),repeats))\n",
    "for idx_trees in range(len(n_trees)):\n",
    "    # YOUR CODE HERE\n",
    "    n = n_trees[idx_trees]\n",
    "    for idx_rep in range(repeats):\n",
    "        _pred, _acc = bagged_trees(X_train, y_train, X_test, y_test, n_trees=n, display=False)\n",
    "\n",
    "        all_results[idx_trees, idx_rep] = _acc.get('accuracy')"
   ]
  },
  {
   "cell_type": "code",
   "execution_count": 34,
   "id": "08004cea-2d83-405b-b9c9-88fc3669b891",
   "metadata": {},
   "outputs": [],
   "source": [
    "mean_accuracy = np.mean(all_results, axis=1)\n",
    "std_accuracy = np.std(all_results, axis=1) # standard deviation used for plotting"
   ]
  },
  {
   "cell_type": "code",
   "execution_count": 35,
   "id": "f16fd040-1c3c-4cb3-9be7-22614f6a9dc0",
   "metadata": {},
   "outputs": [
    {
     "data": {
      "image/png": "[encoded data removed]",
      "text/plain": [
       "<Figure size 432x288 with 1 Axes>"
      ]
     },
     "metadata": {
      "needs_background": "light"
     },
     "output_type": "display_data"
    }
   ],
   "source": [
    "plt.figure()\n",
    "plt.plot(n_trees, mean_accuracy)\n",
    "plt.fill_between(n_trees, mean_accuracy + std_accuracy, mean_accuracy - std_accuracy, facecolor='lightblue')\n",
    "plt.xlabel('N trees')\n",
    "plt.ylabel('Accuracy')\n",
    "plt.savefig('plot.png')\n",
    "plt.show()"
   ]
  },
  {
   "cell_type": "markdown",
   "id": "e1a9fe01-1c15-485d-8e3d-907fd85e399c",
   "metadata": {
    "tags": []
   },
   "source": [
    "## Bagging Tree Size\n",
    "A bagged ensemble has a lower variance, in terms of bias-variance tradeoff, than a single decision tree. However the bias remains the same!\n",
    "\n",
    "Since there is no reduction in bias you need to use relatively complex trees. Typically bagging doesn't work well with decision stumps."
   ]
  },
  {
   "cell_type": "markdown",
   "id": "794c4470-f1f5-4797-9fdf-2150a270c8d5",
   "metadata": {},
   "source": [
    "***"
   ]
  },
  {
   "cell_type": "markdown",
   "id": "12e17fb0-28d5-44ed-9f0d-75d0a4d31209",
   "metadata": {},
   "source": [
    "# Random Forests"
   ]
  },
  {
   "cell_type": "code",
   "execution_count": 36,
   "id": "2fa31c61-959e-4e2e-9c43-f3453d22b011",
   "metadata": {},
   "outputs": [],
   "source": [
    "import numpy as np\n",
    "from scipy.stats import mode\n",
    "from sklearn.tree import DecisionTreeClassifier\n",
    "from sklearn.model_selection import train_test_split\n",
    "from sklearn.metrics import classification_report, confusion_matrix"
   ]
  },
  {
   "cell_type": "code",
   "execution_count": 37,
   "id": "3df5f152-162d-4153-a8dd-bfb08b44fa59",
   "metadata": {},
   "outputs": [],
   "source": [
    "def random_forest(X_train, y_train, X_test, y_test, \n",
    "                  sample_size=None, \n",
    "                  n_trees=5, \n",
    "                  p=None, \n",
    "                  display=True):\n",
    "\n",
    "    if sample_size == None:\n",
    "        sample_size = X_train.shape[0]\n",
    "\n",
    "    if p == None:\n",
    "        p = int(np.sqrt(X_train.shape[1]))\n",
    "\n",
    "    tree_preds = np.zeros((X_test.shape[0], n_trees))\n",
    "\n",
    "    for i in range(n_trees):\n",
    "\n",
    "        # randomly select samples from the training set\n",
    "        rows = np.random.choice(X_train.shape[0], sample_size)\n",
    "        x_train_tree = X_train.iloc[rows, :]\n",
    "        y_train_tree = y_train.iloc[rows]\n",
    "\n",
    "        # use p randomly selected features at each split\n",
    "        clf = DecisionTreeClassifier(max_features=p)\n",
    "        clf.fit(x_train_tree, y_train_tree)\n",
    "\n",
    "        # evaluate current tree on test set\n",
    "        tree_preds[:, i] = clf.predict(X_test)\n",
    "\n",
    "    # take the mode of predictions from the trees\n",
    "    final_pred, _ = mode(tree_preds, axis=1)\n",
    "    final_pred = final_pred.squeeze()\n",
    "\n",
    "    # save the classification report into a dict\n",
    "    cr = classification_report(y_test, final_pred, output_dict=1)\n",
    "\n",
    "    if display:\n",
    "        print(confusion_matrix(y_test, final_pred))\n",
    "        print(classification_report(y_test, final_pred))\n",
    "\n",
    "    return final_pred, cr"
   ]
  },
  {
   "cell_type": "markdown",
   "id": "176e7df6-8794-4cf2-afc5-d7c0e7f50ab5",
   "metadata": {},
   "source": [
    "## - Parameter: Number of Features"
   ]
  },
  {
   "cell_type": "code",
   "execution_count": 39,
   "id": "65cc9c44-a367-42b0-abc2-5c15acd1ae1b",
   "metadata": {},
   "outputs": [],
   "source": [
    "import numpy as np\n",
    "import pandas as pd\n",
    "import matplotlib.pyplot as plt\n",
    "from sklearn.model_selection import train_test_split"
   ]
  },
  {
   "cell_type": "code",
   "execution_count": 40,
   "id": "b2f8a7a8-aa65-46e4-8f6d-bb59e8bcfb23",
   "metadata": {},
   "outputs": [],
   "source": [
    "# load dataset\n",
    "data = pd.read_csv('data/cancer_dataset_w9.csv')\n",
    "X = data.iloc[:, :-1]\n",
    "y = data['benign']\n",
    "\n",
    "np.random.seed(0)\n",
    "X_train, X_test, y_train, y_test = train_test_split(X, y, test_size=0.3)"
   ]
  },
  {
   "cell_type": "code",
   "execution_count": 41,
   "id": "8d6ce984-df28-4607-af35-f53121f39df6",
   "metadata": {},
   "outputs": [],
   "source": [
    "# Number of times to repeat the experiment\n",
    "repeats = 100\n",
    "\n",
    "# Range of p to check\n",
    "p_vals = np.arange(1, X_train.shape[1] + 1, 1)\n",
    "\n",
    "all_results = np.zeros((len(p_vals),repeats))\n",
    "for idx_p in range(len(p_vals)):\n",
    "    p = p_vals[idx_p]\n",
    "    for idx_rep in range(repeats):\n",
    "        _pred, _acc = random_forest(X_train, y_train, X_test, y_test, n_trees=10, p=p, display=0)\n",
    "        all_results[idx_p, idx_rep] = _acc.get('accuracy')"
   ]
  },
  {
   "cell_type": "code",
   "execution_count": 42,
   "id": "972c0bc4-60fd-4ae2-a6dc-0fe4aa72d30e",
   "metadata": {},
   "outputs": [],
   "source": [
    "mean_accuracy = np.mean(all_results, axis=1)\n",
    "std_accuracy = np.std(all_results, axis=1) # standard deviation used for plotting"
   ]
  },
  {
   "cell_type": "code",
   "execution_count": 43,
   "id": "e6c75b5b-2824-4a5c-88e6-d8ae30386232",
   "metadata": {},
   "outputs": [
    {
     "data": {
      "image/png": "[encoded data removed]",
      "text/plain": [
       "<Figure size 432x288 with 1 Axes>"
      ]
     },
     "metadata": {
      "needs_background": "light"
     },
     "output_type": "display_data"
    }
   ],
   "source": [
    "plt.figure()\n",
    "plt.plot(p_vals, mean_accuracy)\n",
    "plt.fill_between(p_vals, mean_accuracy + std_accuracy, mean_accuracy - std_accuracy, facecolor='lightblue')\n",
    "plt.xlabel('p - number of features')\n",
    "plt.ylabel('Accuracy')\n",
    "plt.show()"
   ]
  },
  {
   "cell_type": "markdown",
   "id": "f45c3339-1f7c-42c9-8b35-5f07f15635d1",
   "metadata": {},
   "source": [
    "***"
   ]
  },
  {
   "cell_type": "markdown",
   "id": "12d8f624-16c8-49a1-83a0-2733ce41dec4",
   "metadata": {},
   "source": [
    "# Random forest with sklearn"
   ]
  },
  {
   "cell_type": "code",
   "execution_count": 50,
   "id": "9bd82624-73f7-418c-9d19-88f83bd71c73",
   "metadata": {},
   "outputs": [],
   "source": [
    "import numpy as np\n",
    "import pandas as pd\n",
    "import matplotlib.pyplot as plt\n",
    "\n",
    "from sklearn.ensemble import RandomForestClassifier\n",
    "from sklearn.model_selection import GridSearchCV, RepeatedKFold\n",
    "from sklearn.model_selection import train_test_split\n",
    "from sklearn.metrics import classification_report, confusion_matrix\n",
    "\n",
    "np.random.seed(0)"
   ]
  },
  {
   "cell_type": "code",
   "execution_count": 51,
   "id": "3c6084a7-36a0-433c-b80e-f4eaac18e940",
   "metadata": {},
   "outputs": [],
   "source": [
    "data = pd.read_csv('data/cancer_dataset_w9.csv')\n",
    "X = data.iloc[:, :-1]\n",
    "y = data['benign']\n",
    "\n",
    "X_train, X_test, y_train, y_test = train_test_split(X, y, test_size=0.3)"
   ]
  },
  {
   "cell_type": "code",
   "execution_count": 52,
   "id": "e7aa12e7-3235-4fb4-b22d-0397440baf3b",
   "metadata": {},
   "outputs": [
    {
     "data": {
      "text/plain": [
       "GridSearchCV(cv=RepeatedKFold(n_repeats=10, n_splits=5, random_state=0),\n",
       "             estimator=RandomForestClassifier(), n_jobs=-1,\n",
       "             param_grid={'max_features': array([1, 2, 3, 4, 5, 6, 7, 8]),\n",
       "                         'n_estimators': array([ 1,  2,  3,  4,  5,  6,  7,  8,  9, 10])})"
      ]
     },
     "execution_count": 52,
     "metadata": {},
     "output_type": "execute_result"
    }
   ],
   "source": [
    "# Specify the parameter combinations to check\n",
    "param_grid = {\n",
    "    'n_estimators': np.arange(1, 11, 1),\n",
    "    'max_features': np.arange(1, X_train.shape[1]+1, 1)\n",
    "}\n",
    "\n",
    "# We will use repeated k-fold cross validation\n",
    "folds = RepeatedKFold(random_state=0)\n",
    "\n",
    "# Create the grid search object\n",
    "grid_search = GridSearchCV(RandomForestClassifier(), param_grid=param_grid, cv=folds, n_jobs=-1)\n",
    "\n",
    "# Perform the grid search\n",
    "grid_search.fit(X_train, y_train)"
   ]
  },
  {
   "cell_type": "code",
   "execution_count": 53,
   "id": "fd820102-06a5-4c61-a0a1-2e86cb46185a",
   "metadata": {},
   "outputs": [],
   "source": [
    "best_rf = grid_search.best_estimator_"
   ]
  },
  {
   "cell_type": "code",
   "execution_count": 54,
   "id": "dd7f92c3-2149-4575-aad3-e353df66101e",
   "metadata": {},
   "outputs": [
    {
     "name": "stdout",
     "output_type": "stream",
     "text": [
      "[[62  1]\n",
      " [10 98]]\n",
      "              precision    recall  f1-score   support\n",
      "\n",
      "           0       0.86      0.98      0.92        63\n",
      "           1       0.99      0.91      0.95       108\n",
      "\n",
      "    accuracy                           0.94       171\n",
      "   macro avg       0.93      0.95      0.93       171\n",
      "weighted avg       0.94      0.94      0.94       171\n",
      "\n"
     ]
    }
   ],
   "source": [
    "y_pred = best_rf.predict(X_test)\n",
    "\n",
    "print(confusion_matrix(y_test,y_pred))\n",
    "print(classification_report(y_test,y_pred))"
   ]
  },
  {
   "cell_type": "code",
   "execution_count": 55,
   "id": "7d7f1115-9150-4830-938d-d79020a3b779",
   "metadata": {},
   "outputs": [
    {
     "data": {
      "image/png": "[encoded data removed]",
      "text/plain": [
       "<Figure size 432x288 with 1 Axes>"
      ]
     },
     "metadata": {
      "needs_background": "light"
     },
     "output_type": "display_data"
    }
   ],
   "source": [
    "f_importance = pd.Series(best_rf.feature_importances_, index = X.columns).sort_values(ascending = False)\n",
    "\n",
    "plt.figure()\n",
    "plt.bar(f_importance.index,f_importance)\n",
    "plt.xticks(rotation = 30, ha='right')\n",
    "plt.show()"
   ]
  }
 ],
 "metadata": {
  "kernelspec": {
   "display_name": "Python 3 (ipykernel)",
   "language": "python",
   "name": "python3"
  },
  "language_info": {
   "codemirror_mode": {
    "name": "ipython",
    "version": 3
   },
   "file_extension": ".py",
   "mimetype": "text/x-python",
   "name": "python",
   "nbconvert_exporter": "python",
   "pygments_lexer": "ipython3",
   "version": "3.9.12"
  }
 },
 "nbformat": 4,
 "nbformat_minor": 5
}
