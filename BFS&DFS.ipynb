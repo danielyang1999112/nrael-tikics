{
 "cells": [
  {
   "cell_type": "code",
   "execution_count": 3,
   "id": "a696c99c-3143-4e32-8821-a1fc305482c2",
   "metadata": {},
   "outputs": [],
   "source": [
    "# https://www.youtube.com/watch?v=bD8RT0ub--0"
   ]
  },
  {
   "cell_type": "markdown",
   "id": "035b55a4-f824-4708-aa47-7254072f20df",
   "metadata": {},
   "source": [
    "<img src='materials/graph_example.png' width='400' height='300'>"
   ]
  },
  {
   "cell_type": "code",
   "execution_count": 4,
   "id": "4bf6e4b3-9ab9-42ea-b229-9447aaed6d89",
   "metadata": {},
   "outputs": [],
   "source": [
    "graph = {\n",
    "    'A': ['B', 'C'],\n",
    "    'B': ['A', 'C', 'D'],\n",
    "    'C': ['A', 'B', 'D', 'E'],\n",
    "    'D': ['B', 'C', 'E', 'F'],\n",
    "    'E': ['C', 'D'],\n",
    "    'F': ['D']\n",
    "}"
   ]
  },
  {
   "cell_type": "code",
   "execution_count": 5,
   "id": "889901ee-e8d9-481d-8cc4-0934b2db6098",
   "metadata": {},
   "outputs": [
    {
     "data": {
      "text/plain": [
       "dict_keys(['A', 'B', 'C', 'D', 'E', 'F'])"
      ]
     },
     "execution_count": 5,
     "metadata": {},
     "output_type": "execute_result"
    }
   ],
   "source": [
    "graph.keys()"
   ]
  },
  {
   "cell_type": "code",
   "execution_count": 6,
   "id": "4f3fecbd-e246-4d64-bb4f-e71400139c0e",
   "metadata": {},
   "outputs": [
    {
     "name": "stdout",
     "output_type": "stream",
     "text": [
      "[3, 5, 7]\n",
      "[3, 5]\n",
      "[3]\n"
     ]
    }
   ],
   "source": [
    "test = [1, 3, 5, 7]\n",
    "\n",
    "test.pop(0)\n",
    "print(test)\n",
    "\n",
    "test.pop(-1)\n",
    "print(test)\n",
    "\n",
    "test.pop()\n",
    "print(test)"
   ]
  },
  {
   "cell_type": "markdown",
   "id": "41f63c2a-72f9-4506-be06-4ace883a1e56",
   "metadata": {},
   "source": [
    "***"
   ]
  },
  {
   "cell_type": "markdown",
   "id": "1ea6acaf-8f1f-45af-85a7-47f623048852",
   "metadata": {},
   "source": [
    "# BFS (Breadth First Search)"
   ]
  },
  {
   "cell_type": "code",
   "execution_count": 7,
   "id": "066189b3-562d-407c-bf29-19ed72450ff4",
   "metadata": {},
   "outputs": [],
   "source": [
    "def BFS(graph, s):\n",
    "    # We need a Queue (FIFO) for BFS\n",
    "    queue = []\n",
    "    queue.append(s)\n",
    "    seen = set()\n",
    "    seen.add(s)\n",
    "    \n",
    "    while len(queue) > 0:\n",
    "        vertex = queue.pop(0)\n",
    "        nodes = graph[vertex]\n",
    "        for w in nodes:\n",
    "            if w not in seen:\n",
    "                queue.append(w)\n",
    "                seen.add(w)\n",
    "        print(vertex)"
   ]
  },
  {
   "cell_type": "code",
   "execution_count": 8,
   "id": "53675d93-5229-463e-99fb-0773e212b58c",
   "metadata": {},
   "outputs": [
    {
     "name": "stdout",
     "output_type": "stream",
     "text": [
      "A\n",
      "B\n",
      "C\n",
      "D\n",
      "E\n",
      "F\n"
     ]
    }
   ],
   "source": [
    "BFS(graph, 'A')"
   ]
  },
  {
   "cell_type": "code",
   "execution_count": 9,
   "id": "fc2dc108-c959-4ec6-ab6a-09ea6d8327fa",
   "metadata": {},
   "outputs": [
    {
     "name": "stdout",
     "output_type": "stream",
     "text": [
      "E\n",
      "C\n",
      "D\n",
      "A\n",
      "B\n",
      "F\n"
     ]
    }
   ],
   "source": [
    "BFS(graph, 'E')"
   ]
  },
  {
   "cell_type": "markdown",
   "id": "c21db95b-46e9-4151-9d32-86a60b8a8466",
   "metadata": {},
   "source": [
    "***"
   ]
  },
  {
   "cell_type": "markdown",
   "id": "73ae822d-3f8a-4e6c-98e3-a92d150cd27f",
   "metadata": {},
   "source": [
    "# DFS (Depth First Search)"
   ]
  },
  {
   "cell_type": "code",
   "execution_count": 10,
   "id": "6e6131d4-b614-49eb-97af-3eec13d03153",
   "metadata": {},
   "outputs": [],
   "source": [
    "def DFS(graph, s):\n",
    "    # We need a Stack (LIFO) for BFS\n",
    "    stack = []\n",
    "    stack.append(s)\n",
    "    seen = set()\n",
    "    seen.add(s)\n",
    "    \n",
    "    while len(stack) > 0:\n",
    "        vertex = stack.pop() # -1 by default\n",
    "        nodes = graph[vertex]\n",
    "        for w in nodes:\n",
    "            if w not in seen:\n",
    "                stack.append(w)\n",
    "                seen.add(w)\n",
    "        print(vertex)"
   ]
  },
  {
   "cell_type": "code",
   "execution_count": 11,
   "id": "608f63b3-3313-4c56-a445-60384a22bbbe",
   "metadata": {},
   "outputs": [
    {
     "name": "stdout",
     "output_type": "stream",
     "text": [
      "A\n",
      "C\n",
      "E\n",
      "D\n",
      "F\n",
      "B\n"
     ]
    }
   ],
   "source": [
    "DFS(graph, 'A')"
   ]
  },
  {
   "cell_type": "markdown",
   "id": "5885fdee-bcdd-4087-89d4-691a59b89710",
   "metadata": {},
   "source": [
    "***"
   ]
  },
  {
   "cell_type": "markdown",
   "id": "99e36fdc-bd20-499a-8c69-d950344a5cc7",
   "metadata": {},
   "source": [
    "# Finding Shortest Paths using BFS"
   ]
  },
  {
   "cell_type": "markdown",
   "id": "e287d1ec-794f-486e-8634-39577bb399d6",
   "metadata": {},
   "source": [
    "<img src='materials/graph_example_parent.png' width='400' height='300'>"
   ]
  },
  {
   "cell_type": "code",
   "execution_count": 20,
   "id": "864ea4ef-54c3-42a3-bdb0-3ffa8be590dc",
   "metadata": {},
   "outputs": [],
   "source": [
    "def BFS_path(graph, s):\n",
    "    # We need a Queue (FIFO) for BFS\n",
    "    queue = []\n",
    "    queue.append(s)\n",
    "    seen = set()\n",
    "    seen.add(s)\n",
    "    parent = {s: None}\n",
    "    \n",
    "    while len(queue) > 0:\n",
    "        vertex = queue.pop(0)\n",
    "        nodes = graph[vertex]\n",
    "        for w in nodes:\n",
    "            if w not in seen:\n",
    "                queue.append(w)\n",
    "                seen.add(w)\n",
    "                parent[w] = vertex\n",
    "        # print(vertex)\n",
    "    return parent"
   ]
  },
  {
   "cell_type": "code",
   "execution_count": 21,
   "id": "d907a042-675b-46f4-b9ea-2418257aecd1",
   "metadata": {},
   "outputs": [
    {
     "name": "stdout",
     "output_type": "stream",
     "text": [
      "E None\n",
      "C E\n",
      "D E\n",
      "A C\n",
      "B C\n",
      "F D\n"
     ]
    }
   ],
   "source": [
    "parent = BFS_path(graph, 'E')\n",
    "for k, v in parent.items():\n",
    "    print(k, v)"
   ]
  },
  {
   "cell_type": "code",
   "execution_count": 22,
   "id": "576f88f2-3487-46ff-9604-eaaef8f0ba2d",
   "metadata": {},
   "outputs": [
    {
     "name": "stdout",
     "output_type": "stream",
     "text": [
      "B\n",
      "C\n",
      "E\n"
     ]
    }
   ],
   "source": [
    "# End -> Start\n",
    "end = 'B'\n",
    "while end != None:\n",
    "    print(end)\n",
    "    end = parent[end]"
   ]
  }
 ],
 "metadata": {
  "kernelspec": {
   "display_name": "Python 3 (ipykernel)",
   "language": "python",
   "name": "python3"
  },
  "language_info": {
   "codemirror_mode": {
    "name": "ipython",
    "version": 3
   },
   "file_extension": ".py",
   "mimetype": "text/x-python",
   "name": "python",
   "nbconvert_exporter": "python",
   "pygments_lexer": "ipython3",
   "version": "3.9.12"
  }
 },
 "nbformat": 4,
 "nbformat_minor": 5
}
