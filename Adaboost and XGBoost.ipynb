{
 "cells": [
  {
   "cell_type": "markdown",
   "id": "2c71b7d8-fff3-4510-aef2-35e37c6b4cb0",
   "metadata": {
    "tags": []
   },
   "source": [
    "# Adaboost"
   ]
  },
  {
   "cell_type": "code",
   "execution_count": 1,
   "id": "7062411e-1822-4d67-90c6-55d86928c13e",
   "metadata": {},
   "outputs": [],
   "source": [
    "from sklearn.tree import DecisionTreeClassifier\n",
    "from sklearn.metrics import accuracy_score\n",
    "import numpy as np"
   ]
  },
  {
   "cell_type": "code",
   "execution_count": 2,
   "id": "db48f6bc-fe19-4d4f-b8de-9b5292e2b075",
   "metadata": {},
   "outputs": [],
   "source": [
    "class MyAdaboost():\n",
    "    def __init__(self, n_estimators=10, random_state=None):\n",
    "        self.n_estimators = n_estimators\n",
    "        self.random_state = random_state\n",
    "    \n",
    "    def fit(self, X, y):\n",
    "        if self.random_state is not None:\n",
    "            np.random.seed(self.random_state)\n",
    "        \n",
    "        # Initialise weights to be equal\n",
    "        N = X.shape[0]\n",
    "        data_weights = np.ones(N)\n",
    "        \n",
    "        self.alpha_list = []\n",
    "        self.final_tree_list = []\n",
    "        \n",
    "        # Main training loop\n",
    "        for i in range(self.n_estimators):\n",
    "\n",
    "            # Calculate and store the lowest error rate of DTs\n",
    "            tree = DecisionTreeClassifier(max_depth=2).fit(X, y, sample_weight=data_weights)\n",
    "\n",
    "            tree_preds = tree.predict(X)\n",
    "            tree_error = 1 - accuracy_score(y, tree_preds, sample_weight=data_weights)\n",
    "            \n",
    "            # Calculate the voting power \n",
    "            alpha = 0.5 * np.log((1-tree_error)/tree_error)\n",
    "            \n",
    "            # Add alpha and decision tree model to lists\n",
    "            self.alpha_list.append(alpha)\n",
    "            self.final_tree_list.append(tree)\n",
    "            \n",
    "            # Update weights for next iteration\n",
    "            correct_weight = 1/(2*(1 - tree_error)) * data_weights \n",
    "            incorrect_weight = 1/(2 * tree_error) * data_weights\n",
    "            data_weights = np.where(tree_preds == y, correct_weight, incorrect_weight)\n",
    "    \n",
    "        return self\n",
    "        \n",
    "    def predict(self, X):\n",
    "        \n",
    "        # Iterate over all trees in ensemble\n",
    "        preds_list = []\n",
    "        for i in range(len(self.final_tree_list)):\n",
    "            tree_pred_i = (self.final_tree_list[i].predict(X) - 0.5) * 2 # normalize to range [-1,1]\n",
    "            weighted_tree_pred_i = self.alpha_list[i] * tree_pred_i\n",
    "            preds_list.append(weighted_tree_pred_i)\n",
    "        \n",
    "        # Sum predictions\n",
    "        final_pred = np.sum(preds_list, axis=0)\n",
    "\n",
    "        # Get the sign of the sum and convert to prediction 0 or 1\n",
    "        return np.sign(final_pred).clip(min=0)"
   ]
  },
  {
   "cell_type": "markdown",
   "id": "1621bdc2-f036-4ea4-a913-ded759ae496b",
   "metadata": {},
   "source": [
    "## - Parameter: Ensemble Size"
   ]
  },
  {
   "cell_type": "code",
   "execution_count": 3,
   "id": "f5f3799a-1abf-4359-8a16-ab5732d3957d",
   "metadata": {},
   "outputs": [],
   "source": [
    "import numpy as np\n",
    "import matplotlib.pyplot as plt\n",
    "from sklearn.datasets import make_classification\n",
    "from sklearn.metrics import accuracy_score\n",
    "\n",
    "np.random.seed(0)"
   ]
  },
  {
   "cell_type": "code",
   "execution_count": 4,
   "id": "dd15576b-3062-4381-a354-8befd40fdcb8",
   "metadata": {},
   "outputs": [],
   "source": [
    "# Generate some synthetic data\n",
    "X, y = make_classification(n_samples=1000, n_features=30, n_informative=15)\n",
    "\n",
    "b = np.arange(1, 11)\n",
    "accuracy_list = []\n",
    "\n",
    "repeats = 5\n",
    "all_results = np.zeros((len(b),repeats))\n",
    "for idx_b in range(len(b)):\n",
    "    n_estimators = b[idx_b]\n",
    "    for idx_rep in range(repeats):\n",
    "        model = MyAdaboost(n_estimators=n_estimators)\n",
    "        model.fit(X,y)\n",
    "        all_results[idx_b, idx_rep] = accuracy_score(y, model.predict(X))"
   ]
  },
  {
   "cell_type": "code",
   "execution_count": 5,
   "id": "a12bae91-52d5-4386-85d2-2adaaa683344",
   "metadata": {},
   "outputs": [],
   "source": [
    "mean_accuracy = np.mean(all_results, axis=1)\n",
    "std_accuracy = np.std(all_results, axis=1)"
   ]
  },
  {
   "cell_type": "code",
   "execution_count": 6,
   "id": "01098590-15a5-4297-9523-ff98f3686336",
   "metadata": {},
   "outputs": [
    {
     "data": {
      "image/png": "[encoded data removed]",
      "text/plain": [
       "<Figure size 432x288 with 1 Axes>"
      ]
     },
     "metadata": {
      "needs_background": "light"
     },
     "output_type": "display_data"
    }
   ],
   "source": [
    "plt.figure()\n",
    "plt.plot(b, mean_accuracy)\n",
    "plt.fill_between(b, mean_accuracy + std_accuracy, mean_accuracy - std_accuracy, facecolor='lightblue')\n",
    "\n",
    "plt.ylabel('Accuracy')\n",
    "plt.xlabel('B - Number of Weak Learners')\n",
    "plt.savefig('plot.png')"
   ]
  },
  {
   "cell_type": "markdown",
   "id": "069d4bd5-924d-4b73-807c-c7cd60618941",
   "metadata": {},
   "source": [
    "## - Does Adaboost overfit?"
   ]
  },
  {
   "cell_type": "code",
   "execution_count": 7,
   "id": "33f8b07d-d7f0-4d5b-88d3-a8e842381c5f",
   "metadata": {},
   "outputs": [],
   "source": [
    "import numpy as np\n",
    "import matplotlib.pyplot as plt\n",
    "from sklearn.datasets import make_classification\n",
    "from sklearn.metrics import accuracy_score\n",
    "from sklearn.model_selection import train_test_split\n",
    "\n",
    "np.random.seed(0)"
   ]
  },
  {
   "cell_type": "code",
   "execution_count": 8,
   "id": "53d01f1a-82ae-4b00-90dc-ff9e03b02977",
   "metadata": {},
   "outputs": [],
   "source": [
    "# Generate some synthetic data\n",
    "X, y = make_classification(n_samples=1000, n_features=30, n_informative=15)\n",
    "\n",
    "b = np.arange(1, 40)\n",
    "\n",
    "repeats = 5\n",
    "\n",
    "train_accuracy_all = np.zeros((len(b), repeats))\n",
    "valid_accuracy_all = np.zeros((len(b), repeats))\n",
    "\n",
    "for idx_b in range(len(b)):\n",
    "    n_estimators = b[idx_b]\n",
    "\n",
    "    for idx_rep in range(repeats):\n",
    "\n",
    "        X_train, X_test, y_train, y_test = train_test_split(X, y, test_size=0.3)\n",
    "\n",
    "        model = MyAdaboost(n_estimators=n_estimators)\n",
    "        model.fit(X_train,y_train)\n",
    "\n",
    "        train_acc = accuracy_score(y_train, model.predict(X_train))\n",
    "        train_accuracy_all[idx_b, idx_rep] = train_acc\n",
    "\n",
    "        valid_acc = accuracy_score(y_test, model.predict(X_test))\n",
    "        valid_accuracy_all[idx_b, idx_rep] = valid_acc"
   ]
  },
  {
   "cell_type": "code",
   "execution_count": 9,
   "id": "190ef666-6deb-4e1b-8452-78ea6178f692",
   "metadata": {},
   "outputs": [],
   "source": [
    "mean_train_accuracy = np.mean(train_accuracy_all, axis=1)\n",
    "std_train_accuracy = np.std(train_accuracy_all, axis=1)\n",
    "\n",
    "mean_valid_accuracy = np.mean(valid_accuracy_all, axis=1)\n",
    "std_valid_accuracy = np.std(valid_accuracy_all, axis=1)"
   ]
  },
  {
   "cell_type": "code",
   "execution_count": 10,
   "id": "7a2ca05c-1a57-49d9-9c56-af3e90307996",
   "metadata": {},
   "outputs": [
    {
     "data": {
      "image/png": "[encoded data removed]",
      "text/plain": [
       "<Figure size 432x288 with 1 Axes>"
      ]
     },
     "metadata": {
      "needs_background": "light"
     },
     "output_type": "display_data"
    }
   ],
   "source": [
    "plt.plot(b, mean_train_accuracy, label='Training')\n",
    "plt.fill_between(b, mean_train_accuracy + std_train_accuracy, mean_train_accuracy - std_train_accuracy, facecolor='lightblue')\n",
    "\n",
    "plt.plot(b, mean_valid_accuracy, label='Validation')\n",
    "plt.fill_between(b, mean_valid_accuracy + std_valid_accuracy, mean_valid_accuracy - std_valid_accuracy, facecolor='bisque')\n",
    "\n",
    "plt.legend()\n",
    "plt.ylabel('Accuracy')\n",
    "plt.xlabel('B - Number of Weak Learners')\n",
    "plt.show()"
   ]
  },
  {
   "cell_type": "markdown",
   "id": "200fd159-c883-4d82-800d-64587b65d8f9",
   "metadata": {},
   "source": [
    "***"
   ]
  },
  {
   "cell_type": "markdown",
   "id": "8d51c97f-be18-4034-bc9e-15af8c18811b",
   "metadata": {
    "tags": []
   },
   "source": [
    "# Gradient Boosting"
   ]
  },
  {
   "cell_type": "markdown",
   "id": "f82940ff-ee34-4928-9136-ceafa98dbdf7",
   "metadata": {},
   "source": [
    "## - Regression"
   ]
  },
  {
   "cell_type": "code",
   "execution_count": 14,
   "id": "e38dbe5f-fea4-4475-b76c-6665eb5aaeb5",
   "metadata": {},
   "outputs": [],
   "source": [
    "import numpy as np\n",
    "import pandas as pd\n",
    "from sklearn.tree import DecisionTreeRegressor"
   ]
  },
  {
   "cell_type": "code",
   "execution_count": 15,
   "id": "c6099f76-5674-4448-a593-6568361a6a78",
   "metadata": {},
   "outputs": [],
   "source": [
    "class GradientBoostRegressor:\n",
    "    \n",
    "    def __init__(self, n_estimators, random_state):\n",
    "        self.n_estimators = n_estimators\n",
    "        self.random_state = random_state\n",
    "\n",
    "    def fit(self, X, y):\n",
    "\n",
    "        if self.random_state is not None:\n",
    "            np.random.seed(self.random_state)\n",
    "\n",
    "        self.alpha = 1\n",
    "        self.trees = []\n",
    "\n",
    "        # use the mean as F_0\n",
    "        self.mean = np.mean(y, axis=0)\n",
    "        y_pred = np.full(np.shape(y), self.mean)\n",
    "        \n",
    "        for i in range(self.n_estimators):\n",
    "            g = -y + y_pred\n",
    "            tree = DecisionTreeRegressor(max_depth=1).fit(X, g)\n",
    "            res = tree.predict(X).reshape(-1, 1)\n",
    "            y_pred = y_pred - self.alpha * res\n",
    "            self.trees.append(tree)\n",
    "\n",
    "    def predict(self, X):\n",
    "        pred = np.full((np.shape(X)[0], 1), self.mean)\n",
    "        for tree in self.trees:\n",
    "            res = tree.predict(X).reshape(-1, 1)\n",
    "            pred = pred - self.alpha * res\n",
    "        return pred"
   ]
  },
  {
   "cell_type": "code",
   "execution_count": 16,
   "id": "40ba4feb-213f-4d55-bb83-465db206ac00",
   "metadata": {},
   "outputs": [
    {
     "name": "stdout",
     "output_type": "stream",
     "text": [
      "[[15.8491 15.3671 15.3671 17.0906 16.9769]]\n",
      "[[16.  15.2 15.  17.4 17.4]]\n"
     ]
    }
   ],
   "source": [
    "# Lets test our implementation!\n",
    "car_prices = pd.read_csv('data/car_price_w10.csv')\n",
    "\n",
    "X = car_prices['Odometer'].values.reshape(-1, 1)\n",
    "y = car_prices['Price'].values.reshape(-1, 1)\n",
    "\n",
    "gbmodel = GradientBoostRegressor(n_estimators=20, random_state=0)\n",
    "gbmodel.fit(X, y)\n",
    "\n",
    "print(gbmodel.predict(X)[:5].T.round(4))\n",
    "print(y[:5].T)"
   ]
  },
  {
   "cell_type": "markdown",
   "id": "ac137f31-f3dc-45d4-ad5f-c35a999fd3a7",
   "metadata": {},
   "source": [
    "## - Classification"
   ]
  },
  {
   "cell_type": "code",
   "execution_count": 19,
   "id": "97496c4b-af73-40d0-890d-011a7c2f2088",
   "metadata": {},
   "outputs": [],
   "source": [
    "import numpy as np\n",
    "import pandas as pd\n",
    "from random import shuffle\n",
    "from sklearn import datasets\n",
    "from sklearn.tree import DecisionTreeRegressor"
   ]
  },
  {
   "cell_type": "code",
   "execution_count": 20,
   "id": "c595adf7-2757-4130-b9f6-58186446255c",
   "metadata": {},
   "outputs": [],
   "source": [
    "# Iris dataset\n",
    "iris = datasets.load_iris()\n",
    "data = iris.data\n",
    "target = iris.target"
   ]
  },
  {
   "cell_type": "code",
   "execution_count": 21,
   "id": "79772888-06de-428b-bfeb-508776402370",
   "metadata": {},
   "outputs": [],
   "source": [
    "# randomly select 12 samples to train on \n",
    "np.random.seed(0)\n",
    "\n",
    "n = 12\n",
    "randidx = np.random.randint(0, len(target), n) # n randomly generated integers in from 0 to len(data)\n",
    "X = data[randidx, :]\n",
    "y = target[randidx]"
   ]
  },
  {
   "cell_type": "code",
   "execution_count": 22,
   "id": "d3c580a8-e4e3-4a00-ab00-46f6744dd905",
   "metadata": {},
   "outputs": [
    {
     "data": {
      "text/plain": [
       "array([[1, 0, 0],\n",
       "       [0, 0, 1],\n",
       "       [0, 1, 0],\n",
       "       [0, 0, 1],\n",
       "       [1, 0, 0],\n",
       "       [1, 0, 0],\n",
       "       [1, 0, 0],\n",
       "       [0, 1, 0],\n",
       "       [0, 1, 0],\n",
       "       [0, 1, 0],\n",
       "       [0, 0, 1],\n",
       "       [0, 1, 0]], dtype=uint8)"
      ]
     },
     "execution_count": 22,
     "metadata": {},
     "output_type": "execute_result"
    }
   ],
   "source": [
    "# why we get_dummies of the target?\n",
    "y = pd.get_dummies(y)\n",
    "y = y.values\n",
    "y"
   ]
  },
  {
   "cell_type": "code",
   "execution_count": 43,
   "id": "aa1c6434-84a6-40f8-983c-020f24520574",
   "metadata": {},
   "outputs": [],
   "source": [
    "# Softmax function\n",
    "def FtoP(F):\n",
    "    expF = np.exp(F)\n",
    "    a = expF.sum(axis=1)\n",
    "    P = expF / a[:,None]\n",
    "    return P"
   ]
  },
  {
   "cell_type": "markdown",
   "id": "f89581a1-d460-4df8-8003-8475fa7c392d",
   "metadata": {},
   "source": [
    "***"
   ]
  },
  {
   "cell_type": "markdown",
   "id": "b570b3f5-ca99-4aa9-9c05-f268670b6617",
   "metadata": {},
   "source": [
    "***"
   ]
  },
  {
   "cell_type": "code",
   "execution_count": 44,
   "id": "55fb8d37-df08-443f-9ff1-6e2337c23c96",
   "metadata": {},
   "outputs": [
    {
     "data": {
      "text/plain": [
       "array([[0.09003057, 0.24472847, 0.66524096]])"
      ]
     },
     "execution_count": 44,
     "metadata": {},
     "output_type": "execute_result"
    }
   ],
   "source": [
    "F = np.zeros((n,3))\n",
    "P = FtoP(F)\n",
    "FtoP(np.array([[1, 2, 3]]))"
   ]
  },
  {
   "cell_type": "code",
   "execution_count": 45,
   "id": "2d5df470-4950-4c31-9167-a1c4d896b9a6",
   "metadata": {},
   "outputs": [
    {
     "data": {
      "text/plain": [
       "array([[1648.47511102],\n",
       "       [  30.19287485]])"
      ]
     },
     "execution_count": 45,
     "metadata": {},
     "output_type": "execute_result"
    }
   ],
   "source": [
    "test = np.exp(np.array([[5, 6, 7], [1, 2, 3]])).sum(axis=1)\n",
    "test[:, None]"
   ]
  },
  {
   "cell_type": "code",
   "execution_count": 46,
   "id": "2a91d6b1-095c-4242-bab2-a37f5ee3eced",
   "metadata": {},
   "outputs": [
    {
     "data": {
      "text/plain": [
       "array([[1648.47511102],\n",
       "       [  30.19287485]])"
      ]
     },
     "execution_count": 46,
     "metadata": {},
     "output_type": "execute_result"
    }
   ],
   "source": [
    "test = np.exp(np.array([[5, 6, 7], [1, 2, 3]])).sum(axis=1)\n",
    "test.reshape(-1, 1)"
   ]
  },
  {
   "cell_type": "markdown",
   "id": "1c78a621-7e49-4728-82c1-090518d6a1a8",
   "metadata": {},
   "source": [
    "***"
   ]
  },
  {
   "cell_type": "markdown",
   "id": "ed3c603b-9995-48ae-a543-d3970e5f26f1",
   "metadata": {},
   "source": [
    "***"
   ]
  },
  {
   "cell_type": "code",
   "execution_count": 47,
   "id": "f329230e-0866-47dc-80ac-732eec0a8168",
   "metadata": {},
   "outputs": [],
   "source": [
    "# set the number of iterations T = 3, i.e. number of estimators \n",
    "T = 3\n",
    "\n",
    "# set the learning rate rho (for simplicity, we set it to 1)\n",
    "rho = 1\n",
    "\n",
    "# initalization\n",
    "F = np.zeros((n,3))\n",
    "P = FtoP(F)"
   ]
  },
  {
   "cell_type": "code",
   "execution_count": 48,
   "id": "ae27b1cb-2912-425b-a763-286790c79321",
   "metadata": {},
   "outputs": [],
   "source": [
    "# model placeholders for each class\n",
    "baseH0 = []\n",
    "baseH1 = []\n",
    "baseH2 = []\n",
    "\n",
    "for iteration in range(T):\n",
    "    # update the negative gradient based on current P\n",
    "    NegG = y - P\n",
    "    \n",
    "    # fit a decision tree for class 0\n",
    "    tree = DecisionTreeRegressor(max_depth=1)\n",
    "    h0 = tree.fit(X, NegG[:, 0])\n",
    "    baseH0.append(h0)\n",
    "\n",
    "    # fit a decision tree for class 1\n",
    "    tree = DecisionTreeRegressor(max_depth=1)\n",
    "    h1 = tree.fit(X, NegG[:, 1])\n",
    "    baseH1.append(h1)\n",
    "    \n",
    "    # fit a decision tree for class 2\n",
    "    tree = DecisionTreeRegressor(max_depth=1)\n",
    "    h2 = tree.fit(X, NegG[:, 2])\n",
    "    baseH2.append(h2)\n",
    "    \n",
    "    # update model prediction F by adding this model\n",
    "    F[:, 0] = F[:, 0] + rho * h0.predict(X)\n",
    "    F[:, 1] = F[:, 1] + rho * h1.predict(X)\n",
    "    F[:, 2] = F[:, 2] + rho * h2.predict(X)\n",
    "    \n",
    "    # calculate the probability prediction P based on F\n",
    "    P = FtoP(F)"
   ]
  },
  {
   "cell_type": "code",
   "execution_count": 49,
   "id": "d6d12f62-58dd-4e3a-8fdd-c3156303b95c",
   "metadata": {},
   "outputs": [
    {
     "data": {
      "text/plain": [
       "array([0, 2, 1, 2])"
      ]
     },
     "execution_count": 49,
     "metadata": {},
     "output_type": "execute_result"
    }
   ],
   "source": [
    "# randomly extract 4 samples as test data\n",
    "np.random.seed(1)\n",
    "randidx = np.random.randint(0, len(target), 4) \n",
    "X_test = data[randidx, :]\n",
    "y_test = target[randidx]\n",
    "y_test"
   ]
  },
  {
   "cell_type": "code",
   "execution_count": 50,
   "id": "ef89058a-59a2-4c11-8eb6-fa5a18777761",
   "metadata": {},
   "outputs": [
    {
     "data": {
      "text/plain": [
       "array([[ 1.39585062, -0.27402579, -0.7350372 ],\n",
       "       [-0.73095553, -0.24012821,  1.51563604],\n",
       "       [-0.73095553,  0.82983126, -0.7350372 ],\n",
       "       [-0.73095553, -0.24012821,  1.51563604]])"
      ]
     },
     "execution_count": 50,
     "metadata": {},
     "output_type": "execute_result"
    }
   ],
   "source": [
    "# start F with zero\n",
    "F0 = 0.0\n",
    "F1 = 0.0\n",
    "F2 = 0.0\n",
    "\n",
    "for iteration in range(T):\n",
    "    F0 = F0 + baseH0[iteration].predict(X_test)\n",
    "    F1 = F1 + baseH1[iteration].predict(X_test)\n",
    "    F2 = F2 + baseH2[iteration].predict(X_test)\n",
    "\n",
    "F = np.vstack((F0,F1,F2))\n",
    "F = F.T\n",
    "F"
   ]
  },
  {
   "cell_type": "code",
   "execution_count": 51,
   "id": "5164fe1e-efca-4ce8-b138-069102ecc05e",
   "metadata": {},
   "outputs": [
    {
     "data": {
      "text/plain": [
       "array([[0.76510967, 0.14404745, 0.09084287],\n",
       "       [0.08271901, 0.13513533, 0.78214566],\n",
       "       [0.14796197, 0.70467877, 0.14735926],\n",
       "       [0.08271901, 0.13513533, 0.78214566]])"
      ]
     },
     "execution_count": 51,
     "metadata": {},
     "output_type": "execute_result"
    }
   ],
   "source": [
    "# get predicted probabilities\n",
    "P = FtoP(F)\n",
    "P"
   ]
  },
  {
   "cell_type": "code",
   "execution_count": 52,
   "id": "bcc1a693-1459-428f-a3af-05f1ab7e4f58",
   "metadata": {},
   "outputs": [
    {
     "data": {
      "text/plain": [
       "array([0, 2, 1, 2], dtype=int64)"
      ]
     },
     "execution_count": 52,
     "metadata": {},
     "output_type": "execute_result"
    }
   ],
   "source": [
    "# prediction\n",
    "y_pred = np.argmax(P, axis = 1)\n",
    "y_pred"
   ]
  },
  {
   "cell_type": "markdown",
   "id": "46aa96de-c535-4f8a-aacc-433e1ce3e56b",
   "metadata": {},
   "source": [
    "***"
   ]
  },
  {
   "cell_type": "markdown",
   "id": "525ce0cc-a6a6-4da5-a999-c9591dc5d6d8",
   "metadata": {},
   "source": [
    "# XGBoost\n",
    "https://xgboost.readthedocs.io/en/latest/parameter.html"
   ]
  },
  {
   "cell_type": "markdown",
   "id": "3d3a29e8-170b-40bf-8db0-72ac2cd49ede",
   "metadata": {},
   "source": [
    "## - XGBoost classification on Diabetes"
   ]
  },
  {
   "cell_type": "code",
   "execution_count": 56,
   "id": "377a59d6-3e35-46f2-8782-bb284d951b6f",
   "metadata": {},
   "outputs": [],
   "source": [
    "import numpy as np\n",
    "import pandas as pd\n",
    "from xgboost import XGBClassifier\n",
    "from sklearn.model_selection import train_test_split\n",
    "from sklearn.metrics import classification_report"
   ]
  },
  {
   "cell_type": "code",
   "execution_count": 57,
   "id": "62df8aba-a8f8-4d11-992d-01364339bacb",
   "metadata": {},
   "outputs": [
    {
     "data": {
      "text/html": [
       "<div>\n",
       "<style scoped>\n",
       "    .dataframe tbody tr th:only-of-type {\n",
       "        vertical-align: middle;\n",
       "    }\n",
       "\n",
       "    .dataframe tbody tr th {\n",
       "        vertical-align: top;\n",
       "    }\n",
       "\n",
       "    .dataframe thead th {\n",
       "        text-align: right;\n",
       "    }\n",
       "</style>\n",
       "<table border=\"1\" class=\"dataframe\">\n",
       "  <thead>\n",
       "    <tr style=\"text-align: right;\">\n",
       "      <th></th>\n",
       "      <th>0</th>\n",
       "      <th>1</th>\n",
       "      <th>2</th>\n",
       "      <th>3</th>\n",
       "      <th>4</th>\n",
       "      <th>5</th>\n",
       "      <th>6</th>\n",
       "      <th>7</th>\n",
       "      <th>8</th>\n",
       "    </tr>\n",
       "  </thead>\n",
       "  <tbody>\n",
       "    <tr>\n",
       "      <th>0</th>\n",
       "      <td>6</td>\n",
       "      <td>148</td>\n",
       "      <td>72</td>\n",
       "      <td>35</td>\n",
       "      <td>0</td>\n",
       "      <td>33.6</td>\n",
       "      <td>0.627</td>\n",
       "      <td>50</td>\n",
       "      <td>1</td>\n",
       "    </tr>\n",
       "    <tr>\n",
       "      <th>1</th>\n",
       "      <td>1</td>\n",
       "      <td>85</td>\n",
       "      <td>66</td>\n",
       "      <td>29</td>\n",
       "      <td>0</td>\n",
       "      <td>26.6</td>\n",
       "      <td>0.351</td>\n",
       "      <td>31</td>\n",
       "      <td>0</td>\n",
       "    </tr>\n",
       "    <tr>\n",
       "      <th>2</th>\n",
       "      <td>8</td>\n",
       "      <td>183</td>\n",
       "      <td>64</td>\n",
       "      <td>0</td>\n",
       "      <td>0</td>\n",
       "      <td>23.3</td>\n",
       "      <td>0.672</td>\n",
       "      <td>32</td>\n",
       "      <td>1</td>\n",
       "    </tr>\n",
       "    <tr>\n",
       "      <th>3</th>\n",
       "      <td>1</td>\n",
       "      <td>89</td>\n",
       "      <td>66</td>\n",
       "      <td>23</td>\n",
       "      <td>94</td>\n",
       "      <td>28.1</td>\n",
       "      <td>0.167</td>\n",
       "      <td>21</td>\n",
       "      <td>0</td>\n",
       "    </tr>\n",
       "    <tr>\n",
       "      <th>4</th>\n",
       "      <td>0</td>\n",
       "      <td>137</td>\n",
       "      <td>40</td>\n",
       "      <td>35</td>\n",
       "      <td>168</td>\n",
       "      <td>43.1</td>\n",
       "      <td>2.288</td>\n",
       "      <td>33</td>\n",
       "      <td>1</td>\n",
       "    </tr>\n",
       "  </tbody>\n",
       "</table>\n",
       "</div>"
      ],
      "text/plain": [
       "   0    1   2   3    4     5      6   7  8\n",
       "0  6  148  72  35    0  33.6  0.627  50  1\n",
       "1  1   85  66  29    0  26.6  0.351  31  0\n",
       "2  8  183  64   0    0  23.3  0.672  32  1\n",
       "3  1   89  66  23   94  28.1  0.167  21  0\n",
       "4  0  137  40  35  168  43.1  2.288  33  1"
      ]
     },
     "execution_count": 57,
     "metadata": {},
     "output_type": "execute_result"
    }
   ],
   "source": [
    "dataset = pd.read_csv('data/pima-indians-diabetes_w10.csv', header= None)\n",
    "dataset.head()"
   ]
  },
  {
   "cell_type": "code",
   "execution_count": 58,
   "id": "ddb4d4e1-e955-4152-b897-5d1284ba58a5",
   "metadata": {},
   "outputs": [],
   "source": [
    "X = dataset.iloc[:,0:8]\n",
    "y = dataset.iloc[:,8]"
   ]
  },
  {
   "cell_type": "code",
   "execution_count": 59,
   "id": "30cb3d81-cde7-4881-b190-8fabe9cd4074",
   "metadata": {},
   "outputs": [],
   "source": [
    "X_train, X_test, y_train, y_test = train_test_split(X, y, test_size=0.33, random_state=0)"
   ]
  },
  {
   "cell_type": "code",
   "execution_count": 60,
   "id": "af5565b4-ff0f-4b07-a0cb-ebeaa91b5d85",
   "metadata": {},
   "outputs": [
    {
     "name": "stdout",
     "output_type": "stream",
     "text": [
      "XGBClassifier(base_score=0.5, booster='gbtree', callbacks=None,\n",
      "              colsample_bylevel=1, colsample_bynode=1, colsample_bytree=1,\n",
      "              early_stopping_rounds=None, enable_categorical=False,\n",
      "              eval_metric=None, gamma=0, gpu_id=-1, grow_policy='depthwise',\n",
      "              importance_type=None, interaction_constraints='',\n",
      "              learning_rate=0.300000012, max_bin=256, max_cat_to_onehot=4,\n",
      "              max_delta_step=0, max_depth=6, max_leaves=0, min_child_weight=1,\n",
      "              missing=nan, monotone_constraints='()', n_estimators=100,\n",
      "              n_jobs=0, num_parallel_tree=1, predictor='auto', random_state=0,\n",
      "              reg_alpha=0, reg_lambda=1, ...)\n"
     ]
    }
   ],
   "source": [
    "model = XGBClassifier().fit(X_train, y_train)\n",
    "print(model)"
   ]
  },
  {
   "cell_type": "code",
   "execution_count": 61,
   "id": "027c1106-b98d-4623-845c-ec59c0f30b8e",
   "metadata": {},
   "outputs": [],
   "source": [
    "y_pred = model.predict(X_test)"
   ]
  },
  {
   "cell_type": "code",
   "execution_count": 62,
   "id": "dd8b182e-7670-48cb-b89a-96c53b4f80c0",
   "metadata": {},
   "outputs": [
    {
     "name": "stdout",
     "output_type": "stream",
     "text": [
      "              precision    recall  f1-score   support\n",
      "\n",
      "           0       0.80      0.85      0.83       170\n",
      "           1       0.65      0.58      0.62        84\n",
      "\n",
      "    accuracy                           0.76       254\n",
      "   macro avg       0.73      0.72      0.72       254\n",
      "weighted avg       0.75      0.76      0.76       254\n",
      "\n"
     ]
    }
   ],
   "source": [
    "# classification report of the prediction\n",
    "print(classification_report(y_test, y_pred))"
   ]
  },
  {
   "cell_type": "markdown",
   "id": "36b7e71c-455d-4a9a-8c1e-3a3cbabae6b6",
   "metadata": {},
   "source": [
    "## - XGBoost regression on Boston Housing\n",
    "http://lib.stat.cmu.edu/datasets/boston"
   ]
  },
  {
   "cell_type": "code",
   "execution_count": 64,
   "id": "c5e6d254-ecc0-4835-ab05-fada7b69ba6a",
   "metadata": {},
   "outputs": [],
   "source": [
    "from xgboost import XGBRegressor\n",
    "from sklearn.model_selection import GridSearchCV\n",
    "from sklearn.metrics import mean_squared_error\n",
    "from sklearn.datasets import load_boston"
   ]
  },
  {
   "cell_type": "code",
   "execution_count": 65,
   "id": "fd78efe2-b08c-4aa0-a607-f2e1a280efc8",
   "metadata": {},
   "outputs": [
    {
     "data": {
      "text/plain": [
       "(506, 13)"
      ]
     },
     "execution_count": 65,
     "metadata": {},
     "output_type": "execute_result"
    }
   ],
   "source": [
    "# load dataset \n",
    "boston = load_boston()\n",
    "X = boston['data']\n",
    "y = boston['target']\n",
    "\n",
    "X.shape"
   ]
  },
  {
   "cell_type": "code",
   "execution_count": 66,
   "id": "e4b2190c-fbf8-4f0d-a2b8-81e0f4a20473",
   "metadata": {},
   "outputs": [
    {
     "data": {
      "text/plain": [
       "GridSearchCV(estimator=XGBRegressor(base_score=None, booster=None,\n",
       "                                    callbacks=None, colsample_bylevel=None,\n",
       "                                    colsample_bynode=None,\n",
       "                                    colsample_bytree=None,\n",
       "                                    early_stopping_rounds=None,\n",
       "                                    enable_categorical=False, eval_metric=None,\n",
       "                                    gamma=None, gpu_id=None, grow_policy=None,\n",
       "                                    importance_type=None,\n",
       "                                    interaction_constraints=None,\n",
       "                                    learning_rate=None, max_bin=None,\n",
       "                                    max_cat_to_onehot=None, max_delta_step=None,\n",
       "                                    max_depth=None, max_leaves=None,\n",
       "                                    min_child_weight=None, missing=nan,\n",
       "                                    monotone_constraints=None, n_estimators=100,\n",
       "                                    n_jobs=None, num_parallel_tree=None,\n",
       "                                    predictor=None, random_state=None,\n",
       "                                    reg_alpha=None, reg_lambda=None, ...),\n",
       "             param_grid={'eta': [0.1, 0.5, 1.0], 'max_depth': [2, 4, 6],\n",
       "                         'n_estimators': [50, 100, 200]})"
      ]
     },
     "execution_count": 66,
     "metadata": {},
     "output_type": "execute_result"
    }
   ],
   "source": [
    "xgb_reg = XGBRegressor()\n",
    "\n",
    "reg = GridSearchCV(xgb_reg, {'eta': [0.1, 0.5, 1.0],\n",
    "                             'n_estimators': [50,100,200],\n",
    "                             'max_depth': [2,4,6]})\n",
    "reg.fit(X,y)"
   ]
  },
  {
   "cell_type": "code",
   "execution_count": 67,
   "id": "04a1eb46-79dd-4668-8f76-582c993e89e5",
   "metadata": {},
   "outputs": [
    {
     "name": "stdout",
     "output_type": "stream",
     "text": [
      "0.6697440842543696\n",
      "\n",
      "{'eta': 0.1, 'max_depth': 2, 'n_estimators': 100}\n"
     ]
    }
   ],
   "source": [
    "print(reg.best_score_)\n",
    "print()\n",
    "print(reg.best_params_)"
   ]
  }
 ],
 "metadata": {
  "kernelspec": {
   "display_name": "Python 3 (ipykernel)",
   "language": "python",
   "name": "python3"
  },
  "language_info": {
   "codemirror_mode": {
    "name": "ipython",
    "version": 3
   },
   "file_extension": ".py",
   "mimetype": "text/x-python",
   "name": "python",
   "nbconvert_exporter": "python",
   "pygments_lexer": "ipython3",
   "version": "3.9.12"
  }
 },
 "nbformat": 4,
 "nbformat_minor": 5
}
